{
 "cells": [
  {
   "cell_type": "markdown",
   "metadata": {},
   "source": [
    "### Data Cleaning"
   ]
  },
  {
   "cell_type": "code",
   "execution_count": 156,
   "metadata": {},
   "outputs": [
    {
     "data": {
      "application/vnd.microsoft.datawrangler.viewer.v0+json": {
       "columns": [
        {
         "name": "index",
         "rawType": "int64",
         "type": "integer"
        },
        {
         "name": "1",
         "rawType": "object",
         "type": "string"
        },
        {
         "name": "2",
         "rawType": "object",
         "type": "string"
        },
        {
         "name": "3",
         "rawType": "object",
         "type": "string"
        },
        {
         "name": "4",
         "rawType": "object",
         "type": "unknown"
        },
        {
         "name": "5",
         "rawType": "object",
         "type": "unknown"
        },
        {
         "name": "6",
         "rawType": "object",
         "type": "unknown"
        },
        {
         "name": "7",
         "rawType": "object",
         "type": "string"
        },
        {
         "name": "8",
         "rawType": "object",
         "type": "string"
        },
        {
         "name": "9",
         "rawType": "object",
         "type": "unknown"
        },
        {
         "name": "10",
         "rawType": "object",
         "type": "string"
        }
       ],
       "conversionMethod": "pd.DataFrame",
       "ref": "ac561798-8d56-4520-9380-b843de3a3a4d",
       "rows": [
        [
         "0",
         "sn",
         "pclass",
         "survived",
         null,
         "gender",
         "age",
         "family",
         "fare",
         "embarked",
         "date"
        ],
        [
         "1",
         "1",
         "3",
         "0",
         "Mr. Anthony",
         "male",
         "42",
         "0",
         "7.55",
         null,
         "01-Jan-90"
        ],
        [
         "2",
         "1",
         "3",
         "0",
         "Mr. Anthony",
         "male",
         "42",
         "0",
         "7.55",
         null,
         "01-Jan-90"
        ],
        [
         "3",
         "2",
         "3",
         "0",
         "Master. Eugene Joseph",
         "male",
         "?",
         "2",
         "20.25",
         "S",
         "02-Jan-90"
        ],
        [
         "4",
         "3",
         "2",
         "0",
         "Abbott, Mr. Rossmore Edward",
         null,
         null,
         "2",
         "**",
         "S",
         "03-Jan-90"
        ],
        [
         "5",
         "4",
         "3",
         "1",
         "Abbott, Mr. Rossmore Edward",
         "female",
         "35",
         "2",
         "20.25",
         "S",
         "04-Jan-90"
        ],
        [
         "6",
         "5",
         "3",
         "1",
         "Abelseth, Miss. Karen Marie",
         "female",
         "16",
         "0",
         "7.65",
         "S",
         "05-Jan-90"
        ],
        [
         "7",
         "6",
         "3",
         "1",
         "Abelseth, Mr. Olaus Jorgensen",
         "male",
         "25",
         "0",
         "7.65",
         "S",
         "06-Jan-90"
        ],
        [
         "8",
         "7",
         "2",
         "0",
         "Abelson, Mr. Samuel",
         "male",
         "30",
         "1",
         "24",
         "C",
         "07-Jan-90"
        ],
        [
         "9",
         "8",
         "2",
         "1",
         "Abelson, Mrs. Samuel (Hannah Wizosky)",
         "female",
         "28",
         "1",
         "24",
         "C",
         "08-Jan-90"
        ]
       ],
       "shape": {
        "columns": 10,
        "rows": 10
       }
      },
      "text/html": [
       "<div>\n",
       "<style scoped>\n",
       "    .dataframe tbody tr th:only-of-type {\n",
       "        vertical-align: middle;\n",
       "    }\n",
       "\n",
       "    .dataframe tbody tr th {\n",
       "        vertical-align: top;\n",
       "    }\n",
       "\n",
       "    .dataframe thead th {\n",
       "        text-align: right;\n",
       "    }\n",
       "</style>\n",
       "<table border=\"1\" class=\"dataframe\">\n",
       "  <thead>\n",
       "    <tr style=\"text-align: right;\">\n",
       "      <th></th>\n",
       "      <th>1</th>\n",
       "      <th>2</th>\n",
       "      <th>3</th>\n",
       "      <th>4</th>\n",
       "      <th>5</th>\n",
       "      <th>6</th>\n",
       "      <th>7</th>\n",
       "      <th>8</th>\n",
       "      <th>9</th>\n",
       "      <th>10</th>\n",
       "    </tr>\n",
       "  </thead>\n",
       "  <tbody>\n",
       "    <tr>\n",
       "      <th>0</th>\n",
       "      <td>sn</td>\n",
       "      <td>pclass</td>\n",
       "      <td>survived</td>\n",
       "      <td>NaN</td>\n",
       "      <td>gender</td>\n",
       "      <td>age</td>\n",
       "      <td>family</td>\n",
       "      <td>fare</td>\n",
       "      <td>embarked</td>\n",
       "      <td>date</td>\n",
       "    </tr>\n",
       "    <tr>\n",
       "      <th>1</th>\n",
       "      <td>1</td>\n",
       "      <td>3</td>\n",
       "      <td>0</td>\n",
       "      <td>Mr. Anthony</td>\n",
       "      <td>male</td>\n",
       "      <td>42</td>\n",
       "      <td>0</td>\n",
       "      <td>7.55</td>\n",
       "      <td>NaN</td>\n",
       "      <td>01-Jan-90</td>\n",
       "    </tr>\n",
       "    <tr>\n",
       "      <th>2</th>\n",
       "      <td>1</td>\n",
       "      <td>3</td>\n",
       "      <td>0</td>\n",
       "      <td>Mr. Anthony</td>\n",
       "      <td>male</td>\n",
       "      <td>42</td>\n",
       "      <td>0</td>\n",
       "      <td>7.55</td>\n",
       "      <td>NaN</td>\n",
       "      <td>01-Jan-90</td>\n",
       "    </tr>\n",
       "    <tr>\n",
       "      <th>3</th>\n",
       "      <td>2</td>\n",
       "      <td>3</td>\n",
       "      <td>0</td>\n",
       "      <td>Master. Eugene Joseph</td>\n",
       "      <td>male</td>\n",
       "      <td>?</td>\n",
       "      <td>2</td>\n",
       "      <td>20.25</td>\n",
       "      <td>S</td>\n",
       "      <td>02-Jan-90</td>\n",
       "    </tr>\n",
       "    <tr>\n",
       "      <th>4</th>\n",
       "      <td>3</td>\n",
       "      <td>2</td>\n",
       "      <td>0</td>\n",
       "      <td>Abbott, Mr. Rossmore Edward</td>\n",
       "      <td>NaN</td>\n",
       "      <td>NaN</td>\n",
       "      <td>2</td>\n",
       "      <td>**</td>\n",
       "      <td>S</td>\n",
       "      <td>03-Jan-90</td>\n",
       "    </tr>\n",
       "    <tr>\n",
       "      <th>5</th>\n",
       "      <td>4</td>\n",
       "      <td>3</td>\n",
       "      <td>1</td>\n",
       "      <td>Abbott, Mr. Rossmore Edward</td>\n",
       "      <td>female</td>\n",
       "      <td>35</td>\n",
       "      <td>2</td>\n",
       "      <td>20.25</td>\n",
       "      <td>S</td>\n",
       "      <td>04-Jan-90</td>\n",
       "    </tr>\n",
       "    <tr>\n",
       "      <th>6</th>\n",
       "      <td>5</td>\n",
       "      <td>3</td>\n",
       "      <td>1</td>\n",
       "      <td>Abelseth, Miss. Karen Marie</td>\n",
       "      <td>female</td>\n",
       "      <td>16</td>\n",
       "      <td>0</td>\n",
       "      <td>7.65</td>\n",
       "      <td>S</td>\n",
       "      <td>05-Jan-90</td>\n",
       "    </tr>\n",
       "    <tr>\n",
       "      <th>7</th>\n",
       "      <td>6</td>\n",
       "      <td>3</td>\n",
       "      <td>1</td>\n",
       "      <td>Abelseth, Mr. Olaus Jorgensen</td>\n",
       "      <td>male</td>\n",
       "      <td>25</td>\n",
       "      <td>0</td>\n",
       "      <td>7.65</td>\n",
       "      <td>S</td>\n",
       "      <td>06-Jan-90</td>\n",
       "    </tr>\n",
       "    <tr>\n",
       "      <th>8</th>\n",
       "      <td>7</td>\n",
       "      <td>2</td>\n",
       "      <td>0</td>\n",
       "      <td>Abelson, Mr. Samuel</td>\n",
       "      <td>male</td>\n",
       "      <td>30</td>\n",
       "      <td>1</td>\n",
       "      <td>24</td>\n",
       "      <td>C</td>\n",
       "      <td>07-Jan-90</td>\n",
       "    </tr>\n",
       "    <tr>\n",
       "      <th>9</th>\n",
       "      <td>8</td>\n",
       "      <td>2</td>\n",
       "      <td>1</td>\n",
       "      <td>Abelson, Mrs. Samuel (Hannah Wizosky)</td>\n",
       "      <td>female</td>\n",
       "      <td>28</td>\n",
       "      <td>1</td>\n",
       "      <td>24</td>\n",
       "      <td>C</td>\n",
       "      <td>08-Jan-90</td>\n",
       "    </tr>\n",
       "  </tbody>\n",
       "</table>\n",
       "</div>"
      ],
      "text/plain": [
       "    1       2         3                                      4       5    6  \\\n",
       "0  sn  pclass  survived                                    NaN  gender  age   \n",
       "1   1       3         0                            Mr. Anthony    male   42   \n",
       "2   1       3         0                            Mr. Anthony    male   42   \n",
       "3   2       3         0                  Master. Eugene Joseph    male    ?   \n",
       "4   3       2         0            Abbott, Mr. Rossmore Edward     NaN  NaN   \n",
       "5   4       3         1            Abbott, Mr. Rossmore Edward  female   35   \n",
       "6   5       3         1            Abelseth, Miss. Karen Marie  female   16   \n",
       "7   6       3         1          Abelseth, Mr. Olaus Jorgensen    male   25   \n",
       "8   7       2         0                    Abelson, Mr. Samuel    male   30   \n",
       "9   8       2         1  Abelson, Mrs. Samuel (Hannah Wizosky)  female   28   \n",
       "\n",
       "        7      8         9         10  \n",
       "0  family   fare  embarked       date  \n",
       "1       0   7.55       NaN  01-Jan-90  \n",
       "2       0   7.55       NaN  01-Jan-90  \n",
       "3       2  20.25         S  02-Jan-90  \n",
       "4       2     **         S  03-Jan-90  \n",
       "5       2  20.25         S  04-Jan-90  \n",
       "6       0   7.65         S  05-Jan-90  \n",
       "7       0   7.65         S  06-Jan-90  \n",
       "8       1     24         C  07-Jan-90  \n",
       "9       1     24         C  08-Jan-90  "
      ]
     },
     "execution_count": 156,
     "metadata": {},
     "output_type": "execute_result"
    }
   ],
   "source": [
    "import pandas as pd\n",
    "import numpy as np\n",
    "import matplotlib.pyplot as plt\n",
    "import seaborn as sns\n",
    "import sklearn\n",
    "titanic = pd.read_csv(\"/home/thetwumasi/Desktop/workdev/Titanic_Survival_Prediction_Analysis/The Titanic dataset.csv\")\n",
    "\n",
    "the_titanic = pd.read_csv(\"/home/thetwumasi/Desktop/workdev/Titanic_Survival_Prediction_Analysis/The Titanic dataset.csv\")\n",
    "# the_titanic = pd.read_csv(\"../datasets/The Titanic dataset.csv\", header=1)\n",
    "\n",
    "\n",
    "the_titanic.head(10)\n",
    "\n"
   ]
  },
  {
   "cell_type": "code",
   "execution_count": 157,
   "metadata": {},
   "outputs": [
    {
     "data": {
      "application/vnd.microsoft.datawrangler.viewer.v0+json": {
       "columns": [
        {
         "name": "index",
         "rawType": "int64",
         "type": "integer"
        },
        {
         "name": "sn",
         "rawType": "object",
         "type": "string"
        },
        {
         "name": "pclass",
         "rawType": "object",
         "type": "string"
        },
        {
         "name": "survived",
         "rawType": "object",
         "type": "string"
        },
        {
         "name": "nan",
         "rawType": "object",
         "type": "string"
        },
        {
         "name": "gender",
         "rawType": "object",
         "type": "unknown"
        },
        {
         "name": "age",
         "rawType": "object",
         "type": "unknown"
        },
        {
         "name": "family",
         "rawType": "object",
         "type": "unknown"
        },
        {
         "name": "fare",
         "rawType": "object",
         "type": "unknown"
        },
        {
         "name": "embarked",
         "rawType": "object",
         "type": "unknown"
        },
        {
         "name": "date",
         "rawType": "object",
         "type": "string"
        }
       ],
       "conversionMethod": "pd.DataFrame",
       "ref": "d336f015-7d6a-4c2d-a74a-fe00eaaf19de",
       "rows": [
        [
         "0",
         "1",
         "3",
         "0",
         "Mr. Anthony",
         "male",
         "42",
         "0",
         "7.55",
         null,
         "01-Jan-90"
        ],
        [
         "1",
         "1",
         "3",
         "0",
         "Mr. Anthony",
         "male",
         "42",
         "0",
         "7.55",
         null,
         "01-Jan-90"
        ],
        [
         "2",
         "2",
         "3",
         "0",
         "Master. Eugene Joseph",
         "male",
         "?",
         "2",
         "20.25",
         "S",
         "02-Jan-90"
        ],
        [
         "3",
         "3",
         "2",
         "0",
         "Abbott, Mr. Rossmore Edward",
         null,
         null,
         "2",
         "**",
         "S",
         "03-Jan-90"
        ],
        [
         "4",
         "4",
         "3",
         "1",
         "Abbott, Mr. Rossmore Edward",
         "female",
         "35",
         "2",
         "20.25",
         "S",
         "04-Jan-90"
        ],
        [
         "5",
         "5",
         "3",
         "1",
         "Abelseth, Miss. Karen Marie",
         "female",
         "16",
         "0",
         "7.65",
         "S",
         "05-Jan-90"
        ],
        [
         "6",
         "6",
         "3",
         "1",
         "Abelseth, Mr. Olaus Jorgensen",
         "male",
         "25",
         "0",
         "7.65",
         "S",
         "06-Jan-90"
        ],
        [
         "7",
         "7",
         "2",
         "0",
         "Abelson, Mr. Samuel",
         "male",
         "30",
         "1",
         "24",
         "C",
         "07-Jan-90"
        ],
        [
         "8",
         "8",
         "2",
         "1",
         "Abelson, Mrs. Samuel (Hannah Wizosky)",
         "female",
         "28",
         "1",
         "24",
         "C",
         "08-Jan-90"
        ],
        [
         "9",
         "9",
         "3",
         "1",
         "Abrahamsson, Mr. Abraham August Johannes",
         "male",
         "20",
         "0",
         "7.925",
         "S",
         "09-Jan-90"
        ],
        [
         "10",
         "10",
         "3",
         "1",
         "Abrahim, Mrs. Joseph (Sophie Halaut Easu)",
         "female",
         "18",
         "0",
         "7.2292",
         "C",
         "10-Jan-90"
        ],
        [
         "11",
         "11",
         "3",
         "0",
         "Adahl, Mr. Mauritz Nils Martin",
         "male",
         "30",
         "0",
         "7.25",
         "S",
         "11-Jan-90"
        ],
        [
         "12",
         "12",
         "3",
         "0",
         "Adams, Mr. John",
         "male",
         "26",
         "0",
         "8.05",
         "S",
         "12-Jan-90"
        ],
        [
         "13",
         "13",
         "3",
         "0",
         "Ahlin, Mrs. Johan (Johanna Persdotter Larsson)",
         "female",
         "40",
         "1",
         "9.475",
         "S",
         "13-Jan-90"
        ],
        [
         "14",
         "14",
         "3",
         "1",
         "Aks, Master. Philip Frank",
         "male",
         "0.83",
         "1",
         "9.35",
         "S",
         "14-Jan-90"
        ],
        [
         "15",
         "15",
         "3",
         "1",
         "Aks, Mrs. Sam (Leah Rosen)",
         "female",
         "18",
         "1",
         "9.35",
         "S",
         "15-Jan-90"
        ],
        [
         "16",
         "16",
         "3",
         "1",
         "Albimona, Mr. Nassef Cassem",
         "male",
         "26",
         "0",
         "18.7875",
         "C",
         "16-Jan-90"
        ],
        [
         "17",
         "17",
         "2",
         "0",
         "Aldworth, Mr. Charles Augustus",
         "male",
         "30",
         "0",
         "13",
         "S",
         "17-Jan-90"
        ],
        [
         "18",
         "18",
         "3",
         "0",
         "Alexander, Mr. William",
         "male",
         "26",
         "0",
         "7.8875",
         "S",
         "18-Jan-90"
        ],
        [
         "19",
         "19",
         "3",
         "0",
         "Alhomaki, Mr. Ilmari Rudolf",
         "male",
         "20",
         "0",
         "7.925",
         "S",
         "19-Jan-90"
        ],
        [
         "20",
         "20",
         "3",
         "0",
         "Ali, Mr. Ahmed",
         "male",
         "24",
         "0",
         "7.05",
         "S",
         "20-Jan-90"
        ],
        [
         "21",
         "21",
         "3",
         "0",
         "Ali, Mr. William",
         "male",
         "25",
         "0",
         "7.05",
         "S",
         "21-Jan-90"
        ],
        [
         "22",
         "22",
         "1",
         "1",
         "Allen, Miss. Elisabeth Walton",
         "female",
         "29",
         "0",
         "211.3375",
         "S",
         "22-Jan-90"
        ],
        [
         "23",
         "23",
         "3",
         "0",
         "Allen, Mr. William Henry",
         "male",
         "35",
         "0",
         "8.05",
         "S",
         "23-Jan-90"
        ],
        [
         "24",
         "24",
         "1",
         "1",
         "Allison, Master. Hudson Trevor",
         "male",
         "0.92",
         "3",
         "151.55",
         "S",
         "24-Jan-90"
        ],
        [
         "25",
         "25",
         "1",
         "0",
         "Allison, Miss. Helen Loraine",
         "female",
         "2",
         "3",
         "151.55",
         "S",
         "25-Jan-90"
        ],
        [
         "26",
         "26",
         "1",
         "0",
         "Allison, Mr. Hudson Joshua Creighton",
         "male",
         "30",
         "3",
         "151.55",
         "S",
         "26-Jan-90"
        ],
        [
         "27",
         "27",
         "1",
         "0",
         "Allison, Mrs. Hudson J C (Bessie Waldo Daniels)",
         "female",
         "25",
         "3",
         "151.55",
         "S",
         "27-Jan-90"
        ],
        [
         "28",
         "28",
         "3",
         "0",
         "Allum, Mr. Owen George",
         "male",
         "18",
         "0",
         "8.3",
         "S",
         "28-Jan-90"
        ],
        [
         "29",
         "29",
         "3",
         "0",
         "Andersen, Mr. Albert Karvin",
         "male",
         "32",
         "0",
         "22.525",
         "S",
         "29-Jan-90"
        ],
        [
         "30",
         "30",
         "3",
         "1",
         "Andersen-Jensen, Miss. Carla Christine Nielsine",
         "female",
         "19",
         "1",
         "7.8542",
         "S",
         "30-Jan-90"
        ],
        [
         "31",
         "31",
         "1",
         "1",
         "Anderson, Mr. Harry",
         "male",
         "48",
         "0",
         "26.55",
         "S",
         "31-Jan-90"
        ],
        [
         "32",
         "32",
         "3",
         "0",
         "Andersson, Master. Sigvard Harald Elias",
         "male",
         "4",
         "6",
         "31.275",
         "S",
         "01-Feb-90"
        ],
        [
         "33",
         "33",
         "3",
         "0",
         "Andersson, Miss. Ebba Iris Alfrida",
         "female",
         "6",
         "6",
         "31.275",
         "S",
         "02-Feb-90"
        ],
        [
         "34",
         "34",
         "3",
         "0",
         "Andersson, Miss. Ellis Anna Maria",
         "female",
         "2",
         "6",
         "31.275",
         "S",
         "03-Feb-90"
        ],
        [
         "35",
         "35",
         "3",
         "1",
         "Andersson, Miss. Erna Alexandra",
         "female",
         "17",
         "6",
         "7.925",
         "S",
         "04-Feb-90"
        ],
        [
         "36",
         "36",
         "3",
         "0",
         "Andersson, Miss. Ida Augusta Margareta",
         "female",
         "38",
         "6",
         "7.775",
         "S",
         "05-Feb-90"
        ],
        [
         "37",
         "37",
         "3",
         "0",
         "Andersson, Miss. Ingeborg Constanzia",
         "female",
         "9",
         "6",
         "31.275",
         "S",
         "06-Feb-90"
        ],
        [
         "38",
         "38",
         "3",
         "0",
         "Andersson, Miss. Sigrid Elisabeth",
         "female",
         "11",
         "6",
         "31.275",
         "S",
         "07-Feb-90"
        ],
        [
         "39",
         "39",
         "3",
         "0",
         "Andersson, Mr. Anders Johan",
         "male",
         "39",
         "6",
         "31.275",
         "S",
         "08-Feb-90"
        ],
        [
         "40",
         "40",
         "3",
         "1",
         "Andersson, Mr. August Edvard (\"Wennerstrom\")",
         "male",
         "27",
         "0",
         "7.7958",
         "S",
         "09-Feb-90"
        ],
        [
         "41",
         "41",
         "3",
         "0",
         "Andersson, Mr. Johan Samuel",
         "male",
         "26",
         "0",
         "7.775",
         "S",
         "10-Feb-90"
        ],
        [
         "42",
         "42",
         "3",
         "0",
         "Andersson, Mrs. Anders Johan (Alfrida Konstantia Brogren)",
         "female",
         "39",
         "6",
         "31.275",
         "S",
         "11-Feb-90"
        ],
        [
         "43",
         "43",
         "3",
         "0",
         "Andreasson, Mr. Paul Edvin",
         "male",
         "20",
         "0",
         "7.8542",
         "S",
         "12-Feb-90"
        ],
        [
         "44",
         "44",
         "2",
         "0",
         "Andrew, Mr. Edgardo Samuel",
         "male",
         "18",
         "0",
         "11.5",
         "S",
         "13-Feb-90"
        ],
        [
         "45",
         "45",
         "2",
         "0",
         "Andrew, Mr. Frank Thomas",
         "male",
         "25",
         "0",
         "10.5",
         "S",
         "14-Feb-90"
        ],
        [
         "46",
         "46",
         "1",
         "1",
         "Andrews, Miss. Kornelia Theodosia",
         "female",
         "63",
         "1",
         "77.9583",
         "S",
         "15-Feb-90"
        ],
        [
         "47",
         "47",
         "1",
         "0",
         "Andrews, Mr. Thomas Jr",
         "male",
         "39",
         "0",
         "0",
         "S",
         "16-Feb-90"
        ],
        [
         "48",
         "48",
         "3",
         "0",
         "Angheloff, Mr. Minko",
         "male",
         "26",
         "0",
         "7.8958",
         "S",
         "17-Feb-90"
        ],
        [
         "49",
         "49",
         "2",
         "0",
         "Angle, Mr. William A",
         "male",
         "34",
         "1",
         "26",
         "S",
         "18-Feb-90"
        ]
       ],
       "shape": {
        "columns": 10,
        "rows": 1301
       }
      },
      "text/html": [
       "<div>\n",
       "<style scoped>\n",
       "    .dataframe tbody tr th:only-of-type {\n",
       "        vertical-align: middle;\n",
       "    }\n",
       "\n",
       "    .dataframe tbody tr th {\n",
       "        vertical-align: top;\n",
       "    }\n",
       "\n",
       "    .dataframe thead th {\n",
       "        text-align: right;\n",
       "    }\n",
       "</style>\n",
       "<table border=\"1\" class=\"dataframe\">\n",
       "  <thead>\n",
       "    <tr style=\"text-align: right;\">\n",
       "      <th></th>\n",
       "      <th>sn</th>\n",
       "      <th>pclass</th>\n",
       "      <th>survived</th>\n",
       "      <th>NaN</th>\n",
       "      <th>gender</th>\n",
       "      <th>age</th>\n",
       "      <th>family</th>\n",
       "      <th>fare</th>\n",
       "      <th>embarked</th>\n",
       "      <th>date</th>\n",
       "    </tr>\n",
       "  </thead>\n",
       "  <tbody>\n",
       "    <tr>\n",
       "      <th>0</th>\n",
       "      <td>1</td>\n",
       "      <td>3</td>\n",
       "      <td>0</td>\n",
       "      <td>Mr. Anthony</td>\n",
       "      <td>male</td>\n",
       "      <td>42</td>\n",
       "      <td>0</td>\n",
       "      <td>7.55</td>\n",
       "      <td>NaN</td>\n",
       "      <td>01-Jan-90</td>\n",
       "    </tr>\n",
       "    <tr>\n",
       "      <th>1</th>\n",
       "      <td>1</td>\n",
       "      <td>3</td>\n",
       "      <td>0</td>\n",
       "      <td>Mr. Anthony</td>\n",
       "      <td>male</td>\n",
       "      <td>42</td>\n",
       "      <td>0</td>\n",
       "      <td>7.55</td>\n",
       "      <td>NaN</td>\n",
       "      <td>01-Jan-90</td>\n",
       "    </tr>\n",
       "    <tr>\n",
       "      <th>2</th>\n",
       "      <td>2</td>\n",
       "      <td>3</td>\n",
       "      <td>0</td>\n",
       "      <td>Master. Eugene Joseph</td>\n",
       "      <td>male</td>\n",
       "      <td>?</td>\n",
       "      <td>2</td>\n",
       "      <td>20.25</td>\n",
       "      <td>S</td>\n",
       "      <td>02-Jan-90</td>\n",
       "    </tr>\n",
       "    <tr>\n",
       "      <th>3</th>\n",
       "      <td>3</td>\n",
       "      <td>2</td>\n",
       "      <td>0</td>\n",
       "      <td>Abbott, Mr. Rossmore Edward</td>\n",
       "      <td>NaN</td>\n",
       "      <td>NaN</td>\n",
       "      <td>2</td>\n",
       "      <td>**</td>\n",
       "      <td>S</td>\n",
       "      <td>03-Jan-90</td>\n",
       "    </tr>\n",
       "    <tr>\n",
       "      <th>4</th>\n",
       "      <td>4</td>\n",
       "      <td>3</td>\n",
       "      <td>1</td>\n",
       "      <td>Abbott, Mr. Rossmore Edward</td>\n",
       "      <td>female</td>\n",
       "      <td>35</td>\n",
       "      <td>2</td>\n",
       "      <td>20.25</td>\n",
       "      <td>S</td>\n",
       "      <td>04-Jan-90</td>\n",
       "    </tr>\n",
       "    <tr>\n",
       "      <th>...</th>\n",
       "      <td>...</td>\n",
       "      <td>...</td>\n",
       "      <td>...</td>\n",
       "      <td>...</td>\n",
       "      <td>...</td>\n",
       "      <td>...</td>\n",
       "      <td>...</td>\n",
       "      <td>...</td>\n",
       "      <td>...</td>\n",
       "      <td>...</td>\n",
       "    </tr>\n",
       "    <tr>\n",
       "      <th>1296</th>\n",
       "      <td>1296</td>\n",
       "      <td>2</td>\n",
       "      <td>0</td>\n",
       "      <td>Yrois, Miss. Henriette (\"Mrs Harbeck\")</td>\n",
       "      <td>female</td>\n",
       "      <td>24</td>\n",
       "      <td>0</td>\n",
       "      <td>13</td>\n",
       "      <td>S</td>\n",
       "      <td>19-Jul-93</td>\n",
       "    </tr>\n",
       "    <tr>\n",
       "      <th>1297</th>\n",
       "      <td>1297</td>\n",
       "      <td>3</td>\n",
       "      <td>0</td>\n",
       "      <td>Zabour, Miss. Hileni</td>\n",
       "      <td>female</td>\n",
       "      <td>14.5</td>\n",
       "      <td>1</td>\n",
       "      <td>14.4542</td>\n",
       "      <td>C</td>\n",
       "      <td>20-Jul-93</td>\n",
       "    </tr>\n",
       "    <tr>\n",
       "      <th>1298</th>\n",
       "      <td>1298</td>\n",
       "      <td>3</td>\n",
       "      <td>0</td>\n",
       "      <td>Zakarian, Mr. Mapriededer</td>\n",
       "      <td>male</td>\n",
       "      <td>26.5</td>\n",
       "      <td>0</td>\n",
       "      <td>7.225</td>\n",
       "      <td>C</td>\n",
       "      <td>21-Jul-93</td>\n",
       "    </tr>\n",
       "    <tr>\n",
       "      <th>1299</th>\n",
       "      <td>1299</td>\n",
       "      <td>3</td>\n",
       "      <td>0</td>\n",
       "      <td>Zakarian, Mr. Ortin</td>\n",
       "      <td>male</td>\n",
       "      <td>27</td>\n",
       "      <td>0</td>\n",
       "      <td>7.225</td>\n",
       "      <td>C</td>\n",
       "      <td>22-Jul-93</td>\n",
       "    </tr>\n",
       "    <tr>\n",
       "      <th>1300</th>\n",
       "      <td>1300</td>\n",
       "      <td>3</td>\n",
       "      <td>0</td>\n",
       "      <td>Zimmerman, Mr. Leo</td>\n",
       "      <td>male</td>\n",
       "      <td>29</td>\n",
       "      <td>0</td>\n",
       "      <td>7.875</td>\n",
       "      <td>S</td>\n",
       "      <td>23-Jul-93</td>\n",
       "    </tr>\n",
       "  </tbody>\n",
       "</table>\n",
       "<p>1301 rows × 10 columns</p>\n",
       "</div>"
      ],
      "text/plain": [
       "0       sn pclass survived                                     NaN  gender  \\\n",
       "0        1      3        0                             Mr. Anthony    male   \n",
       "1        1      3        0                             Mr. Anthony    male   \n",
       "2        2      3        0                   Master. Eugene Joseph    male   \n",
       "3        3      2        0             Abbott, Mr. Rossmore Edward     NaN   \n",
       "4        4      3        1             Abbott, Mr. Rossmore Edward  female   \n",
       "...    ...    ...      ...                                     ...     ...   \n",
       "1296  1296      2        0  Yrois, Miss. Henriette (\"Mrs Harbeck\")  female   \n",
       "1297  1297      3        0                    Zabour, Miss. Hileni  female   \n",
       "1298  1298      3        0               Zakarian, Mr. Mapriededer    male   \n",
       "1299  1299      3        0                     Zakarian, Mr. Ortin    male   \n",
       "1300  1300      3        0                      Zimmerman, Mr. Leo    male   \n",
       "\n",
       "0      age family     fare embarked       date  \n",
       "0       42      0     7.55      NaN  01-Jan-90  \n",
       "1       42      0     7.55      NaN  01-Jan-90  \n",
       "2        ?      2    20.25        S  02-Jan-90  \n",
       "3      NaN      2       **        S  03-Jan-90  \n",
       "4       35      2    20.25        S  04-Jan-90  \n",
       "...    ...    ...      ...      ...        ...  \n",
       "1296    24      0       13        S  19-Jul-93  \n",
       "1297  14.5      1  14.4542        C  20-Jul-93  \n",
       "1298  26.5      0    7.225        C  21-Jul-93  \n",
       "1299    27      0    7.225        C  22-Jul-93  \n",
       "1300    29      0    7.875        S  23-Jul-93  \n",
       "\n",
       "[1301 rows x 10 columns]"
      ]
     },
     "execution_count": 157,
     "metadata": {},
     "output_type": "execute_result"
    }
   ],
   "source": [
    "the_titanic.columns = the_titanic.iloc[0]\n",
    "the_titanic_df= the_titanic[1:].reset_index(drop=True)\n",
    "the_titanic_df\n"
   ]
  },
  {
   "cell_type": "code",
   "execution_count": 158,
   "metadata": {},
   "outputs": [
    {
     "data": {
      "application/vnd.microsoft.datawrangler.viewer.v0+json": {
       "columns": [
        {
         "name": "index",
         "rawType": "int64",
         "type": "integer"
        },
        {
         "name": "sn",
         "rawType": "object",
         "type": "string"
        },
        {
         "name": "pclass",
         "rawType": "object",
         "type": "string"
        },
        {
         "name": "survived",
         "rawType": "object",
         "type": "string"
        },
        {
         "name": "name",
         "rawType": "object",
         "type": "string"
        },
        {
         "name": "gender",
         "rawType": "object",
         "type": "unknown"
        },
        {
         "name": "age",
         "rawType": "object",
         "type": "unknown"
        },
        {
         "name": "family",
         "rawType": "object",
         "type": "unknown"
        },
        {
         "name": "fare",
         "rawType": "object",
         "type": "unknown"
        },
        {
         "name": "embarked",
         "rawType": "object",
         "type": "unknown"
        },
        {
         "name": "date",
         "rawType": "object",
         "type": "string"
        }
       ],
       "conversionMethod": "pd.DataFrame",
       "ref": "a18b1bfe-6a95-4725-8ece-4f21e84d12d1",
       "rows": [
        [
         "0",
         "1",
         "3",
         "0",
         "Mr. Anthony",
         "male",
         "42",
         "0",
         "7.55",
         null,
         "01-Jan-90"
        ],
        [
         "2",
         "2",
         "3",
         "0",
         "Master. Eugene Joseph",
         "male",
         "?",
         "2",
         "20.25",
         "S",
         "02-Jan-90"
        ],
        [
         "3",
         "3",
         "2",
         "0",
         "Abbott, Mr. Rossmore Edward",
         null,
         null,
         "2",
         "**",
         "S",
         "03-Jan-90"
        ],
        [
         "4",
         "4",
         "3",
         "1",
         "Abbott, Mr. Rossmore Edward",
         "female",
         "35",
         "2",
         "20.25",
         "S",
         "04-Jan-90"
        ],
        [
         "5",
         "5",
         "3",
         "1",
         "Abelseth, Miss. Karen Marie",
         "female",
         "16",
         "0",
         "7.65",
         "S",
         "05-Jan-90"
        ],
        [
         "6",
         "6",
         "3",
         "1",
         "Abelseth, Mr. Olaus Jorgensen",
         "male",
         "25",
         "0",
         "7.65",
         "S",
         "06-Jan-90"
        ],
        [
         "7",
         "7",
         "2",
         "0",
         "Abelson, Mr. Samuel",
         "male",
         "30",
         "1",
         "24",
         "C",
         "07-Jan-90"
        ],
        [
         "8",
         "8",
         "2",
         "1",
         "Abelson, Mrs. Samuel (Hannah Wizosky)",
         "female",
         "28",
         "1",
         "24",
         "C",
         "08-Jan-90"
        ],
        [
         "9",
         "9",
         "3",
         "1",
         "Abrahamsson, Mr. Abraham August Johannes",
         "male",
         "20",
         "0",
         "7.925",
         "S",
         "09-Jan-90"
        ],
        [
         "10",
         "10",
         "3",
         "1",
         "Abrahim, Mrs. Joseph (Sophie Halaut Easu)",
         "female",
         "18",
         "0",
         "7.2292",
         "C",
         "10-Jan-90"
        ],
        [
         "11",
         "11",
         "3",
         "0",
         "Adahl, Mr. Mauritz Nils Martin",
         "male",
         "30",
         "0",
         "7.25",
         "S",
         "11-Jan-90"
        ],
        [
         "12",
         "12",
         "3",
         "0",
         "Adams, Mr. John",
         "male",
         "26",
         "0",
         "8.05",
         "S",
         "12-Jan-90"
        ],
        [
         "13",
         "13",
         "3",
         "0",
         "Ahlin, Mrs. Johan (Johanna Persdotter Larsson)",
         "female",
         "40",
         "1",
         "9.475",
         "S",
         "13-Jan-90"
        ],
        [
         "14",
         "14",
         "3",
         "1",
         "Aks, Master. Philip Frank",
         "male",
         "0.83",
         "1",
         "9.35",
         "S",
         "14-Jan-90"
        ],
        [
         "15",
         "15",
         "3",
         "1",
         "Aks, Mrs. Sam (Leah Rosen)",
         "female",
         "18",
         "1",
         "9.35",
         "S",
         "15-Jan-90"
        ],
        [
         "16",
         "16",
         "3",
         "1",
         "Albimona, Mr. Nassef Cassem",
         "male",
         "26",
         "0",
         "18.7875",
         "C",
         "16-Jan-90"
        ],
        [
         "17",
         "17",
         "2",
         "0",
         "Aldworth, Mr. Charles Augustus",
         "male",
         "30",
         "0",
         "13",
         "S",
         "17-Jan-90"
        ],
        [
         "18",
         "18",
         "3",
         "0",
         "Alexander, Mr. William",
         "male",
         "26",
         "0",
         "7.8875",
         "S",
         "18-Jan-90"
        ],
        [
         "19",
         "19",
         "3",
         "0",
         "Alhomaki, Mr. Ilmari Rudolf",
         "male",
         "20",
         "0",
         "7.925",
         "S",
         "19-Jan-90"
        ],
        [
         "20",
         "20",
         "3",
         "0",
         "Ali, Mr. Ahmed",
         "male",
         "24",
         "0",
         "7.05",
         "S",
         "20-Jan-90"
        ],
        [
         "21",
         "21",
         "3",
         "0",
         "Ali, Mr. William",
         "male",
         "25",
         "0",
         "7.05",
         "S",
         "21-Jan-90"
        ],
        [
         "22",
         "22",
         "1",
         "1",
         "Allen, Miss. Elisabeth Walton",
         "female",
         "29",
         "0",
         "211.3375",
         "S",
         "22-Jan-90"
        ],
        [
         "23",
         "23",
         "3",
         "0",
         "Allen, Mr. William Henry",
         "male",
         "35",
         "0",
         "8.05",
         "S",
         "23-Jan-90"
        ],
        [
         "24",
         "24",
         "1",
         "1",
         "Allison, Master. Hudson Trevor",
         "male",
         "0.92",
         "3",
         "151.55",
         "S",
         "24-Jan-90"
        ],
        [
         "25",
         "25",
         "1",
         "0",
         "Allison, Miss. Helen Loraine",
         "female",
         "2",
         "3",
         "151.55",
         "S",
         "25-Jan-90"
        ],
        [
         "26",
         "26",
         "1",
         "0",
         "Allison, Mr. Hudson Joshua Creighton",
         "male",
         "30",
         "3",
         "151.55",
         "S",
         "26-Jan-90"
        ],
        [
         "27",
         "27",
         "1",
         "0",
         "Allison, Mrs. Hudson J C (Bessie Waldo Daniels)",
         "female",
         "25",
         "3",
         "151.55",
         "S",
         "27-Jan-90"
        ],
        [
         "28",
         "28",
         "3",
         "0",
         "Allum, Mr. Owen George",
         "male",
         "18",
         "0",
         "8.3",
         "S",
         "28-Jan-90"
        ],
        [
         "29",
         "29",
         "3",
         "0",
         "Andersen, Mr. Albert Karvin",
         "male",
         "32",
         "0",
         "22.525",
         "S",
         "29-Jan-90"
        ],
        [
         "30",
         "30",
         "3",
         "1",
         "Andersen-Jensen, Miss. Carla Christine Nielsine",
         "female",
         "19",
         "1",
         "7.8542",
         "S",
         "30-Jan-90"
        ],
        [
         "31",
         "31",
         "1",
         "1",
         "Anderson, Mr. Harry",
         "male",
         "48",
         "0",
         "26.55",
         "S",
         "31-Jan-90"
        ],
        [
         "32",
         "32",
         "3",
         "0",
         "Andersson, Master. Sigvard Harald Elias",
         "male",
         "4",
         "6",
         "31.275",
         "S",
         "01-Feb-90"
        ],
        [
         "33",
         "33",
         "3",
         "0",
         "Andersson, Miss. Ebba Iris Alfrida",
         "female",
         "6",
         "6",
         "31.275",
         "S",
         "02-Feb-90"
        ],
        [
         "34",
         "34",
         "3",
         "0",
         "Andersson, Miss. Ellis Anna Maria",
         "female",
         "2",
         "6",
         "31.275",
         "S",
         "03-Feb-90"
        ],
        [
         "35",
         "35",
         "3",
         "1",
         "Andersson, Miss. Erna Alexandra",
         "female",
         "17",
         "6",
         "7.925",
         "S",
         "04-Feb-90"
        ],
        [
         "36",
         "36",
         "3",
         "0",
         "Andersson, Miss. Ida Augusta Margareta",
         "female",
         "38",
         "6",
         "7.775",
         "S",
         "05-Feb-90"
        ],
        [
         "37",
         "37",
         "3",
         "0",
         "Andersson, Miss. Ingeborg Constanzia",
         "female",
         "9",
         "6",
         "31.275",
         "S",
         "06-Feb-90"
        ],
        [
         "38",
         "38",
         "3",
         "0",
         "Andersson, Miss. Sigrid Elisabeth",
         "female",
         "11",
         "6",
         "31.275",
         "S",
         "07-Feb-90"
        ],
        [
         "39",
         "39",
         "3",
         "0",
         "Andersson, Mr. Anders Johan",
         "male",
         "39",
         "6",
         "31.275",
         "S",
         "08-Feb-90"
        ],
        [
         "40",
         "40",
         "3",
         "1",
         "Andersson, Mr. August Edvard (\"Wennerstrom\")",
         "male",
         "27",
         "0",
         "7.7958",
         "S",
         "09-Feb-90"
        ],
        [
         "41",
         "41",
         "3",
         "0",
         "Andersson, Mr. Johan Samuel",
         "male",
         "26",
         "0",
         "7.775",
         "S",
         "10-Feb-90"
        ],
        [
         "42",
         "42",
         "3",
         "0",
         "Andersson, Mrs. Anders Johan (Alfrida Konstantia Brogren)",
         "female",
         "39",
         "6",
         "31.275",
         "S",
         "11-Feb-90"
        ],
        [
         "43",
         "43",
         "3",
         "0",
         "Andreasson, Mr. Paul Edvin",
         "male",
         "20",
         "0",
         "7.8542",
         "S",
         "12-Feb-90"
        ],
        [
         "44",
         "44",
         "2",
         "0",
         "Andrew, Mr. Edgardo Samuel",
         "male",
         "18",
         "0",
         "11.5",
         "S",
         "13-Feb-90"
        ],
        [
         "45",
         "45",
         "2",
         "0",
         "Andrew, Mr. Frank Thomas",
         "male",
         "25",
         "0",
         "10.5",
         "S",
         "14-Feb-90"
        ],
        [
         "46",
         "46",
         "1",
         "1",
         "Andrews, Miss. Kornelia Theodosia",
         "female",
         "63",
         "1",
         "77.9583",
         "S",
         "15-Feb-90"
        ],
        [
         "47",
         "47",
         "1",
         "0",
         "Andrews, Mr. Thomas Jr",
         "male",
         "39",
         "0",
         "0",
         "S",
         "16-Feb-90"
        ],
        [
         "48",
         "48",
         "3",
         "0",
         "Angheloff, Mr. Minko",
         "male",
         "26",
         "0",
         "7.8958",
         "S",
         "17-Feb-90"
        ],
        [
         "49",
         "49",
         "2",
         "0",
         "Angle, Mr. William A",
         "male",
         "34",
         "1",
         "26",
         "S",
         "18-Feb-90"
        ],
        [
         "50",
         "50",
         "2",
         "1",
         "Angle, Mrs. William A (Florence \"Mary\" Agnes Hughes)",
         "female",
         "36",
         "1",
         "26",
         "S",
         "19-Feb-90"
        ]
       ],
       "shape": {
        "columns": 10,
        "rows": 1300
       }
      },
      "text/html": [
       "<div>\n",
       "<style scoped>\n",
       "    .dataframe tbody tr th:only-of-type {\n",
       "        vertical-align: middle;\n",
       "    }\n",
       "\n",
       "    .dataframe tbody tr th {\n",
       "        vertical-align: top;\n",
       "    }\n",
       "\n",
       "    .dataframe thead th {\n",
       "        text-align: right;\n",
       "    }\n",
       "</style>\n",
       "<table border=\"1\" class=\"dataframe\">\n",
       "  <thead>\n",
       "    <tr style=\"text-align: right;\">\n",
       "      <th></th>\n",
       "      <th>sn</th>\n",
       "      <th>pclass</th>\n",
       "      <th>survived</th>\n",
       "      <th>name</th>\n",
       "      <th>gender</th>\n",
       "      <th>age</th>\n",
       "      <th>family</th>\n",
       "      <th>fare</th>\n",
       "      <th>embarked</th>\n",
       "      <th>date</th>\n",
       "    </tr>\n",
       "  </thead>\n",
       "  <tbody>\n",
       "    <tr>\n",
       "      <th>0</th>\n",
       "      <td>1</td>\n",
       "      <td>3</td>\n",
       "      <td>0</td>\n",
       "      <td>Mr. Anthony</td>\n",
       "      <td>male</td>\n",
       "      <td>42</td>\n",
       "      <td>0</td>\n",
       "      <td>7.55</td>\n",
       "      <td>NaN</td>\n",
       "      <td>01-Jan-90</td>\n",
       "    </tr>\n",
       "    <tr>\n",
       "      <th>2</th>\n",
       "      <td>2</td>\n",
       "      <td>3</td>\n",
       "      <td>0</td>\n",
       "      <td>Master. Eugene Joseph</td>\n",
       "      <td>male</td>\n",
       "      <td>?</td>\n",
       "      <td>2</td>\n",
       "      <td>20.25</td>\n",
       "      <td>S</td>\n",
       "      <td>02-Jan-90</td>\n",
       "    </tr>\n",
       "    <tr>\n",
       "      <th>3</th>\n",
       "      <td>3</td>\n",
       "      <td>2</td>\n",
       "      <td>0</td>\n",
       "      <td>Abbott, Mr. Rossmore Edward</td>\n",
       "      <td>NaN</td>\n",
       "      <td>NaN</td>\n",
       "      <td>2</td>\n",
       "      <td>**</td>\n",
       "      <td>S</td>\n",
       "      <td>03-Jan-90</td>\n",
       "    </tr>\n",
       "    <tr>\n",
       "      <th>4</th>\n",
       "      <td>4</td>\n",
       "      <td>3</td>\n",
       "      <td>1</td>\n",
       "      <td>Abbott, Mr. Rossmore Edward</td>\n",
       "      <td>female</td>\n",
       "      <td>35</td>\n",
       "      <td>2</td>\n",
       "      <td>20.25</td>\n",
       "      <td>S</td>\n",
       "      <td>04-Jan-90</td>\n",
       "    </tr>\n",
       "    <tr>\n",
       "      <th>5</th>\n",
       "      <td>5</td>\n",
       "      <td>3</td>\n",
       "      <td>1</td>\n",
       "      <td>Abelseth, Miss. Karen Marie</td>\n",
       "      <td>female</td>\n",
       "      <td>16</td>\n",
       "      <td>0</td>\n",
       "      <td>7.65</td>\n",
       "      <td>S</td>\n",
       "      <td>05-Jan-90</td>\n",
       "    </tr>\n",
       "    <tr>\n",
       "      <th>...</th>\n",
       "      <td>...</td>\n",
       "      <td>...</td>\n",
       "      <td>...</td>\n",
       "      <td>...</td>\n",
       "      <td>...</td>\n",
       "      <td>...</td>\n",
       "      <td>...</td>\n",
       "      <td>...</td>\n",
       "      <td>...</td>\n",
       "      <td>...</td>\n",
       "    </tr>\n",
       "    <tr>\n",
       "      <th>1296</th>\n",
       "      <td>1296</td>\n",
       "      <td>2</td>\n",
       "      <td>0</td>\n",
       "      <td>Yrois, Miss. Henriette (\"Mrs Harbeck\")</td>\n",
       "      <td>female</td>\n",
       "      <td>24</td>\n",
       "      <td>0</td>\n",
       "      <td>13</td>\n",
       "      <td>S</td>\n",
       "      <td>19-Jul-93</td>\n",
       "    </tr>\n",
       "    <tr>\n",
       "      <th>1297</th>\n",
       "      <td>1297</td>\n",
       "      <td>3</td>\n",
       "      <td>0</td>\n",
       "      <td>Zabour, Miss. Hileni</td>\n",
       "      <td>female</td>\n",
       "      <td>14.5</td>\n",
       "      <td>1</td>\n",
       "      <td>14.4542</td>\n",
       "      <td>C</td>\n",
       "      <td>20-Jul-93</td>\n",
       "    </tr>\n",
       "    <tr>\n",
       "      <th>1298</th>\n",
       "      <td>1298</td>\n",
       "      <td>3</td>\n",
       "      <td>0</td>\n",
       "      <td>Zakarian, Mr. Mapriededer</td>\n",
       "      <td>male</td>\n",
       "      <td>26.5</td>\n",
       "      <td>0</td>\n",
       "      <td>7.225</td>\n",
       "      <td>C</td>\n",
       "      <td>21-Jul-93</td>\n",
       "    </tr>\n",
       "    <tr>\n",
       "      <th>1299</th>\n",
       "      <td>1299</td>\n",
       "      <td>3</td>\n",
       "      <td>0</td>\n",
       "      <td>Zakarian, Mr. Ortin</td>\n",
       "      <td>male</td>\n",
       "      <td>27</td>\n",
       "      <td>0</td>\n",
       "      <td>7.225</td>\n",
       "      <td>C</td>\n",
       "      <td>22-Jul-93</td>\n",
       "    </tr>\n",
       "    <tr>\n",
       "      <th>1300</th>\n",
       "      <td>1300</td>\n",
       "      <td>3</td>\n",
       "      <td>0</td>\n",
       "      <td>Zimmerman, Mr. Leo</td>\n",
       "      <td>male</td>\n",
       "      <td>29</td>\n",
       "      <td>0</td>\n",
       "      <td>7.875</td>\n",
       "      <td>S</td>\n",
       "      <td>23-Jul-93</td>\n",
       "    </tr>\n",
       "  </tbody>\n",
       "</table>\n",
       "<p>1300 rows × 10 columns</p>\n",
       "</div>"
      ],
      "text/plain": [
       "0       sn pclass survived                                    name  gender  \\\n",
       "0        1      3        0                             Mr. Anthony    male   \n",
       "2        2      3        0                   Master. Eugene Joseph    male   \n",
       "3        3      2        0             Abbott, Mr. Rossmore Edward     NaN   \n",
       "4        4      3        1             Abbott, Mr. Rossmore Edward  female   \n",
       "5        5      3        1             Abelseth, Miss. Karen Marie  female   \n",
       "...    ...    ...      ...                                     ...     ...   \n",
       "1296  1296      2        0  Yrois, Miss. Henriette (\"Mrs Harbeck\")  female   \n",
       "1297  1297      3        0                    Zabour, Miss. Hileni  female   \n",
       "1298  1298      3        0               Zakarian, Mr. Mapriededer    male   \n",
       "1299  1299      3        0                     Zakarian, Mr. Ortin    male   \n",
       "1300  1300      3        0                      Zimmerman, Mr. Leo    male   \n",
       "\n",
       "0      age family     fare embarked       date  \n",
       "0       42      0     7.55      NaN  01-Jan-90  \n",
       "2        ?      2    20.25        S  02-Jan-90  \n",
       "3      NaN      2       **        S  03-Jan-90  \n",
       "4       35      2    20.25        S  04-Jan-90  \n",
       "5       16      0     7.65        S  05-Jan-90  \n",
       "...    ...    ...      ...      ...        ...  \n",
       "1296    24      0       13        S  19-Jul-93  \n",
       "1297  14.5      1  14.4542        C  20-Jul-93  \n",
       "1298  26.5      0    7.225        C  21-Jul-93  \n",
       "1299    27      0    7.225        C  22-Jul-93  \n",
       "1300    29      0    7.875        S  23-Jul-93  \n",
       "\n",
       "[1300 rows x 10 columns]"
      ]
     },
     "execution_count": 158,
     "metadata": {},
     "output_type": "execute_result"
    }
   ],
   "source": [
    "the_titanic_df.rename(columns={the_titanic.columns[3]: 'name'}, inplace=True)\n",
    "# the_titanic['date'] = pd.to_datetime(the_titanic['date'])\n",
    "the_titanic_df.drop_duplicates(inplace=True)\n",
    "the_titanic_df"
   ]
  },
  {
   "cell_type": "code",
   "execution_count": 159,
   "metadata": {},
   "outputs": [
    {
     "data": {
      "application/vnd.microsoft.datawrangler.viewer.v0+json": {
       "columns": [
        {
         "name": "index",
         "rawType": "object",
         "type": "string"
        },
        {
         "name": "sn",
         "rawType": "object",
         "type": "unknown"
        },
        {
         "name": "pclass",
         "rawType": "object",
         "type": "unknown"
        },
        {
         "name": "survived",
         "rawType": "object",
         "type": "unknown"
        },
        {
         "name": "name",
         "rawType": "object",
         "type": "unknown"
        },
        {
         "name": "gender",
         "rawType": "object",
         "type": "unknown"
        },
        {
         "name": "age",
         "rawType": "object",
         "type": "unknown"
        },
        {
         "name": "family",
         "rawType": "object",
         "type": "unknown"
        },
        {
         "name": "fare",
         "rawType": "object",
         "type": "unknown"
        },
        {
         "name": "embarked",
         "rawType": "object",
         "type": "unknown"
        },
        {
         "name": "date",
         "rawType": "object",
         "type": "unknown"
        }
       ],
       "conversionMethod": "pd.DataFrame",
       "ref": "a3fc5526-5c16-4f9b-951e-6960f0a3d312",
       "rows": [
        [
         "count",
         "1300",
         "1300",
         "1300",
         "1300",
         "1299",
         "1043",
         "1298",
         "1298",
         "1295",
         "1300"
        ],
        [
         "unique",
         "1300",
         "3",
         "2",
         "1297",
         "2",
         "97",
         "9",
         "282",
         "3",
         "1300"
        ],
        [
         "top",
         "1",
         "3",
         "0",
         "Abbott, Mr. Rossmore Edward",
         "male",
         "24",
         "0",
         "13",
         "S",
         "01-Jan-90"
        ],
        [
         "freq",
         "1",
         "699",
         "800",
         "2",
         "834",
         "47",
         "780",
         "59",
         "905",
         "1"
        ]
       ],
       "shape": {
        "columns": 10,
        "rows": 4
       }
      },
      "text/html": [
       "<div>\n",
       "<style scoped>\n",
       "    .dataframe tbody tr th:only-of-type {\n",
       "        vertical-align: middle;\n",
       "    }\n",
       "\n",
       "    .dataframe tbody tr th {\n",
       "        vertical-align: top;\n",
       "    }\n",
       "\n",
       "    .dataframe thead th {\n",
       "        text-align: right;\n",
       "    }\n",
       "</style>\n",
       "<table border=\"1\" class=\"dataframe\">\n",
       "  <thead>\n",
       "    <tr style=\"text-align: right;\">\n",
       "      <th></th>\n",
       "      <th>sn</th>\n",
       "      <th>pclass</th>\n",
       "      <th>survived</th>\n",
       "      <th>name</th>\n",
       "      <th>gender</th>\n",
       "      <th>age</th>\n",
       "      <th>family</th>\n",
       "      <th>fare</th>\n",
       "      <th>embarked</th>\n",
       "      <th>date</th>\n",
       "    </tr>\n",
       "  </thead>\n",
       "  <tbody>\n",
       "    <tr>\n",
       "      <th>count</th>\n",
       "      <td>1300</td>\n",
       "      <td>1300</td>\n",
       "      <td>1300</td>\n",
       "      <td>1300</td>\n",
       "      <td>1299</td>\n",
       "      <td>1043</td>\n",
       "      <td>1298</td>\n",
       "      <td>1298</td>\n",
       "      <td>1295</td>\n",
       "      <td>1300</td>\n",
       "    </tr>\n",
       "    <tr>\n",
       "      <th>unique</th>\n",
       "      <td>1300</td>\n",
       "      <td>3</td>\n",
       "      <td>2</td>\n",
       "      <td>1297</td>\n",
       "      <td>2</td>\n",
       "      <td>97</td>\n",
       "      <td>9</td>\n",
       "      <td>282</td>\n",
       "      <td>3</td>\n",
       "      <td>1300</td>\n",
       "    </tr>\n",
       "    <tr>\n",
       "      <th>top</th>\n",
       "      <td>1</td>\n",
       "      <td>3</td>\n",
       "      <td>0</td>\n",
       "      <td>Abbott, Mr. Rossmore Edward</td>\n",
       "      <td>male</td>\n",
       "      <td>24</td>\n",
       "      <td>0</td>\n",
       "      <td>13</td>\n",
       "      <td>S</td>\n",
       "      <td>01-Jan-90</td>\n",
       "    </tr>\n",
       "    <tr>\n",
       "      <th>freq</th>\n",
       "      <td>1</td>\n",
       "      <td>699</td>\n",
       "      <td>800</td>\n",
       "      <td>2</td>\n",
       "      <td>834</td>\n",
       "      <td>47</td>\n",
       "      <td>780</td>\n",
       "      <td>59</td>\n",
       "      <td>905</td>\n",
       "      <td>1</td>\n",
       "    </tr>\n",
       "  </tbody>\n",
       "</table>\n",
       "</div>"
      ],
      "text/plain": [
       "0         sn pclass survived                         name gender   age family  \\\n",
       "count   1300   1300     1300                         1300   1299  1043   1298   \n",
       "unique  1300      3        2                         1297      2    97      9   \n",
       "top        1      3        0  Abbott, Mr. Rossmore Edward   male    24      0   \n",
       "freq       1    699      800                            2    834    47    780   \n",
       "\n",
       "0       fare embarked       date  \n",
       "count   1298     1295       1300  \n",
       "unique   282        3       1300  \n",
       "top       13        S  01-Jan-90  \n",
       "freq      59      905          1  "
      ]
     },
     "execution_count": 159,
     "metadata": {},
     "output_type": "execute_result"
    }
   ],
   "source": [
    "the_titanic_df[['sn', 'pclass', 'survived', 'age', 'family', 'fare']].describe()\n",
    "the_titanic_df.describe()"
   ]
  },
  {
   "cell_type": "code",
   "execution_count": 160,
   "metadata": {},
   "outputs": [
    {
     "data": {
      "application/vnd.microsoft.datawrangler.viewer.v0+json": {
       "columns": [
        {
         "name": "index",
         "rawType": "int64",
         "type": "integer"
        },
        {
         "name": "sn",
         "rawType": "object",
         "type": "string"
        },
        {
         "name": "pclass",
         "rawType": "object",
         "type": "string"
        },
        {
         "name": "survived",
         "rawType": "object",
         "type": "string"
        },
        {
         "name": "name",
         "rawType": "object",
         "type": "string"
        },
        {
         "name": "gender",
         "rawType": "object",
         "type": "unknown"
        },
        {
         "name": "age",
         "rawType": "float64",
         "type": "float"
        },
        {
         "name": "family",
         "rawType": "object",
         "type": "unknown"
        },
        {
         "name": "fare",
         "rawType": "object",
         "type": "unknown"
        },
        {
         "name": "embarked",
         "rawType": "object",
         "type": "unknown"
        },
        {
         "name": "date",
         "rawType": "object",
         "type": "string"
        }
       ],
       "conversionMethod": "pd.DataFrame",
       "ref": "6cefff48-02b9-4536-83c4-7da7547092f9",
       "rows": [
        [
         "0",
         "1",
         "3",
         "0",
         "Mr. Anthony",
         "male",
         "42.0",
         "0",
         "7.55",
         null,
         "01-Jan-90"
        ],
        [
         "2",
         "2",
         "3",
         "0",
         "Master. Eugene Joseph",
         "male",
         "29.0",
         "2",
         "20.25",
         "S",
         "02-Jan-90"
        ],
        [
         "3",
         "3",
         "2",
         "0",
         "Abbott, Mr. Rossmore Edward",
         null,
         "29.0",
         "2",
         "**",
         "S",
         "03-Jan-90"
        ],
        [
         "4",
         "4",
         "3",
         "1",
         "Abbott, Mr. Rossmore Edward",
         "female",
         "35.0",
         "2",
         "20.25",
         "S",
         "04-Jan-90"
        ],
        [
         "5",
         "5",
         "3",
         "1",
         "Abelseth, Miss. Karen Marie",
         "female",
         "16.0",
         "0",
         "7.65",
         "S",
         "05-Jan-90"
        ],
        [
         "6",
         "6",
         "3",
         "1",
         "Abelseth, Mr. Olaus Jorgensen",
         "male",
         "25.0",
         "0",
         "7.65",
         "S",
         "06-Jan-90"
        ],
        [
         "7",
         "7",
         "2",
         "0",
         "Abelson, Mr. Samuel",
         "male",
         "30.0",
         "1",
         "24",
         "C",
         "07-Jan-90"
        ],
        [
         "8",
         "8",
         "2",
         "1",
         "Abelson, Mrs. Samuel (Hannah Wizosky)",
         "female",
         "28.0",
         "1",
         "24",
         "C",
         "08-Jan-90"
        ],
        [
         "9",
         "9",
         "3",
         "1",
         "Abrahamsson, Mr. Abraham August Johannes",
         "male",
         "20.0",
         "0",
         "7.925",
         "S",
         "09-Jan-90"
        ],
        [
         "10",
         "10",
         "3",
         "1",
         "Abrahim, Mrs. Joseph (Sophie Halaut Easu)",
         "female",
         "18.0",
         "0",
         "7.2292",
         "C",
         "10-Jan-90"
        ],
        [
         "11",
         "11",
         "3",
         "0",
         "Adahl, Mr. Mauritz Nils Martin",
         "male",
         "30.0",
         "0",
         "7.25",
         "S",
         "11-Jan-90"
        ],
        [
         "12",
         "12",
         "3",
         "0",
         "Adams, Mr. John",
         "male",
         "26.0",
         "0",
         "8.05",
         "S",
         "12-Jan-90"
        ],
        [
         "13",
         "13",
         "3",
         "0",
         "Ahlin, Mrs. Johan (Johanna Persdotter Larsson)",
         "female",
         "40.0",
         "1",
         "9.475",
         "S",
         "13-Jan-90"
        ],
        [
         "14",
         "14",
         "3",
         "1",
         "Aks, Master. Philip Frank",
         "male",
         "0.83",
         "1",
         "9.35",
         "S",
         "14-Jan-90"
        ],
        [
         "15",
         "15",
         "3",
         "1",
         "Aks, Mrs. Sam (Leah Rosen)",
         "female",
         "18.0",
         "1",
         "9.35",
         "S",
         "15-Jan-90"
        ],
        [
         "16",
         "16",
         "3",
         "1",
         "Albimona, Mr. Nassef Cassem",
         "male",
         "26.0",
         "0",
         "18.7875",
         "C",
         "16-Jan-90"
        ],
        [
         "17",
         "17",
         "2",
         "0",
         "Aldworth, Mr. Charles Augustus",
         "male",
         "30.0",
         "0",
         "13",
         "S",
         "17-Jan-90"
        ],
        [
         "18",
         "18",
         "3",
         "0",
         "Alexander, Mr. William",
         "male",
         "26.0",
         "0",
         "7.8875",
         "S",
         "18-Jan-90"
        ],
        [
         "19",
         "19",
         "3",
         "0",
         "Alhomaki, Mr. Ilmari Rudolf",
         "male",
         "20.0",
         "0",
         "7.925",
         "S",
         "19-Jan-90"
        ],
        [
         "20",
         "20",
         "3",
         "0",
         "Ali, Mr. Ahmed",
         "male",
         "24.0",
         "0",
         "7.05",
         "S",
         "20-Jan-90"
        ],
        [
         "21",
         "21",
         "3",
         "0",
         "Ali, Mr. William",
         "male",
         "25.0",
         "0",
         "7.05",
         "S",
         "21-Jan-90"
        ],
        [
         "22",
         "22",
         "1",
         "1",
         "Allen, Miss. Elisabeth Walton",
         "female",
         "29.0",
         "0",
         "211.3375",
         "S",
         "22-Jan-90"
        ],
        [
         "23",
         "23",
         "3",
         "0",
         "Allen, Mr. William Henry",
         "male",
         "35.0",
         "0",
         "8.05",
         "S",
         "23-Jan-90"
        ],
        [
         "24",
         "24",
         "1",
         "1",
         "Allison, Master. Hudson Trevor",
         "male",
         "0.92",
         "3",
         "151.55",
         "S",
         "24-Jan-90"
        ],
        [
         "25",
         "25",
         "1",
         "0",
         "Allison, Miss. Helen Loraine",
         "female",
         "2.0",
         "3",
         "151.55",
         "S",
         "25-Jan-90"
        ],
        [
         "26",
         "26",
         "1",
         "0",
         "Allison, Mr. Hudson Joshua Creighton",
         "male",
         "30.0",
         "3",
         "151.55",
         "S",
         "26-Jan-90"
        ],
        [
         "27",
         "27",
         "1",
         "0",
         "Allison, Mrs. Hudson J C (Bessie Waldo Daniels)",
         "female",
         "25.0",
         "3",
         "151.55",
         "S",
         "27-Jan-90"
        ],
        [
         "28",
         "28",
         "3",
         "0",
         "Allum, Mr. Owen George",
         "male",
         "18.0",
         "0",
         "8.3",
         "S",
         "28-Jan-90"
        ],
        [
         "29",
         "29",
         "3",
         "0",
         "Andersen, Mr. Albert Karvin",
         "male",
         "32.0",
         "0",
         "22.525",
         "S",
         "29-Jan-90"
        ],
        [
         "30",
         "30",
         "3",
         "1",
         "Andersen-Jensen, Miss. Carla Christine Nielsine",
         "female",
         "19.0",
         "1",
         "7.8542",
         "S",
         "30-Jan-90"
        ],
        [
         "31",
         "31",
         "1",
         "1",
         "Anderson, Mr. Harry",
         "male",
         "48.0",
         "0",
         "26.55",
         "S",
         "31-Jan-90"
        ],
        [
         "32",
         "32",
         "3",
         "0",
         "Andersson, Master. Sigvard Harald Elias",
         "male",
         "4.0",
         "6",
         "31.275",
         "S",
         "01-Feb-90"
        ],
        [
         "33",
         "33",
         "3",
         "0",
         "Andersson, Miss. Ebba Iris Alfrida",
         "female",
         "6.0",
         "6",
         "31.275",
         "S",
         "02-Feb-90"
        ],
        [
         "34",
         "34",
         "3",
         "0",
         "Andersson, Miss. Ellis Anna Maria",
         "female",
         "2.0",
         "6",
         "31.275",
         "S",
         "03-Feb-90"
        ],
        [
         "35",
         "35",
         "3",
         "1",
         "Andersson, Miss. Erna Alexandra",
         "female",
         "17.0",
         "6",
         "7.925",
         "S",
         "04-Feb-90"
        ],
        [
         "36",
         "36",
         "3",
         "0",
         "Andersson, Miss. Ida Augusta Margareta",
         "female",
         "38.0",
         "6",
         "7.775",
         "S",
         "05-Feb-90"
        ],
        [
         "37",
         "37",
         "3",
         "0",
         "Andersson, Miss. Ingeborg Constanzia",
         "female",
         "9.0",
         "6",
         "31.275",
         "S",
         "06-Feb-90"
        ],
        [
         "38",
         "38",
         "3",
         "0",
         "Andersson, Miss. Sigrid Elisabeth",
         "female",
         "11.0",
         "6",
         "31.275",
         "S",
         "07-Feb-90"
        ],
        [
         "39",
         "39",
         "3",
         "0",
         "Andersson, Mr. Anders Johan",
         "male",
         "39.0",
         "6",
         "31.275",
         "S",
         "08-Feb-90"
        ],
        [
         "40",
         "40",
         "3",
         "1",
         "Andersson, Mr. August Edvard (\"Wennerstrom\")",
         "male",
         "27.0",
         "0",
         "7.7958",
         "S",
         "09-Feb-90"
        ],
        [
         "41",
         "41",
         "3",
         "0",
         "Andersson, Mr. Johan Samuel",
         "male",
         "26.0",
         "0",
         "7.775",
         "S",
         "10-Feb-90"
        ],
        [
         "42",
         "42",
         "3",
         "0",
         "Andersson, Mrs. Anders Johan (Alfrida Konstantia Brogren)",
         "female",
         "39.0",
         "6",
         "31.275",
         "S",
         "11-Feb-90"
        ],
        [
         "43",
         "43",
         "3",
         "0",
         "Andreasson, Mr. Paul Edvin",
         "male",
         "20.0",
         "0",
         "7.8542",
         "S",
         "12-Feb-90"
        ],
        [
         "44",
         "44",
         "2",
         "0",
         "Andrew, Mr. Edgardo Samuel",
         "male",
         "18.0",
         "0",
         "11.5",
         "S",
         "13-Feb-90"
        ],
        [
         "45",
         "45",
         "2",
         "0",
         "Andrew, Mr. Frank Thomas",
         "male",
         "25.0",
         "0",
         "10.5",
         "S",
         "14-Feb-90"
        ],
        [
         "46",
         "46",
         "1",
         "1",
         "Andrews, Miss. Kornelia Theodosia",
         "female",
         "63.0",
         "1",
         "77.9583",
         "S",
         "15-Feb-90"
        ],
        [
         "47",
         "47",
         "1",
         "0",
         "Andrews, Mr. Thomas Jr",
         "male",
         "39.0",
         "0",
         "0",
         "S",
         "16-Feb-90"
        ],
        [
         "48",
         "48",
         "3",
         "0",
         "Angheloff, Mr. Minko",
         "male",
         "26.0",
         "0",
         "7.8958",
         "S",
         "17-Feb-90"
        ],
        [
         "49",
         "49",
         "2",
         "0",
         "Angle, Mr. William A",
         "male",
         "34.0",
         "1",
         "26",
         "S",
         "18-Feb-90"
        ],
        [
         "50",
         "50",
         "2",
         "1",
         "Angle, Mrs. William A (Florence \"Mary\" Agnes Hughes)",
         "female",
         "36.0",
         "1",
         "26",
         "S",
         "19-Feb-90"
        ]
       ],
       "shape": {
        "columns": 10,
        "rows": 1300
       }
      },
      "text/html": [
       "<div>\n",
       "<style scoped>\n",
       "    .dataframe tbody tr th:only-of-type {\n",
       "        vertical-align: middle;\n",
       "    }\n",
       "\n",
       "    .dataframe tbody tr th {\n",
       "        vertical-align: top;\n",
       "    }\n",
       "\n",
       "    .dataframe thead th {\n",
       "        text-align: right;\n",
       "    }\n",
       "</style>\n",
       "<table border=\"1\" class=\"dataframe\">\n",
       "  <thead>\n",
       "    <tr style=\"text-align: right;\">\n",
       "      <th></th>\n",
       "      <th>sn</th>\n",
       "      <th>pclass</th>\n",
       "      <th>survived</th>\n",
       "      <th>name</th>\n",
       "      <th>gender</th>\n",
       "      <th>age</th>\n",
       "      <th>family</th>\n",
       "      <th>fare</th>\n",
       "      <th>embarked</th>\n",
       "      <th>date</th>\n",
       "    </tr>\n",
       "  </thead>\n",
       "  <tbody>\n",
       "    <tr>\n",
       "      <th>0</th>\n",
       "      <td>1</td>\n",
       "      <td>3</td>\n",
       "      <td>0</td>\n",
       "      <td>Mr. Anthony</td>\n",
       "      <td>male</td>\n",
       "      <td>42.0</td>\n",
       "      <td>0</td>\n",
       "      <td>7.55</td>\n",
       "      <td>NaN</td>\n",
       "      <td>01-Jan-90</td>\n",
       "    </tr>\n",
       "    <tr>\n",
       "      <th>2</th>\n",
       "      <td>2</td>\n",
       "      <td>3</td>\n",
       "      <td>0</td>\n",
       "      <td>Master. Eugene Joseph</td>\n",
       "      <td>male</td>\n",
       "      <td>29.0</td>\n",
       "      <td>2</td>\n",
       "      <td>20.25</td>\n",
       "      <td>S</td>\n",
       "      <td>02-Jan-90</td>\n",
       "    </tr>\n",
       "    <tr>\n",
       "      <th>3</th>\n",
       "      <td>3</td>\n",
       "      <td>2</td>\n",
       "      <td>0</td>\n",
       "      <td>Abbott, Mr. Rossmore Edward</td>\n",
       "      <td>NaN</td>\n",
       "      <td>29.0</td>\n",
       "      <td>2</td>\n",
       "      <td>**</td>\n",
       "      <td>S</td>\n",
       "      <td>03-Jan-90</td>\n",
       "    </tr>\n",
       "    <tr>\n",
       "      <th>4</th>\n",
       "      <td>4</td>\n",
       "      <td>3</td>\n",
       "      <td>1</td>\n",
       "      <td>Abbott, Mr. Rossmore Edward</td>\n",
       "      <td>female</td>\n",
       "      <td>35.0</td>\n",
       "      <td>2</td>\n",
       "      <td>20.25</td>\n",
       "      <td>S</td>\n",
       "      <td>04-Jan-90</td>\n",
       "    </tr>\n",
       "    <tr>\n",
       "      <th>5</th>\n",
       "      <td>5</td>\n",
       "      <td>3</td>\n",
       "      <td>1</td>\n",
       "      <td>Abelseth, Miss. Karen Marie</td>\n",
       "      <td>female</td>\n",
       "      <td>16.0</td>\n",
       "      <td>0</td>\n",
       "      <td>7.65</td>\n",
       "      <td>S</td>\n",
       "      <td>05-Jan-90</td>\n",
       "    </tr>\n",
       "    <tr>\n",
       "      <th>...</th>\n",
       "      <td>...</td>\n",
       "      <td>...</td>\n",
       "      <td>...</td>\n",
       "      <td>...</td>\n",
       "      <td>...</td>\n",
       "      <td>...</td>\n",
       "      <td>...</td>\n",
       "      <td>...</td>\n",
       "      <td>...</td>\n",
       "      <td>...</td>\n",
       "    </tr>\n",
       "    <tr>\n",
       "      <th>1296</th>\n",
       "      <td>1296</td>\n",
       "      <td>2</td>\n",
       "      <td>0</td>\n",
       "      <td>Yrois, Miss. Henriette (\"Mrs Harbeck\")</td>\n",
       "      <td>female</td>\n",
       "      <td>24.0</td>\n",
       "      <td>0</td>\n",
       "      <td>13</td>\n",
       "      <td>S</td>\n",
       "      <td>19-Jul-93</td>\n",
       "    </tr>\n",
       "    <tr>\n",
       "      <th>1297</th>\n",
       "      <td>1297</td>\n",
       "      <td>3</td>\n",
       "      <td>0</td>\n",
       "      <td>Zabour, Miss. Hileni</td>\n",
       "      <td>female</td>\n",
       "      <td>14.5</td>\n",
       "      <td>1</td>\n",
       "      <td>14.4542</td>\n",
       "      <td>C</td>\n",
       "      <td>20-Jul-93</td>\n",
       "    </tr>\n",
       "    <tr>\n",
       "      <th>1298</th>\n",
       "      <td>1298</td>\n",
       "      <td>3</td>\n",
       "      <td>0</td>\n",
       "      <td>Zakarian, Mr. Mapriededer</td>\n",
       "      <td>male</td>\n",
       "      <td>26.5</td>\n",
       "      <td>0</td>\n",
       "      <td>7.225</td>\n",
       "      <td>C</td>\n",
       "      <td>21-Jul-93</td>\n",
       "    </tr>\n",
       "    <tr>\n",
       "      <th>1299</th>\n",
       "      <td>1299</td>\n",
       "      <td>3</td>\n",
       "      <td>0</td>\n",
       "      <td>Zakarian, Mr. Ortin</td>\n",
       "      <td>male</td>\n",
       "      <td>27.0</td>\n",
       "      <td>0</td>\n",
       "      <td>7.225</td>\n",
       "      <td>C</td>\n",
       "      <td>22-Jul-93</td>\n",
       "    </tr>\n",
       "    <tr>\n",
       "      <th>1300</th>\n",
       "      <td>1300</td>\n",
       "      <td>3</td>\n",
       "      <td>0</td>\n",
       "      <td>Zimmerman, Mr. Leo</td>\n",
       "      <td>male</td>\n",
       "      <td>29.0</td>\n",
       "      <td>0</td>\n",
       "      <td>7.875</td>\n",
       "      <td>S</td>\n",
       "      <td>23-Jul-93</td>\n",
       "    </tr>\n",
       "  </tbody>\n",
       "</table>\n",
       "<p>1300 rows × 10 columns</p>\n",
       "</div>"
      ],
      "text/plain": [
       "0       sn pclass survived                                    name  gender  \\\n",
       "0        1      3        0                             Mr. Anthony    male   \n",
       "2        2      3        0                   Master. Eugene Joseph    male   \n",
       "3        3      2        0             Abbott, Mr. Rossmore Edward     NaN   \n",
       "4        4      3        1             Abbott, Mr. Rossmore Edward  female   \n",
       "5        5      3        1             Abelseth, Miss. Karen Marie  female   \n",
       "...    ...    ...      ...                                     ...     ...   \n",
       "1296  1296      2        0  Yrois, Miss. Henriette (\"Mrs Harbeck\")  female   \n",
       "1297  1297      3        0                    Zabour, Miss. Hileni  female   \n",
       "1298  1298      3        0               Zakarian, Mr. Mapriededer    male   \n",
       "1299  1299      3        0                     Zakarian, Mr. Ortin    male   \n",
       "1300  1300      3        0                      Zimmerman, Mr. Leo    male   \n",
       "\n",
       "0      age family     fare embarked       date  \n",
       "0     42.0      0     7.55      NaN  01-Jan-90  \n",
       "2     29.0      2    20.25        S  02-Jan-90  \n",
       "3     29.0      2       **        S  03-Jan-90  \n",
       "4     35.0      2    20.25        S  04-Jan-90  \n",
       "5     16.0      0     7.65        S  05-Jan-90  \n",
       "...    ...    ...      ...      ...        ...  \n",
       "1296  24.0      0       13        S  19-Jul-93  \n",
       "1297  14.5      1  14.4542        C  20-Jul-93  \n",
       "1298  26.5      0    7.225        C  21-Jul-93  \n",
       "1299  27.0      0    7.225        C  22-Jul-93  \n",
       "1300  29.0      0    7.875        S  23-Jul-93  \n",
       "\n",
       "[1300 rows x 10 columns]"
      ]
     },
     "execution_count": 160,
     "metadata": {},
     "output_type": "execute_result"
    }
   ],
   "source": [
    "non_numeric_values = pd.to_numeric(the_titanic_df['age'], errors='coerce')\n",
    "the_titanic_df['age'] = non_numeric_values\n",
    "\n",
    "mean_age = int(the_titanic_df['age'].mean())\n",
    "the_titanic_df['age'] = the_titanic_df['age'].fillna(mean_age)\n",
    "the_titanic_df"
   ]
  },
  {
   "cell_type": "code",
   "execution_count": 161,
   "metadata": {},
   "outputs": [],
   "source": [
    "df = the_titanic_df.drop_duplicates('name')\n"
   ]
  },
  {
   "cell_type": "code",
   "execution_count": 162,
   "metadata": {},
   "outputs": [],
   "source": [
    "non_numeric_values_fare = pd.to_numeric(the_titanic_df['fare'], errors='coerce')\n",
    "the_titanic_df['fare'] = non_numeric_values_fare\n",
    "mean_fare = int(the_titanic_df['fare'].mean())\n",
    "\n",
    "the_titanic_df['fare'] = the_titanic_df['fare'].fillna(mean_fare)\n",
    "the_titanic_df['gender'] = the_titanic_df['gender'].fillna(\"male\")\n",
    "\n",
    "mode_embark = the_titanic_df['embarked'].mode()\n",
    "the_titanic_df['embarked'] = the_titanic_df['embarked'].fillna(mode_embark)\n",
    "the_titanic_df\n",
    "\n",
    "\n",
    "\n",
    "non_numeric_values_fam = pd.to_numeric(the_titanic_df['family'], errors='coerce')\n",
    "the_titanic_df['family'] = non_numeric_values_fam\n",
    "mode_family = the_titanic_df['family'].mode()\n",
    "the_titanic_df['family'] = the_titanic_df['family'].fillna(mode_family)"
   ]
  },
  {
   "cell_type": "code",
   "execution_count": 163,
   "metadata": {},
   "outputs": [
    {
     "name": "stdout",
     "output_type": "stream",
     "text": [
      "<class 'pandas.core.frame.DataFrame'>\n",
      "Index: 1300 entries, 0 to 1300\n",
      "Data columns (total 10 columns):\n",
      " #   Column    Non-Null Count  Dtype  \n",
      "---  ------    --------------  -----  \n",
      " 0   sn        1300 non-null   object \n",
      " 1   pclass    1300 non-null   object \n",
      " 2   survived  1300 non-null   object \n",
      " 3   name      1300 non-null   object \n",
      " 4   gender    1300 non-null   object \n",
      " 5   age       1300 non-null   float64\n",
      " 6   family    1298 non-null   float64\n",
      " 7   fare      1300 non-null   float64\n",
      " 8   embarked  1296 non-null   object \n",
      " 9   date      1300 non-null   object \n",
      "dtypes: float64(3), object(7)\n",
      "memory usage: 111.7+ KB\n"
     ]
    }
   ],
   "source": [
    "the_titanic_df.info()\n"
   ]
  },
  {
   "cell_type": "code",
   "execution_count": 164,
   "metadata": {},
   "outputs": [
    {
     "data": {
      "text/plain": [
       "embarked\n",
       "S      906\n",
       "C      267\n",
       "Q      123\n",
       "NaN      4\n",
       "Name: count, dtype: int64"
      ]
     },
     "execution_count": 164,
     "metadata": {},
     "output_type": "execute_result"
    }
   ],
   "source": [
    "the_titanic_df['embarked'].value_counts(dropna=False)"
   ]
  },
  {
   "cell_type": "code",
   "execution_count": 165,
   "metadata": {},
   "outputs": [
    {
     "name": "stdout",
     "output_type": "stream",
     "text": [
      "<class 'pandas.core.frame.DataFrame'>\n",
      "Index: 1300 entries, 0 to 1300\n",
      "Data columns (total 10 columns):\n",
      " #   Column    Non-Null Count  Dtype  \n",
      "---  ------    --------------  -----  \n",
      " 0   sn        1300 non-null   object \n",
      " 1   pclass    1300 non-null   object \n",
      " 2   survived  1300 non-null   object \n",
      " 3   name      1300 non-null   object \n",
      " 4   gender    1300 non-null   object \n",
      " 5   age       1300 non-null   float64\n",
      " 6   family    1298 non-null   float64\n",
      " 7   fare      1300 non-null   float64\n",
      " 8   embarked  1296 non-null   object \n",
      " 9   date      1300 non-null   object \n",
      "dtypes: float64(3), object(7)\n",
      "memory usage: 111.7+ KB\n"
     ]
    }
   ],
   "source": [
    "the_titanic_df.info()"
   ]
  },
  {
   "cell_type": "markdown",
   "metadata": {},
   "source": [
    "### EXPLORATORY DATA ANALYSIS"
   ]
  },
  {
   "cell_type": "markdown",
   "metadata": {},
   "source": [
    "# Titanic Basic Analysis\n",
    "\n",
    "This feature provides a basic analysis of the the dataset\n",
    "1.  Visualization of age distribution among Titanic passengers.\n",
    "2.  Examination of gender-based distribution across passenger classes.\n",
    "3.  Analysis of survival rates across different passenger classes."
   ]
  },
  {
   "cell_type": "code",
   "execution_count": 166,
   "metadata": {},
   "outputs": [
    {
     "data": {
      "application/vnd.microsoft.datawrangler.viewer.v0+json": {
       "columns": [
        {
         "name": "index",
         "rawType": "object",
         "type": "string"
        },
        {
         "name": "age",
         "rawType": "float64",
         "type": "float"
        },
        {
         "name": "family",
         "rawType": "float64",
         "type": "float"
        },
        {
         "name": "fare",
         "rawType": "float64",
         "type": "float"
        }
       ],
       "conversionMethod": "pd.DataFrame",
       "ref": "a3c1c55b-754c-4a2a-80cb-f14381513904",
       "rows": [
        [
         "count",
         "1300.0",
         "1298.0",
         "1300.0"
        ],
        [
         "mean",
         "29.775323076923076",
         "0.8906009244992296",
         "33.48104761538462"
        ],
        [
         "std",
         "12.867069256754833",
         "1.5884280187538933",
         "51.87590567731198"
        ],
        [
         "min",
         "0.17",
         "0.0",
         "0.0"
        ],
        [
         "25%",
         "22.0",
         "0.0",
         "7.8958"
        ],
        [
         "50%",
         "29.0",
         "0.0",
         "14.4583"
        ],
        [
         "75%",
         "35.0",
         "1.0",
         "31.3875"
        ],
        [
         "max",
         "80.0",
         "10.0",
         "512.3292"
        ]
       ],
       "shape": {
        "columns": 3,
        "rows": 8
       }
      },
      "text/html": [
       "<div>\n",
       "<style scoped>\n",
       "    .dataframe tbody tr th:only-of-type {\n",
       "        vertical-align: middle;\n",
       "    }\n",
       "\n",
       "    .dataframe tbody tr th {\n",
       "        vertical-align: top;\n",
       "    }\n",
       "\n",
       "    .dataframe thead th {\n",
       "        text-align: right;\n",
       "    }\n",
       "</style>\n",
       "<table border=\"1\" class=\"dataframe\">\n",
       "  <thead>\n",
       "    <tr style=\"text-align: right;\">\n",
       "      <th></th>\n",
       "      <th>age</th>\n",
       "      <th>family</th>\n",
       "      <th>fare</th>\n",
       "    </tr>\n",
       "  </thead>\n",
       "  <tbody>\n",
       "    <tr>\n",
       "      <th>count</th>\n",
       "      <td>1300.000000</td>\n",
       "      <td>1298.000000</td>\n",
       "      <td>1300.000000</td>\n",
       "    </tr>\n",
       "    <tr>\n",
       "      <th>mean</th>\n",
       "      <td>29.775323</td>\n",
       "      <td>0.890601</td>\n",
       "      <td>33.481048</td>\n",
       "    </tr>\n",
       "    <tr>\n",
       "      <th>std</th>\n",
       "      <td>12.867069</td>\n",
       "      <td>1.588428</td>\n",
       "      <td>51.875906</td>\n",
       "    </tr>\n",
       "    <tr>\n",
       "      <th>min</th>\n",
       "      <td>0.170000</td>\n",
       "      <td>0.000000</td>\n",
       "      <td>0.000000</td>\n",
       "    </tr>\n",
       "    <tr>\n",
       "      <th>25%</th>\n",
       "      <td>22.000000</td>\n",
       "      <td>0.000000</td>\n",
       "      <td>7.895800</td>\n",
       "    </tr>\n",
       "    <tr>\n",
       "      <th>50%</th>\n",
       "      <td>29.000000</td>\n",
       "      <td>0.000000</td>\n",
       "      <td>14.458300</td>\n",
       "    </tr>\n",
       "    <tr>\n",
       "      <th>75%</th>\n",
       "      <td>35.000000</td>\n",
       "      <td>1.000000</td>\n",
       "      <td>31.387500</td>\n",
       "    </tr>\n",
       "    <tr>\n",
       "      <th>max</th>\n",
       "      <td>80.000000</td>\n",
       "      <td>10.000000</td>\n",
       "      <td>512.329200</td>\n",
       "    </tr>\n",
       "  </tbody>\n",
       "</table>\n",
       "</div>"
      ],
      "text/plain": [
       "0              age       family         fare\n",
       "count  1300.000000  1298.000000  1300.000000\n",
       "mean     29.775323     0.890601    33.481048\n",
       "std      12.867069     1.588428    51.875906\n",
       "min       0.170000     0.000000     0.000000\n",
       "25%      22.000000     0.000000     7.895800\n",
       "50%      29.000000     0.000000    14.458300\n",
       "75%      35.000000     1.000000    31.387500\n",
       "max      80.000000    10.000000   512.329200"
      ]
     },
     "execution_count": 166,
     "metadata": {},
     "output_type": "execute_result"
    }
   ],
   "source": [
    "the_titanic_df.describe()"
   ]
  },
  {
   "cell_type": "code",
   "execution_count": 167,
   "metadata": {},
   "outputs": [
    {
     "data": {
      "application/vnd.microsoft.datawrangler.viewer.v0+json": {
       "columns": [
        {
         "name": "index",
         "rawType": "object",
         "type": "string"
        },
        {
         "name": "sn",
         "rawType": "object",
         "type": "unknown"
        },
        {
         "name": "pclass",
         "rawType": "object",
         "type": "unknown"
        },
        {
         "name": "survived",
         "rawType": "object",
         "type": "unknown"
        },
        {
         "name": "name",
         "rawType": "object",
         "type": "unknown"
        },
        {
         "name": "gender",
         "rawType": "object",
         "type": "unknown"
        },
        {
         "name": "embarked",
         "rawType": "object",
         "type": "unknown"
        },
        {
         "name": "date",
         "rawType": "object",
         "type": "unknown"
        }
       ],
       "conversionMethod": "pd.DataFrame",
       "ref": "77ad9c15-6461-4078-9033-a1533a813cf7",
       "rows": [
        [
         "count",
         "1300",
         "1300",
         "1300",
         "1300",
         "1300",
         "1296",
         "1300"
        ],
        [
         "unique",
         "1300",
         "3",
         "2",
         "1297",
         "2",
         "3",
         "1300"
        ],
        [
         "top",
         "1",
         "3",
         "0",
         "Abbott, Mr. Rossmore Edward",
         "male",
         "S",
         "01-Jan-90"
        ],
        [
         "freq",
         "1",
         "699",
         "800",
         "2",
         "835",
         "906",
         "1"
        ]
       ],
       "shape": {
        "columns": 7,
        "rows": 4
       }
      },
      "text/html": [
       "<div>\n",
       "<style scoped>\n",
       "    .dataframe tbody tr th:only-of-type {\n",
       "        vertical-align: middle;\n",
       "    }\n",
       "\n",
       "    .dataframe tbody tr th {\n",
       "        vertical-align: top;\n",
       "    }\n",
       "\n",
       "    .dataframe thead th {\n",
       "        text-align: right;\n",
       "    }\n",
       "</style>\n",
       "<table border=\"1\" class=\"dataframe\">\n",
       "  <thead>\n",
       "    <tr style=\"text-align: right;\">\n",
       "      <th></th>\n",
       "      <th>sn</th>\n",
       "      <th>pclass</th>\n",
       "      <th>survived</th>\n",
       "      <th>name</th>\n",
       "      <th>gender</th>\n",
       "      <th>embarked</th>\n",
       "      <th>date</th>\n",
       "    </tr>\n",
       "  </thead>\n",
       "  <tbody>\n",
       "    <tr>\n",
       "      <th>count</th>\n",
       "      <td>1300</td>\n",
       "      <td>1300</td>\n",
       "      <td>1300</td>\n",
       "      <td>1300</td>\n",
       "      <td>1300</td>\n",
       "      <td>1296</td>\n",
       "      <td>1300</td>\n",
       "    </tr>\n",
       "    <tr>\n",
       "      <th>unique</th>\n",
       "      <td>1300</td>\n",
       "      <td>3</td>\n",
       "      <td>2</td>\n",
       "      <td>1297</td>\n",
       "      <td>2</td>\n",
       "      <td>3</td>\n",
       "      <td>1300</td>\n",
       "    </tr>\n",
       "    <tr>\n",
       "      <th>top</th>\n",
       "      <td>1</td>\n",
       "      <td>3</td>\n",
       "      <td>0</td>\n",
       "      <td>Abbott, Mr. Rossmore Edward</td>\n",
       "      <td>male</td>\n",
       "      <td>S</td>\n",
       "      <td>01-Jan-90</td>\n",
       "    </tr>\n",
       "    <tr>\n",
       "      <th>freq</th>\n",
       "      <td>1</td>\n",
       "      <td>699</td>\n",
       "      <td>800</td>\n",
       "      <td>2</td>\n",
       "      <td>835</td>\n",
       "      <td>906</td>\n",
       "      <td>1</td>\n",
       "    </tr>\n",
       "  </tbody>\n",
       "</table>\n",
       "</div>"
      ],
      "text/plain": [
       "0         sn pclass survived                         name gender embarked  \\\n",
       "count   1300   1300     1300                         1300   1300     1296   \n",
       "unique  1300      3        2                         1297      2        3   \n",
       "top        1      3        0  Abbott, Mr. Rossmore Edward   male        S   \n",
       "freq       1    699      800                            2    835      906   \n",
       "\n",
       "0            date  \n",
       "count        1300  \n",
       "unique       1300  \n",
       "top     01-Jan-90  \n",
       "freq            1  "
      ]
     },
     "execution_count": 167,
     "metadata": {},
     "output_type": "execute_result"
    }
   ],
   "source": [
    "#finding info from categorical data\n",
    "the_titanic_df.describe(include=['O'])"
   ]
  },
  {
   "cell_type": "code",
   "execution_count": 168,
   "metadata": {},
   "outputs": [
    {
     "name": "stdout",
     "output_type": "stream",
     "text": [
      "<class 'pandas.core.frame.DataFrame'>\n",
      "Index: 1300 entries, 0 to 1300\n",
      "Data columns (total 10 columns):\n",
      " #   Column    Non-Null Count  Dtype  \n",
      "---  ------    --------------  -----  \n",
      " 0   sn        1300 non-null   object \n",
      " 1   pclass    1300 non-null   object \n",
      " 2   survived  1300 non-null   object \n",
      " 3   name      1300 non-null   object \n",
      " 4   gender    1300 non-null   object \n",
      " 5   age       1300 non-null   float64\n",
      " 6   family    1298 non-null   float64\n",
      " 7   fare      1300 non-null   float64\n",
      " 8   embarked  1296 non-null   object \n",
      " 9   date      1300 non-null   object \n",
      "dtypes: float64(3), object(7)\n",
      "memory usage: 111.7+ KB\n"
     ]
    }
   ],
   "source": [
    "the_titanic_df.info()"
   ]
  },
  {
   "cell_type": "code",
   "execution_count": 169,
   "metadata": {},
   "outputs": [
    {
     "name": "stdout",
     "output_type": "stream",
     "text": [
      "Cleaned and explored dataset saved as 'cleaned_and_explored_titanic_data.csv' in the working directory.\n"
     ]
    }
   ],
   "source": [
    "# Save the cleaned and explored dataset to a CSV file in the working directory\n",
    "the_titanic_df.to_csv('/home/thetwumasi/Desktop/workdev/Titanic_Survival_Prediction_Analysis/cleaned_and_explored_titanic_data.csv', index=False)\n",
    "\n",
    "print(\"Cleaned and explored dataset saved as 'cleaned_and_explored_titanic_data.csv' in the working directory.\")"
   ]
  },
  {
   "cell_type": "markdown",
   "metadata": {},
   "source": [
    "#Exploring The Relationship Between Features and Survival"
   ]
  },
  {
   "cell_type": "code",
   "execution_count": 170,
   "metadata": {},
   "outputs": [],
   "source": [
    "the_titanic_df['survived'] = pd.to_numeric(the_titanic_df['survived'], errors='coerce')"
   ]
  },
  {
   "cell_type": "code",
   "execution_count": 171,
   "metadata": {},
   "outputs": [
    {
     "data": {
      "application/vnd.microsoft.datawrangler.viewer.v0+json": {
       "columns": [
        {
         "name": "index",
         "rawType": "int64",
         "type": "integer"
        },
        {
         "name": "pclass",
         "rawType": "object",
         "type": "string"
        },
        {
         "name": "survived",
         "rawType": "float64",
         "type": "float"
        }
       ],
       "conversionMethod": "pd.DataFrame",
       "ref": "8967fcd9-0fbb-4b65-ae77-09d08de6d694",
       "rows": [
        [
         "0",
         "1",
         "0.6191950464396285"
        ],
        [
         "1",
         "2",
         "0.42805755395683454"
        ],
        [
         "2",
         "3",
         "0.25894134477825465"
        ]
       ],
       "shape": {
        "columns": 2,
        "rows": 3
       }
      },
      "text/html": [
       "<div>\n",
       "<style scoped>\n",
       "    .dataframe tbody tr th:only-of-type {\n",
       "        vertical-align: middle;\n",
       "    }\n",
       "\n",
       "    .dataframe tbody tr th {\n",
       "        vertical-align: top;\n",
       "    }\n",
       "\n",
       "    .dataframe thead th {\n",
       "        text-align: right;\n",
       "    }\n",
       "</style>\n",
       "<table border=\"1\" class=\"dataframe\">\n",
       "  <thead>\n",
       "    <tr style=\"text-align: right;\">\n",
       "      <th></th>\n",
       "      <th>pclass</th>\n",
       "      <th>survived</th>\n",
       "    </tr>\n",
       "  </thead>\n",
       "  <tbody>\n",
       "    <tr>\n",
       "      <th>0</th>\n",
       "      <td>1</td>\n",
       "      <td>0.619195</td>\n",
       "    </tr>\n",
       "    <tr>\n",
       "      <th>1</th>\n",
       "      <td>2</td>\n",
       "      <td>0.428058</td>\n",
       "    </tr>\n",
       "    <tr>\n",
       "      <th>2</th>\n",
       "      <td>3</td>\n",
       "      <td>0.258941</td>\n",
       "    </tr>\n",
       "  </tbody>\n",
       "</table>\n",
       "</div>"
      ],
      "text/plain": [
       "  pclass  survived\n",
       "0      1  0.619195\n",
       "1      2  0.428058\n",
       "2      3  0.258941"
      ]
     },
     "execution_count": 171,
     "metadata": {},
     "output_type": "execute_result"
    }
   ],
   "source": [
    "the_titanic_df.groupby(['pclass'], as_index=False)['survived'].mean()"
   ]
  },
  {
   "cell_type": "code",
   "execution_count": 172,
   "metadata": {},
   "outputs": [
    {
     "data": {
      "application/vnd.microsoft.datawrangler.viewer.v0+json": {
       "columns": [
        {
         "name": "index",
         "rawType": "int64",
         "type": "integer"
        },
        {
         "name": "gender",
         "rawType": "object",
         "type": "string"
        },
        {
         "name": "survived",
         "rawType": "float64",
         "type": "float"
        }
       ],
       "conversionMethod": "pd.DataFrame",
       "ref": "9b472b01-f5e1-4ded-b919-a7ceed4326b2",
       "rows": [
        [
         "0",
         "female",
         "0.7290322580645161"
        ],
        [
         "1",
         "male",
         "0.19281437125748502"
        ]
       ],
       "shape": {
        "columns": 2,
        "rows": 2
       }
      },
      "text/html": [
       "<div>\n",
       "<style scoped>\n",
       "    .dataframe tbody tr th:only-of-type {\n",
       "        vertical-align: middle;\n",
       "    }\n",
       "\n",
       "    .dataframe tbody tr th {\n",
       "        vertical-align: top;\n",
       "    }\n",
       "\n",
       "    .dataframe thead th {\n",
       "        text-align: right;\n",
       "    }\n",
       "</style>\n",
       "<table border=\"1\" class=\"dataframe\">\n",
       "  <thead>\n",
       "    <tr style=\"text-align: right;\">\n",
       "      <th></th>\n",
       "      <th>gender</th>\n",
       "      <th>survived</th>\n",
       "    </tr>\n",
       "  </thead>\n",
       "  <tbody>\n",
       "    <tr>\n",
       "      <th>0</th>\n",
       "      <td>female</td>\n",
       "      <td>0.729032</td>\n",
       "    </tr>\n",
       "    <tr>\n",
       "      <th>1</th>\n",
       "      <td>male</td>\n",
       "      <td>0.192814</td>\n",
       "    </tr>\n",
       "  </tbody>\n",
       "</table>\n",
       "</div>"
      ],
      "text/plain": [
       "   gender  survived\n",
       "0  female  0.729032\n",
       "1    male  0.192814"
      ]
     },
     "execution_count": 172,
     "metadata": {},
     "output_type": "execute_result"
    }
   ],
   "source": [
    "the_titanic_df.groupby(['gender'], as_index=False)['survived'].mean()"
   ]
  },
  {
   "cell_type": "code",
   "execution_count": 173,
   "metadata": {},
   "outputs": [
    {
     "data": {
      "application/vnd.microsoft.datawrangler.viewer.v0+json": {
       "columns": [
        {
         "name": "index",
         "rawType": "int64",
         "type": "integer"
        },
        {
         "name": "fare",
         "rawType": "float64",
         "type": "float"
        },
        {
         "name": "survived",
         "rawType": "float64",
         "type": "float"
        }
       ],
       "conversionMethod": "pd.DataFrame",
       "ref": "6c90079f-9e3b-4f3f-8af3-ff1791568abc",
       "rows": [
        [
         "0",
         "0.0",
         "0.11764705882352941"
        ],
        [
         "1",
         "3.1708",
         "1.0"
        ],
        [
         "2",
         "4.0125",
         "0.0"
        ],
        [
         "3",
         "5.0",
         "0.0"
        ],
        [
         "4",
         "6.2375",
         "0.0"
        ],
        [
         "5",
         "6.4375",
         "0.0"
        ],
        [
         "6",
         "6.45",
         "0.0"
        ],
        [
         "7",
         "6.4958",
         "0.0"
        ],
        [
         "8",
         "6.75",
         "0.0"
        ],
        [
         "9",
         "6.8583",
         "0.0"
        ],
        [
         "10",
         "6.95",
         "0.5"
        ],
        [
         "11",
         "6.975",
         "0.5"
        ],
        [
         "12",
         "7.0",
         "0.5"
        ],
        [
         "13",
         "7.0458",
         "0.0"
        ],
        [
         "14",
         "7.05",
         "0.1111111111111111"
        ],
        [
         "15",
         "7.0542",
         "0.0"
        ],
        [
         "16",
         "7.125",
         "0.0"
        ],
        [
         "17",
         "7.1417",
         "1.0"
        ],
        [
         "18",
         "7.225",
         "0.25"
        ],
        [
         "19",
         "7.2292",
         "0.2916666666666667"
        ],
        [
         "20",
         "7.25",
         "0.058823529411764705"
        ],
        [
         "21",
         "7.2833",
         "0.0"
        ],
        [
         "22",
         "7.3125",
         "0.0"
        ],
        [
         "23",
         "7.4958",
         "0.3333333333333333"
        ],
        [
         "24",
         "7.5208",
         "0.0"
        ],
        [
         "25",
         "7.55",
         "0.3333333333333333"
        ],
        [
         "26",
         "7.575",
         "0.0"
        ],
        [
         "27",
         "7.5792",
         "1.0"
        ],
        [
         "28",
         "7.6292",
         "0.0"
        ],
        [
         "29",
         "7.65",
         "0.5"
        ],
        [
         "30",
         "7.7208",
         "1.0"
        ],
        [
         "31",
         "7.725",
         "0.5"
        ],
        [
         "32",
         "7.7292",
         "0.0"
        ],
        [
         "33",
         "7.7333",
         "0.42857142857142855"
        ],
        [
         "34",
         "7.7375",
         "0.5"
        ],
        [
         "35",
         "7.7417",
         "0.0"
        ],
        [
         "36",
         "7.75",
         "0.3090909090909091"
        ],
        [
         "37",
         "7.775",
         "0.2692307692307692"
        ],
        [
         "38",
         "7.7792",
         "1.0"
        ],
        [
         "39",
         "7.7875",
         "1.0"
        ],
        [
         "40",
         "7.7958",
         "0.5"
        ],
        [
         "41",
         "7.8",
         "0.0"
        ],
        [
         "42",
         "7.8208",
         "1.0"
        ],
        [
         "43",
         "7.8292",
         "0.3333333333333333"
        ],
        [
         "44",
         "7.85",
         "0.0"
        ],
        [
         "45",
         "7.8542",
         "0.19047619047619047"
        ],
        [
         "46",
         "7.875",
         "0.0"
        ],
        [
         "47",
         "7.8792",
         "0.4"
        ],
        [
         "48",
         "7.8875",
         "0.5"
        ],
        [
         "49",
         "7.8958",
         "0.02040816326530612"
        ]
       ],
       "shape": {
        "columns": 2,
        "rows": 281
       }
      },
      "text/html": [
       "<div>\n",
       "<style scoped>\n",
       "    .dataframe tbody tr th:only-of-type {\n",
       "        vertical-align: middle;\n",
       "    }\n",
       "\n",
       "    .dataframe tbody tr th {\n",
       "        vertical-align: top;\n",
       "    }\n",
       "\n",
       "    .dataframe thead th {\n",
       "        text-align: right;\n",
       "    }\n",
       "</style>\n",
       "<table border=\"1\" class=\"dataframe\">\n",
       "  <thead>\n",
       "    <tr style=\"text-align: right;\">\n",
       "      <th></th>\n",
       "      <th>fare</th>\n",
       "      <th>survived</th>\n",
       "    </tr>\n",
       "  </thead>\n",
       "  <tbody>\n",
       "    <tr>\n",
       "      <th>0</th>\n",
       "      <td>0.0000</td>\n",
       "      <td>0.117647</td>\n",
       "    </tr>\n",
       "    <tr>\n",
       "      <th>1</th>\n",
       "      <td>3.1708</td>\n",
       "      <td>1.000000</td>\n",
       "    </tr>\n",
       "    <tr>\n",
       "      <th>2</th>\n",
       "      <td>4.0125</td>\n",
       "      <td>0.000000</td>\n",
       "    </tr>\n",
       "    <tr>\n",
       "      <th>3</th>\n",
       "      <td>5.0000</td>\n",
       "      <td>0.000000</td>\n",
       "    </tr>\n",
       "    <tr>\n",
       "      <th>4</th>\n",
       "      <td>6.2375</td>\n",
       "      <td>0.000000</td>\n",
       "    </tr>\n",
       "    <tr>\n",
       "      <th>...</th>\n",
       "      <td>...</td>\n",
       "      <td>...</td>\n",
       "    </tr>\n",
       "    <tr>\n",
       "      <th>276</th>\n",
       "      <td>227.5250</td>\n",
       "      <td>0.600000</td>\n",
       "    </tr>\n",
       "    <tr>\n",
       "      <th>277</th>\n",
       "      <td>247.5208</td>\n",
       "      <td>0.666667</td>\n",
       "    </tr>\n",
       "    <tr>\n",
       "      <th>278</th>\n",
       "      <td>262.3750</td>\n",
       "      <td>0.857143</td>\n",
       "    </tr>\n",
       "    <tr>\n",
       "      <th>279</th>\n",
       "      <td>263.0000</td>\n",
       "      <td>0.666667</td>\n",
       "    </tr>\n",
       "    <tr>\n",
       "      <th>280</th>\n",
       "      <td>512.3292</td>\n",
       "      <td>1.000000</td>\n",
       "    </tr>\n",
       "  </tbody>\n",
       "</table>\n",
       "<p>281 rows × 2 columns</p>\n",
       "</div>"
      ],
      "text/plain": [
       "         fare  survived\n",
       "0      0.0000  0.117647\n",
       "1      3.1708  1.000000\n",
       "2      4.0125  0.000000\n",
       "3      5.0000  0.000000\n",
       "4      6.2375  0.000000\n",
       "..        ...       ...\n",
       "276  227.5250  0.600000\n",
       "277  247.5208  0.666667\n",
       "278  262.3750  0.857143\n",
       "279  263.0000  0.666667\n",
       "280  512.3292  1.000000\n",
       "\n",
       "[281 rows x 2 columns]"
      ]
     },
     "execution_count": 173,
     "metadata": {},
     "output_type": "execute_result"
    }
   ],
   "source": [
    "the_titanic_df.groupby(['fare'], as_index=False)['survived'].mean()"
   ]
  },
  {
   "cell_type": "code",
   "execution_count": 174,
   "metadata": {},
   "outputs": [
    {
     "data": {
      "application/vnd.microsoft.datawrangler.viewer.v0+json": {
       "columns": [
        {
         "name": "index",
         "rawType": "int64",
         "type": "integer"
        },
        {
         "name": "age",
         "rawType": "float64",
         "type": "float"
        },
        {
         "name": "survived",
         "rawType": "float64",
         "type": "float"
        }
       ],
       "conversionMethod": "pd.DataFrame",
       "ref": "0d7deaf7-8aa8-4667-a1da-e17f0fdb1554",
       "rows": [
        [
         "0",
         "0.17",
         "1.0"
        ],
        [
         "1",
         "0.67",
         "1.0"
        ],
        [
         "2",
         "0.75",
         "0.6666666666666666"
        ],
        [
         "3",
         "0.83",
         "1.0"
        ],
        [
         "4",
         "0.92",
         "1.0"
        ],
        [
         "5",
         "1.0",
         "0.7"
        ],
        [
         "6",
         "2.0",
         "0.3333333333333333"
        ],
        [
         "7",
         "3.0",
         "0.7142857142857143"
        ],
        [
         "8",
         "4.0",
         "0.7"
        ],
        [
         "9",
         "5.0",
         "0.8"
        ],
        [
         "10",
         "6.0",
         "0.5"
        ],
        [
         "11",
         "7.0",
         "0.5"
        ],
        [
         "12",
         "8.0",
         "0.6666666666666666"
        ],
        [
         "13",
         "9.0",
         "0.4"
        ],
        [
         "14",
         "10.0",
         "0.0"
        ],
        [
         "15",
         "11.0",
         "0.25"
        ],
        [
         "16",
         "11.5",
         "0.0"
        ],
        [
         "17",
         "12.0",
         "1.0"
        ],
        [
         "18",
         "13.0",
         "0.75"
        ],
        [
         "19",
         "14.0",
         "0.5"
        ],
        [
         "20",
         "14.5",
         "0.0"
        ],
        [
         "21",
         "15.0",
         "0.8333333333333334"
        ],
        [
         "22",
         "16.0",
         "0.4444444444444444"
        ],
        [
         "23",
         "17.0",
         "0.35"
        ],
        [
         "24",
         "18.0",
         "0.358974358974359"
        ],
        [
         "25",
         "18.5",
         "0.0"
        ],
        [
         "26",
         "19.0",
         "0.3793103448275862"
        ],
        [
         "27",
         "20.0",
         "0.34782608695652173"
        ],
        [
         "28",
         "20.5",
         "0.0"
        ],
        [
         "29",
         "21.0",
         "0.2682926829268293"
        ],
        [
         "30",
         "22.0",
         "0.46511627906976744"
        ],
        [
         "31",
         "22.5",
         "0.0"
        ],
        [
         "32",
         "23.0",
         "0.38461538461538464"
        ],
        [
         "33",
         "23.5",
         "0.0"
        ],
        [
         "34",
         "24.0",
         "0.46808510638297873"
        ],
        [
         "35",
         "24.5",
         "0.0"
        ],
        [
         "36",
         "25.0",
         "0.3235294117647059"
        ],
        [
         "37",
         "26.0",
         "0.36666666666666664"
        ],
        [
         "38",
         "26.5",
         "0.0"
        ],
        [
         "39",
         "27.0",
         "0.43333333333333335"
        ],
        [
         "40",
         "28.0",
         "0.25"
        ],
        [
         "41",
         "28.5",
         "0.0"
        ],
        [
         "42",
         "29.0",
         "0.3020833333333333"
        ],
        [
         "43",
         "30.0",
         "0.375"
        ],
        [
         "44",
         "30.5",
         "0.0"
        ],
        [
         "45",
         "31.0",
         "0.5217391304347826"
        ],
        [
         "46",
         "32.0",
         "0.4583333333333333"
        ],
        [
         "47",
         "32.5",
         "0.25"
        ],
        [
         "48",
         "33.0",
         "0.42857142857142855"
        ],
        [
         "49",
         "34.0",
         "0.375"
        ]
       ],
       "shape": {
        "columns": 2,
        "rows": 96
       }
      },
      "text/html": [
       "<div>\n",
       "<style scoped>\n",
       "    .dataframe tbody tr th:only-of-type {\n",
       "        vertical-align: middle;\n",
       "    }\n",
       "\n",
       "    .dataframe tbody tr th {\n",
       "        vertical-align: top;\n",
       "    }\n",
       "\n",
       "    .dataframe thead th {\n",
       "        text-align: right;\n",
       "    }\n",
       "</style>\n",
       "<table border=\"1\" class=\"dataframe\">\n",
       "  <thead>\n",
       "    <tr style=\"text-align: right;\">\n",
       "      <th></th>\n",
       "      <th>age</th>\n",
       "      <th>survived</th>\n",
       "    </tr>\n",
       "  </thead>\n",
       "  <tbody>\n",
       "    <tr>\n",
       "      <th>0</th>\n",
       "      <td>0.17</td>\n",
       "      <td>1.000000</td>\n",
       "    </tr>\n",
       "    <tr>\n",
       "      <th>1</th>\n",
       "      <td>0.67</td>\n",
       "      <td>1.000000</td>\n",
       "    </tr>\n",
       "    <tr>\n",
       "      <th>2</th>\n",
       "      <td>0.75</td>\n",
       "      <td>0.666667</td>\n",
       "    </tr>\n",
       "    <tr>\n",
       "      <th>3</th>\n",
       "      <td>0.83</td>\n",
       "      <td>1.000000</td>\n",
       "    </tr>\n",
       "    <tr>\n",
       "      <th>4</th>\n",
       "      <td>0.92</td>\n",
       "      <td>1.000000</td>\n",
       "    </tr>\n",
       "    <tr>\n",
       "      <th>...</th>\n",
       "      <td>...</td>\n",
       "      <td>...</td>\n",
       "    </tr>\n",
       "    <tr>\n",
       "      <th>91</th>\n",
       "      <td>70.50</td>\n",
       "      <td>0.000000</td>\n",
       "    </tr>\n",
       "    <tr>\n",
       "      <th>92</th>\n",
       "      <td>71.00</td>\n",
       "      <td>0.000000</td>\n",
       "    </tr>\n",
       "    <tr>\n",
       "      <th>93</th>\n",
       "      <td>74.00</td>\n",
       "      <td>0.000000</td>\n",
       "    </tr>\n",
       "    <tr>\n",
       "      <th>94</th>\n",
       "      <td>76.00</td>\n",
       "      <td>1.000000</td>\n",
       "    </tr>\n",
       "    <tr>\n",
       "      <th>95</th>\n",
       "      <td>80.00</td>\n",
       "      <td>1.000000</td>\n",
       "    </tr>\n",
       "  </tbody>\n",
       "</table>\n",
       "<p>96 rows × 2 columns</p>\n",
       "</div>"
      ],
      "text/plain": [
       "      age  survived\n",
       "0    0.17  1.000000\n",
       "1    0.67  1.000000\n",
       "2    0.75  0.666667\n",
       "3    0.83  1.000000\n",
       "4    0.92  1.000000\n",
       "..    ...       ...\n",
       "91  70.50  0.000000\n",
       "92  71.00  0.000000\n",
       "93  74.00  0.000000\n",
       "94  76.00  1.000000\n",
       "95  80.00  1.000000\n",
       "\n",
       "[96 rows x 2 columns]"
      ]
     },
     "execution_count": 174,
     "metadata": {},
     "output_type": "execute_result"
    }
   ],
   "source": [
    "the_titanic_df.groupby(['age'], as_index=False)['survived'].mean()"
   ]
  },
  {
   "cell_type": "code",
   "execution_count": 175,
   "metadata": {},
   "outputs": [
    {
     "data": {
      "application/vnd.microsoft.datawrangler.viewer.v0+json": {
       "columns": [
        {
         "name": "index",
         "rawType": "int64",
         "type": "integer"
        },
        {
         "name": "sn",
         "rawType": "object",
         "type": "string"
        },
        {
         "name": "survived",
         "rawType": "float64",
         "type": "float"
        }
       ],
       "conversionMethod": "pd.DataFrame",
       "ref": "10a37ab8-2801-4dba-9d06-280bed6e0480",
       "rows": [
        [
         "0",
         "1",
         "0.0"
        ],
        [
         "1",
         "10",
         "1.0"
        ],
        [
         "2",
         "100",
         "1.0"
        ],
        [
         "3",
         "1000",
         "0.0"
        ],
        [
         "4",
         "1001",
         "1.0"
        ],
        [
         "5",
         "1002",
         "0.0"
        ],
        [
         "6",
         "1003",
         "0.0"
        ],
        [
         "7",
         "1004",
         "0.0"
        ],
        [
         "8",
         "1005",
         "0.0"
        ],
        [
         "9",
         "1006",
         "0.0"
        ],
        [
         "10",
         "1007",
         "0.0"
        ],
        [
         "11",
         "1008",
         "0.0"
        ],
        [
         "12",
         "1009",
         "1.0"
        ],
        [
         "13",
         "101",
         "1.0"
        ],
        [
         "14",
         "1010",
         "1.0"
        ],
        [
         "15",
         "1011",
         "1.0"
        ],
        [
         "16",
         "1012",
         "1.0"
        ],
        [
         "17",
         "1013",
         "0.0"
        ],
        [
         "18",
         "1014",
         "0.0"
        ],
        [
         "19",
         "1015",
         "0.0"
        ],
        [
         "20",
         "1016",
         "1.0"
        ],
        [
         "21",
         "1017",
         "0.0"
        ],
        [
         "22",
         "1018",
         "0.0"
        ],
        [
         "23",
         "1019",
         "0.0"
        ],
        [
         "24",
         "102",
         "1.0"
        ],
        [
         "25",
         "1020",
         "1.0"
        ],
        [
         "26",
         "1021",
         "0.0"
        ],
        [
         "27",
         "1022",
         "0.0"
        ],
        [
         "28",
         "1023",
         "0.0"
        ],
        [
         "29",
         "1024",
         "0.0"
        ],
        [
         "30",
         "1025",
         "0.0"
        ],
        [
         "31",
         "1026",
         "1.0"
        ],
        [
         "32",
         "1027",
         "0.0"
        ],
        [
         "33",
         "1028",
         "0.0"
        ],
        [
         "34",
         "1029",
         "0.0"
        ],
        [
         "35",
         "103",
         "1.0"
        ],
        [
         "36",
         "1030",
         "0.0"
        ],
        [
         "37",
         "1031",
         "0.0"
        ],
        [
         "38",
         "1032",
         "1.0"
        ],
        [
         "39",
         "1033",
         "0.0"
        ],
        [
         "40",
         "1034",
         "0.0"
        ],
        [
         "41",
         "1035",
         "1.0"
        ],
        [
         "42",
         "1036",
         "1.0"
        ],
        [
         "43",
         "1037",
         "0.0"
        ],
        [
         "44",
         "1038",
         "1.0"
        ],
        [
         "45",
         "1039",
         "0.0"
        ],
        [
         "46",
         "104",
         "0.0"
        ],
        [
         "47",
         "1040",
         "0.0"
        ],
        [
         "48",
         "1041",
         "1.0"
        ],
        [
         "49",
         "1042",
         "0.0"
        ]
       ],
       "shape": {
        "columns": 2,
        "rows": 1300
       }
      },
      "text/html": [
       "<div>\n",
       "<style scoped>\n",
       "    .dataframe tbody tr th:only-of-type {\n",
       "        vertical-align: middle;\n",
       "    }\n",
       "\n",
       "    .dataframe tbody tr th {\n",
       "        vertical-align: top;\n",
       "    }\n",
       "\n",
       "    .dataframe thead th {\n",
       "        text-align: right;\n",
       "    }\n",
       "</style>\n",
       "<table border=\"1\" class=\"dataframe\">\n",
       "  <thead>\n",
       "    <tr style=\"text-align: right;\">\n",
       "      <th></th>\n",
       "      <th>sn</th>\n",
       "      <th>survived</th>\n",
       "    </tr>\n",
       "  </thead>\n",
       "  <tbody>\n",
       "    <tr>\n",
       "      <th>0</th>\n",
       "      <td>1</td>\n",
       "      <td>0.0</td>\n",
       "    </tr>\n",
       "    <tr>\n",
       "      <th>1</th>\n",
       "      <td>10</td>\n",
       "      <td>1.0</td>\n",
       "    </tr>\n",
       "    <tr>\n",
       "      <th>2</th>\n",
       "      <td>100</td>\n",
       "      <td>1.0</td>\n",
       "    </tr>\n",
       "    <tr>\n",
       "      <th>3</th>\n",
       "      <td>1000</td>\n",
       "      <td>0.0</td>\n",
       "    </tr>\n",
       "    <tr>\n",
       "      <th>4</th>\n",
       "      <td>1001</td>\n",
       "      <td>1.0</td>\n",
       "    </tr>\n",
       "    <tr>\n",
       "      <th>...</th>\n",
       "      <td>...</td>\n",
       "      <td>...</td>\n",
       "    </tr>\n",
       "    <tr>\n",
       "      <th>1295</th>\n",
       "      <td>995</td>\n",
       "      <td>0.0</td>\n",
       "    </tr>\n",
       "    <tr>\n",
       "      <th>1296</th>\n",
       "      <td>996</td>\n",
       "      <td>0.0</td>\n",
       "    </tr>\n",
       "    <tr>\n",
       "      <th>1297</th>\n",
       "      <td>997</td>\n",
       "      <td>1.0</td>\n",
       "    </tr>\n",
       "    <tr>\n",
       "      <th>1298</th>\n",
       "      <td>998</td>\n",
       "      <td>0.0</td>\n",
       "    </tr>\n",
       "    <tr>\n",
       "      <th>1299</th>\n",
       "      <td>999</td>\n",
       "      <td>1.0</td>\n",
       "    </tr>\n",
       "  </tbody>\n",
       "</table>\n",
       "<p>1300 rows × 2 columns</p>\n",
       "</div>"
      ],
      "text/plain": [
       "        sn  survived\n",
       "0        1       0.0\n",
       "1       10       1.0\n",
       "2      100       1.0\n",
       "3     1000       0.0\n",
       "4     1001       1.0\n",
       "...    ...       ...\n",
       "1295   995       0.0\n",
       "1296   996       0.0\n",
       "1297   997       1.0\n",
       "1298   998       0.0\n",
       "1299   999       1.0\n",
       "\n",
       "[1300 rows x 2 columns]"
      ]
     },
     "execution_count": 175,
     "metadata": {},
     "output_type": "execute_result"
    }
   ],
   "source": [
    "the_titanic_df.groupby(['sn'], as_index=False)['survived'].mean()\n"
   ]
  },
  {
   "cell_type": "markdown",
   "metadata": {},
   "source": [
    "#### Visualization of Findings from Analysis"
   ]
  },
  {
   "cell_type": "markdown",
   "metadata": {},
   "source": [
    "#### passenger class average survival rate"
   ]
  },
  {
   "cell_type": "code",
   "execution_count": 176,
   "metadata": {},
   "outputs": [
    {
     "data": {
      "image/png": "[encoded data removed]",
      "text/plain": [
       "<Figure size 800x600 with 1 Axes>"
      ]
     },
     "metadata": {},
     "output_type": "display_data"
    }
   ],
   "source": [
    "plt.figure(figsize=(8, 6))\n",
    "sns.barplot(x='pclass', y='survived', data=the_titanic_df, hue='pclass', palette='Set2')   \n",
    "plt.title('Average Survival Rate by Passenger Class')\n",
    "plt.ylabel('Survival Rate')\n",
    "plt.xlabel('Passenger Class')\n",
    "plt.ylim(0, 1)\n",
    "plt.show()"
   ]
  },
  {
   "cell_type": "markdown",
   "metadata": {},
   "source": [
    "#### average survival rate of gender distribution"
   ]
  },
  {
   "cell_type": "code",
   "execution_count": 177,
   "metadata": {},
   "outputs": [
    {
     "data": {
      "image/png": "[encoded data removed]",
      "text/plain": [
       "<Figure size 800x600 with 1 Axes>"
      ]
     },
     "metadata": {},
     "output_type": "display_data"
    }
   ],
   "source": [
    "plt.figure(figsize=(8, 6))\n",
    "sns.barplot(x='gender', y='survived', data=the_titanic_df, hue='gender', palette='Set2')\n",
    "plt.title('Average Survival Rate by Gender')\n",
    "plt.ylabel('Survival Rate')\n",
    "plt.xlabel('Gender')\n",
    "plt.ylim(0, 1)\n",
    "plt.show()"
   ]
  },
  {
   "cell_type": "markdown",
   "metadata": {},
   "source": [
    "#### Average Survival Rate by Age"
   ]
  },
  {
   "cell_type": "code",
   "execution_count": 178,
   "metadata": {},
   "outputs": [
    {
     "data": {
      "image/png": "[encoded data removed]",
      "text/plain": [
       "<Figure size 1000x600 with 1 Axes>"
      ]
     },
     "metadata": {},
     "output_type": "display_data"
    }
   ],
   "source": [
    "\n",
    "plt.figure(figsize=(10, 6))\n",
    "sns.lineplot(x='age', y='survived', data=the_titanic_df,)\n",
    "plt.title('Average Survival Rate by Age')\n",
    "plt.ylabel('Survival Rate')\n",
    "plt.xlabel('Age')\n",
    "plt.ylim(0, 1)\n",
    "plt.show()"
   ]
  },
  {
   "cell_type": "markdown",
   "metadata": {},
   "source": []
  },
  {
   "cell_type": "code",
   "execution_count": 179,
   "metadata": {},
   "outputs": [
    {
     "data": {
      "image/png": "[encoded data removed]",
      "text/plain": [
       "<Figure size 1000x600 with 1 Axes>"
      ]
     },
     "metadata": {},
     "output_type": "display_data"
    }
   ],
   "source": [
    "plt.figure(figsize=(10, 6))\n",
    "sns.countplot(data=the_titanic_df, x='pclass', hue='survived', order=[1, 2, 3])\n",
    "plt.title('Survival by Passenger Class')\n",
    "plt.xlabel('Passenger Class')\n",
    "plt.ylabel('Count')\n",
    "plt.legend(title='Survived', loc='upper right', labels=['No', 'Yes'])\n",
    "plt.show()"
   ]
  },
  {
   "cell_type": "markdown",
   "metadata": {},
   "source": [
    "#### heat map of relevant features..numerical values"
   ]
  },
  {
   "cell_type": "code",
   "execution_count": 180,
   "metadata": {},
   "outputs": [
    {
     "data": {
      "image/png": "[encoded data removed]",
      "text/plain": [
       "<Figure size 800x600 with 2 Axes>"
      ]
     },
     "metadata": {},
     "output_type": "display_data"
    }
   ],
   "source": [
    "relevant_features = ['pclass', 'age', 'gender', 'survived']\n",
    "data = the_titanic_df[relevant_features].copy()\n",
    "data = pd.get_dummies(data, columns=['gender'], drop_first=True)\n",
    "correlation_matrix = data.corr()\n",
    "plt.figure(figsize=(8, 6))\n",
    "sns.heatmap(correlation_matrix, annot=True, fmt=\".2f\", cmap=\"coolwarm\", cbar=True)\n",
    "plt.title('Correlation Heatmap of Relevant Features (with One-Hot Encoded Gender)')\n",
    "plt.show()"
   ]
  },
  {
   "cell_type": "markdown",
   "metadata": {},
   "source": [
    "### Machine Learning Integration\n",
    "\n",
    "### going to explore various models and select the most promising of them"
   ]
  },
  {
   "cell_type": "code",
   "execution_count": 181,
   "metadata": {},
   "outputs": [],
   "source": [
    "from sklearn.model_selection import train_test_split\n",
    "from sklearn.linear_model import LogisticRegression\n",
    "from sklearn.tree import DecisionTreeClassifier\n",
    "from sklearn.ensemble import RandomForestClassifier\n",
    "from sklearn.svm import SVC\n",
    "from sklearn.metrics import accuracy_score, precision_score, recall_score, f1_score"
   ]
  },
  {
   "cell_type": "markdown",
   "metadata": {},
   "source": [
    "#### Selecting relevant features/ columns from dataframe to make model simpler and efficient"
   ]
  },
  {
   "cell_type": "code",
   "execution_count": 182,
   "metadata": {},
   "outputs": [],
   "source": [
    "\n",
    "data = the_titanic_df[relevant_features].copy()"
   ]
  },
  {
   "cell_type": "markdown",
   "metadata": {},
   "source": [
    "#### splitting of dataset into test and training data"
   ]
  },
  {
   "cell_type": "code",
   "execution_count": 183,
   "metadata": {},
   "outputs": [],
   "source": [
    "X = data.drop('survived', axis=1)\n",
    "y = data['survived']\n",
    "X = pd.get_dummies(X, drop_first=True)\n",
    "X_train, X_test, y_train, y_test = train_test_split(X, y, test_size=0.25, random_state=42)\n"
   ]
  },
  {
   "cell_type": "markdown",
   "metadata": {},
   "source": [
    "#### define models for selection"
   ]
  },
  {
   "cell_type": "code",
   "execution_count": 184,
   "metadata": {},
   "outputs": [
    {
     "name": "stdout",
     "output_type": "stream",
     "text": [
      "Model: Logistic Regression\n",
      "Accuracy: 0.8123076923076923\n",
      "Precision: 0.7796610169491526\n",
      "Recall: 0.7244094488188977\n",
      "F1-Score: 0.7510204081632653\n",
      "\n",
      "Model: Decision Tree\n",
      "Accuracy: 0.7815384615384615\n",
      "Precision: 0.7857142857142857\n",
      "Recall: 0.6062992125984252\n",
      "F1-Score: 0.6844444444444444\n",
      "\n",
      "Model: Random Forest\n",
      "Accuracy: 0.7907692307692308\n",
      "Precision: 0.7478991596638656\n",
      "Recall: 0.7007874015748031\n",
      "F1-Score: 0.7235772357723578\n",
      "\n",
      "Model: Support Vector Machine\n",
      "Accuracy: 0.6246153846153846\n",
      "Precision: 0.6190476190476191\n",
      "Recall: 0.10236220472440945\n",
      "F1-Score: 0.17567567567567569\n",
      "\n"
     ]
    }
   ],
   "source": [
    "\n",
    "models = {\n",
    "    'Logistic Regression': LogisticRegression(),\n",
    "    'Decision Tree': DecisionTreeClassifier(),\n",
    "    'Random Forest': RandomForestClassifier(),\n",
    "    'Support Vector Machine': SVC(),\n",
    "}\n",
    "\n",
    "# Train, predict, and evaluate\n",
    "for model_name, model in models.items():\n",
    "    print(f\"Model: {model_name}\")\n",
    "    \n",
    "    # Fit the model\n",
    "    model.fit(X_train, y_train)\n",
    "\n",
    "    # Make predictions\n",
    "    y_pred = model.predict(X_test)\n",
    "\n",
    "    # Evaluate the model\n",
    "    accuracy = accuracy_score(y_test, y_pred)\n",
    "    precision = precision_score(y_test, y_pred)\n",
    "    recall = recall_score(y_test, y_pred)\n",
    "    f1 = f1_score(y_test, y_pred)\n",
    "\n",
    "    print(f\"Accuracy: {accuracy}\")\n",
    "    print(f\"Precision: {precision}\")\n",
    "    print(f\"Recall: {recall}\")\n",
    "    print(f\"F1-Score: {f1}\\n\")\n",
    "\n"
   ]
  },
  {
   "cell_type": "code",
   "execution_count": 185,
   "metadata": {},
   "outputs": [
    {
     "name": "stdout",
     "output_type": "stream",
     "text": [
      "XGBoost model trained successfully!\n"
     ]
    }
   ],
   "source": [
    "from xgboost import XGBClassifier\n",
    "import numpy as np\n",
    "import pandas as pd\n",
    "from sklearn.model_selection import train_test_split\n",
    "\n",
    "X = data.drop('survived', axis=1)\n",
    "y = data['survived']\n",
    "X = pd.get_dummies(X, drop_first=True)\n",
    "X_train, X_test, y_train, y_test = train_test_split(X, y, test_size=0.25, random_state=42)\n",
    "\n",
    "\n",
    "X_train = X_train.fillna(0) \n",
    "X_train = np.array(X_train)  \n",
    "y_train = np.array(y_train) \n",
    "\n",
    "\n",
    "xgb_model = XGBClassifier(eval_metric='logloss', tree_method='auto')\n",
    "\n",
    "xgb_model.fit(X_train, y_train)\n",
    "\n",
    "print(\"XGBoost model trained successfully!\")"
   ]
  },
  {
   "cell_type": "code",
   "execution_count": 186,
   "metadata": {},
   "outputs": [
    {
     "name": "stdout",
     "output_type": "stream",
     "text": [
      "Model Evaluation Metrics:\n",
      "Accuracy: 0.78\n",
      "Precision: 0.78\n",
      "Recall: 0.63\n",
      "F1 Score: 0.70\n",
      "\n",
      "Confusion Matrix:\n",
      "[[175  23]\n",
      " [ 47  80]]\n",
      "\n",
      "Classification Report:\n",
      "              precision    recall  f1-score   support\n",
      "\n",
      "           0       0.79      0.88      0.83       198\n",
      "           1       0.78      0.63      0.70       127\n",
      "\n",
      "    accuracy                           0.78       325\n",
      "   macro avg       0.78      0.76      0.76       325\n",
      "weighted avg       0.78      0.78      0.78       325\n",
      "\n"
     ]
    }
   ],
   "source": [
    "from sklearn.metrics import accuracy_score, precision_score, recall_score, f1_score, confusion_matrix, classification_report\n",
    "\n",
    "y_pred = xgb_model.predict(X_test)\n",
    "\n",
    "\n",
    "accuracy = accuracy_score(y_test, y_pred)\n",
    "precision = precision_score(y_test, y_pred)\n",
    "recall = recall_score(y_test, y_pred)\n",
    "f1 = f1_score(y_test, y_pred)\n",
    "\n",
    "\n",
    "print(\"Model Evaluation Metrics:\")\n",
    "print(f\"Accuracy: {accuracy:.2f}\")\n",
    "print(f\"Precision: {precision:.2f}\")\n",
    "print(f\"Recall: {recall:.2f}\")\n",
    "print(f\"F1 Score: {f1:.2f}\")\n",
    "\n",
    "\n",
    "print(\"\\nConfusion Matrix:\")\n",
    "print(confusion_matrix(y_test, y_pred))\n",
    "\n",
    "print(\"\\nClassification Report:\")\n",
    "print(classification_report(y_test, y_pred))"
   ]
  }
 ],
 "metadata": {
  "kernelspec": {
   "display_name": "ml",
   "language": "python",
   "name": "python3"
  },
  "language_info": {
   "codemirror_mode": {
    "name": "ipython",
    "version": 3
   },
   "file_extension": ".py",
   "mimetype": "text/x-python",
   "name": "python",
   "nbconvert_exporter": "python",
   "pygments_lexer": "ipython3",
   "version": "3.11.11"
  }
 },
 "nbformat": 4,
 "nbformat_minor": 2
}
