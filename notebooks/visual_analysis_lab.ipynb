{
 "cells": [
  {
   "cell_type": "markdown",
   "metadata": {},
   "source": [
    "Visualization"
   ]
  },
  {
   "cell_type": "markdown",
   "metadata": {},
   "source": [
    "### EXPLORATORY DATA ANALYSIS"
   ]
  },
  {
   "cell_type": "code",
   "execution_count": 70,
   "metadata": {},
   "outputs": [],
   "source": [
    "import pandas as pd\n",
    "import matplotlib.pyplot as plt\n",
    "import seaborn as sns\n",
    "import numpy as np"
   ]
  },
  {
   "cell_type": "code",
   "execution_count": 9,
   "metadata": {},
   "outputs": [
    {
     "data": {
      "application/vnd.microsoft.datawrangler.viewer.v0+json": {
       "columns": [
        {
         "name": "index",
         "rawType": "int64",
         "type": "integer"
        },
        {
         "name": "sn",
         "rawType": "int64",
         "type": "integer"
        },
        {
         "name": "pclass",
         "rawType": "int64",
         "type": "integer"
        },
        {
         "name": "survived",
         "rawType": "int64",
         "type": "integer"
        },
        {
         "name": "name",
         "rawType": "object",
         "type": "string"
        },
        {
         "name": "gender",
         "rawType": "object",
         "type": "string"
        },
        {
         "name": "age",
         "rawType": "float64",
         "type": "float"
        },
        {
         "name": "family",
         "rawType": "float64",
         "type": "float"
        },
        {
         "name": "fare",
         "rawType": "float64",
         "type": "float"
        },
        {
         "name": "embarked",
         "rawType": "object",
         "type": "string"
        },
        {
         "name": "date",
         "rawType": "object",
         "type": "string"
        }
       ],
       "conversionMethod": "pd.DataFrame",
       "ref": "25160d3a-114e-46f1-9dd9-196befd9b62b",
       "rows": [
        [
         "0",
         "1",
         "3",
         "0",
         "Mr. Anthony",
         "male",
         "42.0",
         "0.0",
         "7.55",
         "S",
         "01-Jan-90"
        ],
        [
         "1",
         "2",
         "3",
         "0",
         "Master. Eugene Joseph",
         "male",
         "29.0",
         "2.0",
         "20.25",
         "S",
         "02-Jan-90"
        ],
        [
         "2",
         "3",
         "2",
         "0",
         "Abbott, Mr. Rossmore Edward",
         "male",
         "29.0",
         "2.0",
         "33.0",
         "S",
         "03-Jan-90"
        ],
        [
         "3",
         "5",
         "3",
         "1",
         "Abelseth, Miss. Karen Marie",
         "female",
         "16.0",
         "0.0",
         "7.65",
         "S",
         "05-Jan-90"
        ],
        [
         "4",
         "6",
         "3",
         "1",
         "Abelseth, Mr. Olaus Jorgensen",
         "male",
         "25.0",
         "0.0",
         "7.65",
         "S",
         "06-Jan-90"
        ],
        [
         "5",
         "7",
         "2",
         "0",
         "Abelson, Mr. Samuel",
         "male",
         "30.0",
         "1.0",
         "24.0",
         "C",
         "07-Jan-90"
        ],
        [
         "6",
         "8",
         "2",
         "1",
         "Abelson, Mrs. Samuel (Hannah Wizosky)",
         "female",
         "28.0",
         "1.0",
         "24.0",
         "C",
         "08-Jan-90"
        ],
        [
         "7",
         "9",
         "3",
         "1",
         "Abrahamsson, Mr. Abraham August Johannes",
         "male",
         "20.0",
         "0.0",
         "7.925",
         "S",
         "09-Jan-90"
        ],
        [
         "8",
         "10",
         "3",
         "1",
         "Abrahim, Mrs. Joseph (Sophie Halaut Easu)",
         "female",
         "18.0",
         "0.0",
         "7.2292",
         "C",
         "10-Jan-90"
        ],
        [
         "9",
         "11",
         "3",
         "0",
         "Adahl, Mr. Mauritz Nils Martin",
         "male",
         "30.0",
         "0.0",
         "7.25",
         "S",
         "11-Jan-90"
        ]
       ],
       "shape": {
        "columns": 10,
        "rows": 10
       }
      },
      "text/html": [
       "<div>\n",
       "<style scoped>\n",
       "    .dataframe tbody tr th:only-of-type {\n",
       "        vertical-align: middle;\n",
       "    }\n",
       "\n",
       "    .dataframe tbody tr th {\n",
       "        vertical-align: top;\n",
       "    }\n",
       "\n",
       "    .dataframe thead th {\n",
       "        text-align: right;\n",
       "    }\n",
       "</style>\n",
       "<table border=\"1\" class=\"dataframe\">\n",
       "  <thead>\n",
       "    <tr style=\"text-align: right;\">\n",
       "      <th></th>\n",
       "      <th>sn</th>\n",
       "      <th>pclass</th>\n",
       "      <th>survived</th>\n",
       "      <th>name</th>\n",
       "      <th>gender</th>\n",
       "      <th>age</th>\n",
       "      <th>family</th>\n",
       "      <th>fare</th>\n",
       "      <th>embarked</th>\n",
       "      <th>date</th>\n",
       "    </tr>\n",
       "  </thead>\n",
       "  <tbody>\n",
       "    <tr>\n",
       "      <th>0</th>\n",
       "      <td>1</td>\n",
       "      <td>3</td>\n",
       "      <td>0</td>\n",
       "      <td>Mr. Anthony</td>\n",
       "      <td>male</td>\n",
       "      <td>42.0</td>\n",
       "      <td>0.0</td>\n",
       "      <td>7.5500</td>\n",
       "      <td>S</td>\n",
       "      <td>01-Jan-90</td>\n",
       "    </tr>\n",
       "    <tr>\n",
       "      <th>1</th>\n",
       "      <td>2</td>\n",
       "      <td>3</td>\n",
       "      <td>0</td>\n",
       "      <td>Master. Eugene Joseph</td>\n",
       "      <td>male</td>\n",
       "      <td>29.0</td>\n",
       "      <td>2.0</td>\n",
       "      <td>20.2500</td>\n",
       "      <td>S</td>\n",
       "      <td>02-Jan-90</td>\n",
       "    </tr>\n",
       "    <tr>\n",
       "      <th>2</th>\n",
       "      <td>3</td>\n",
       "      <td>2</td>\n",
       "      <td>0</td>\n",
       "      <td>Abbott, Mr. Rossmore Edward</td>\n",
       "      <td>male</td>\n",
       "      <td>29.0</td>\n",
       "      <td>2.0</td>\n",
       "      <td>33.0000</td>\n",
       "      <td>S</td>\n",
       "      <td>03-Jan-90</td>\n",
       "    </tr>\n",
       "    <tr>\n",
       "      <th>3</th>\n",
       "      <td>5</td>\n",
       "      <td>3</td>\n",
       "      <td>1</td>\n",
       "      <td>Abelseth, Miss. Karen Marie</td>\n",
       "      <td>female</td>\n",
       "      <td>16.0</td>\n",
       "      <td>0.0</td>\n",
       "      <td>7.6500</td>\n",
       "      <td>S</td>\n",
       "      <td>05-Jan-90</td>\n",
       "    </tr>\n",
       "    <tr>\n",
       "      <th>4</th>\n",
       "      <td>6</td>\n",
       "      <td>3</td>\n",
       "      <td>1</td>\n",
       "      <td>Abelseth, Mr. Olaus Jorgensen</td>\n",
       "      <td>male</td>\n",
       "      <td>25.0</td>\n",
       "      <td>0.0</td>\n",
       "      <td>7.6500</td>\n",
       "      <td>S</td>\n",
       "      <td>06-Jan-90</td>\n",
       "    </tr>\n",
       "    <tr>\n",
       "      <th>5</th>\n",
       "      <td>7</td>\n",
       "      <td>2</td>\n",
       "      <td>0</td>\n",
       "      <td>Abelson, Mr. Samuel</td>\n",
       "      <td>male</td>\n",
       "      <td>30.0</td>\n",
       "      <td>1.0</td>\n",
       "      <td>24.0000</td>\n",
       "      <td>C</td>\n",
       "      <td>07-Jan-90</td>\n",
       "    </tr>\n",
       "    <tr>\n",
       "      <th>6</th>\n",
       "      <td>8</td>\n",
       "      <td>2</td>\n",
       "      <td>1</td>\n",
       "      <td>Abelson, Mrs. Samuel (Hannah Wizosky)</td>\n",
       "      <td>female</td>\n",
       "      <td>28.0</td>\n",
       "      <td>1.0</td>\n",
       "      <td>24.0000</td>\n",
       "      <td>C</td>\n",
       "      <td>08-Jan-90</td>\n",
       "    </tr>\n",
       "    <tr>\n",
       "      <th>7</th>\n",
       "      <td>9</td>\n",
       "      <td>3</td>\n",
       "      <td>1</td>\n",
       "      <td>Abrahamsson, Mr. Abraham August Johannes</td>\n",
       "      <td>male</td>\n",
       "      <td>20.0</td>\n",
       "      <td>0.0</td>\n",
       "      <td>7.9250</td>\n",
       "      <td>S</td>\n",
       "      <td>09-Jan-90</td>\n",
       "    </tr>\n",
       "    <tr>\n",
       "      <th>8</th>\n",
       "      <td>10</td>\n",
       "      <td>3</td>\n",
       "      <td>1</td>\n",
       "      <td>Abrahim, Mrs. Joseph (Sophie Halaut Easu)</td>\n",
       "      <td>female</td>\n",
       "      <td>18.0</td>\n",
       "      <td>0.0</td>\n",
       "      <td>7.2292</td>\n",
       "      <td>C</td>\n",
       "      <td>10-Jan-90</td>\n",
       "    </tr>\n",
       "    <tr>\n",
       "      <th>9</th>\n",
       "      <td>11</td>\n",
       "      <td>3</td>\n",
       "      <td>0</td>\n",
       "      <td>Adahl, Mr. Mauritz Nils Martin</td>\n",
       "      <td>male</td>\n",
       "      <td>30.0</td>\n",
       "      <td>0.0</td>\n",
       "      <td>7.2500</td>\n",
       "      <td>S</td>\n",
       "      <td>11-Jan-90</td>\n",
       "    </tr>\n",
       "  </tbody>\n",
       "</table>\n",
       "</div>"
      ],
      "text/plain": [
       "   sn  pclass  survived                                       name  gender  \\\n",
       "0   1       3         0                                Mr. Anthony    male   \n",
       "1   2       3         0                      Master. Eugene Joseph    male   \n",
       "2   3       2         0                Abbott, Mr. Rossmore Edward    male   \n",
       "3   5       3         1                Abelseth, Miss. Karen Marie  female   \n",
       "4   6       3         1              Abelseth, Mr. Olaus Jorgensen    male   \n",
       "5   7       2         0                        Abelson, Mr. Samuel    male   \n",
       "6   8       2         1      Abelson, Mrs. Samuel (Hannah Wizosky)  female   \n",
       "7   9       3         1   Abrahamsson, Mr. Abraham August Johannes    male   \n",
       "8  10       3         1  Abrahim, Mrs. Joseph (Sophie Halaut Easu)  female   \n",
       "9  11       3         0             Adahl, Mr. Mauritz Nils Martin    male   \n",
       "\n",
       "    age  family     fare embarked       date  \n",
       "0  42.0     0.0   7.5500        S  01-Jan-90  \n",
       "1  29.0     2.0  20.2500        S  02-Jan-90  \n",
       "2  29.0     2.0  33.0000        S  03-Jan-90  \n",
       "3  16.0     0.0   7.6500        S  05-Jan-90  \n",
       "4  25.0     0.0   7.6500        S  06-Jan-90  \n",
       "5  30.0     1.0  24.0000        C  07-Jan-90  \n",
       "6  28.0     1.0  24.0000        C  08-Jan-90  \n",
       "7  20.0     0.0   7.9250        S  09-Jan-90  \n",
       "8  18.0     0.0   7.2292        C  10-Jan-90  \n",
       "9  30.0     0.0   7.2500        S  11-Jan-90  "
      ]
     },
     "execution_count": 9,
     "metadata": {},
     "output_type": "execute_result"
    }
   ],
   "source": [
    "##Reading proceessed data\n",
    "the_titanic_df = pd.read_csv(\"../datasets/preprocessed_dataset/stage_data.csv\")\n",
    "the_titanic_df.head(10)"
   ]
  },
  {
   "cell_type": "markdown",
   "metadata": {},
   "source": [
    "# Titanic Basic Analysis\n",
    "\n",
    "This feature provides a basic analysis of the the dataset\n",
    "1.  Visualization of age distribution among Titanic passengers.\n",
    "2.  Examination of gender-based distribution across passenger classes.\n",
    "3.  Analysis of survival rates across different passenger classes."
   ]
  },
  {
   "cell_type": "code",
   "execution_count": 26,
   "metadata": {},
   "outputs": [
    {
     "name": "stdout",
     "output_type": "stream",
     "text": [
      "<class 'pandas.core.frame.DataFrame'>\n",
      "RangeIndex: 1297 entries, 0 to 1296\n",
      "Data columns (total 10 columns):\n",
      " #   Column    Non-Null Count  Dtype  \n",
      "---  ------    --------------  -----  \n",
      " 0   sn        1297 non-null   int64  \n",
      " 1   pclass    1297 non-null   int64  \n",
      " 2   survived  1297 non-null   int64  \n",
      " 3   name      1297 non-null   object \n",
      " 4   gender    1297 non-null   object \n",
      " 5   age       1297 non-null   float64\n",
      " 6   family    1297 non-null   float64\n",
      " 7   fare      1297 non-null   float64\n",
      " 8   embarked  1297 non-null   object \n",
      " 9   date      1297 non-null   object \n",
      "dtypes: float64(3), int64(3), object(4)\n",
      "memory usage: 101.5+ KB\n",
      "None\n",
      "                sn       pclass     survived          age       family  \\\n",
      "count  1297.000000  1297.000000  1297.000000  1297.000000  1297.000000   \n",
      "mean    651.299923     2.287587     0.384734    29.760154     0.889746   \n",
      "std     375.271778     0.838746     0.486720    12.875063     1.588742   \n",
      "min       1.000000     1.000000     0.000000     0.170000     0.000000   \n",
      "25%     327.000000     2.000000     0.000000    22.000000     0.000000   \n",
      "50%     652.000000     3.000000     0.000000    29.000000     0.000000   \n",
      "75%     976.000000     3.000000     1.000000    35.000000     1.000000   \n",
      "max    1300.000000     3.000000     1.000000    80.000000    10.000000   \n",
      "\n",
      "              fare  \n",
      "count  1297.000000  \n",
      "mean     33.530789  \n",
      "std      51.924818  \n",
      "min       0.000000  \n",
      "25%       7.895800  \n",
      "50%      14.458300  \n",
      "75%      31.387500  \n",
      "max     512.329200  \n",
      "<class 'pandas.core.frame.DataFrame'>\n",
      "RangeIndex: 1297 entries, 0 to 1296\n",
      "Data columns (total 10 columns):\n",
      " #   Column    Non-Null Count  Dtype  \n",
      "---  ------    --------------  -----  \n",
      " 0   sn        1297 non-null   int64  \n",
      " 1   pclass    1297 non-null   int64  \n",
      " 2   survived  1297 non-null   int64  \n",
      " 3   name      1297 non-null   object \n",
      " 4   gender    1297 non-null   object \n",
      " 5   age       1297 non-null   float64\n",
      " 6   family    1297 non-null   float64\n",
      " 7   fare      1297 non-null   float64\n",
      " 8   embarked  1297 non-null   object \n",
      " 9   date      1297 non-null   object \n",
      "dtypes: float64(3), int64(3), object(4)\n",
      "memory usage: 101.5+ KB\n",
      "None\n"
     ]
    }
   ],
   "source": [
    "print(the_titanic_df.info())\n",
    "#finding info from categorical data\n",
    "print(the_titanic_df.describe())\n",
    "print(the_titanic_df.info())"
   ]
  },
  {
   "cell_type": "code",
   "execution_count": null,
   "metadata": {},
   "outputs": [],
   "source": [
    "#Save the cleaned and explored dataset to a CSV file in the working directory\n",
    "# the_titanic_df.to_csv('/home/thetwumasi/Desktop/workdev/Titanic_Survival_Prediction_Analysis/cleaned_and_explored_titanic_data.csv', index=False)\n",
    "\n",
    "# print(\"Cleaned and explored dataset saved as 'cleaned_and_explored_titanic_data.csv' in the working directory.\")"
   ]
  },
  {
   "cell_type": "code",
   "execution_count": null,
   "metadata": {},
   "outputs": [],
   "source": [
    "# the_titanic_df['survived'] = pd.to_numeric(the_titanic_df['survived'], errors='coerce')"
   ]
  },
  {
   "cell_type": "markdown",
   "metadata": {},
   "source": [
    "# Exploring The Relationship Between Features and Survival"
   ]
  },
  {
   "cell_type": "markdown",
   "metadata": {},
   "source": [
    "### Aggregating Titanic survival data by passenger class."
   ]
  },
  {
   "cell_type": "code",
   "execution_count": 27,
   "metadata": {},
   "outputs": [
    {
     "data": {
      "application/vnd.microsoft.datawrangler.viewer.v0+json": {
       "columns": [
        {
         "name": "pclass",
         "rawType": "int64",
         "type": "integer"
        },
        {
         "name": "survivor_count",
         "rawType": "int64",
         "type": "integer"
        },
        {
         "name": "survivor_sum",
         "rawType": "int64",
         "type": "integer"
        },
        {
         "name": "survivor_rate",
         "rawType": "float64",
         "type": "float"
        }
       ],
       "conversionMethod": "pd.DataFrame",
       "ref": "5f8425e0-4e96-47dd-a585-171a23e8438a",
       "rows": [
        [
         "1",
         "323",
         "200",
         "0.6191950464396285"
        ],
        [
         "2",
         "278",
         "119",
         "0.42805755395683454"
        ],
        [
         "3",
         "696",
         "180",
         "0.25862068965517243"
        ]
       ],
       "shape": {
        "columns": 3,
        "rows": 3
       }
      },
      "text/html": [
       "<div>\n",
       "<style scoped>\n",
       "    .dataframe tbody tr th:only-of-type {\n",
       "        vertical-align: middle;\n",
       "    }\n",
       "\n",
       "    .dataframe tbody tr th {\n",
       "        vertical-align: top;\n",
       "    }\n",
       "\n",
       "    .dataframe thead th {\n",
       "        text-align: right;\n",
       "    }\n",
       "</style>\n",
       "<table border=\"1\" class=\"dataframe\">\n",
       "  <thead>\n",
       "    <tr style=\"text-align: right;\">\n",
       "      <th></th>\n",
       "      <th>survivor_count</th>\n",
       "      <th>survivor_sum</th>\n",
       "      <th>survivor_rate</th>\n",
       "    </tr>\n",
       "    <tr>\n",
       "      <th>pclass</th>\n",
       "      <th></th>\n",
       "      <th></th>\n",
       "      <th></th>\n",
       "    </tr>\n",
       "  </thead>\n",
       "  <tbody>\n",
       "    <tr>\n",
       "      <th>1</th>\n",
       "      <td>323</td>\n",
       "      <td>200</td>\n",
       "      <td>0.619195</td>\n",
       "    </tr>\n",
       "    <tr>\n",
       "      <th>2</th>\n",
       "      <td>278</td>\n",
       "      <td>119</td>\n",
       "      <td>0.428058</td>\n",
       "    </tr>\n",
       "    <tr>\n",
       "      <th>3</th>\n",
       "      <td>696</td>\n",
       "      <td>180</td>\n",
       "      <td>0.258621</td>\n",
       "    </tr>\n",
       "  </tbody>\n",
       "</table>\n",
       "</div>"
      ],
      "text/plain": [
       "        survivor_count  survivor_sum  survivor_rate\n",
       "pclass                                             \n",
       "1                  323           200       0.619195\n",
       "2                  278           119       0.428058\n",
       "3                  696           180       0.258621"
      ]
     },
     "execution_count": 27,
     "metadata": {},
     "output_type": "execute_result"
    }
   ],
   "source": [
    "\n",
    "survivor_counts_per_pclass = the_titanic_df.groupby('pclass').agg(\n",
    "    survivor_count=('survived', 'count'),\n",
    "    survivor_sum=('survived', 'sum'),\n",
    "    survivor_rate=('survived', 'mean')\n",
    ")\n",
    "survivor_counts_per_pclass"
   ]
  },
  {
   "cell_type": "markdown",
   "metadata": {},
   "source": [
    "### Analyzing survival data based on gender and passenger class."
   ]
  },
  {
   "cell_type": "code",
   "execution_count": 31,
   "metadata": {},
   "outputs": [
    {
     "name": "stdout",
     "output_type": "stream",
     "text": [
      "               count  sum      mean\n",
      "pclass gender                      \n",
      "1      female    144  139  0.965278\n",
      "       male      179   61  0.340782\n",
      "2      female    106   94  0.886792\n",
      "       male      172   25  0.145349\n",
      "3      female    213  105  0.492958\n",
      "       male      483   75  0.155280\n"
     ]
    }
   ],
   "source": [
    "the_titanic_df.groupby(['gender'], as_index=False)['survived'].agg(['count', 'sum','mean'])\n",
    "gender_class_survival = the_titanic_df.groupby(['pclass', 'gender'])['survived'].agg(['count', 'sum','mean'])\n",
    "print(gender_class_survival)"
   ]
  },
  {
   "cell_type": "markdown",
   "metadata": {},
   "source": [
    "### Analyzing average fare by passenger class."
   ]
  },
  {
   "cell_type": "code",
   "execution_count": 33,
   "metadata": {},
   "outputs": [
    {
     "data": {
      "application/vnd.microsoft.datawrangler.viewer.v0+json": {
       "columns": [
        {
         "name": "index",
         "rawType": "int64",
         "type": "integer"
        },
        {
         "name": "pclass",
         "rawType": "int64",
         "type": "integer"
        },
        {
         "name": "fare",
         "rawType": "float64",
         "type": "float"
        }
       ],
       "conversionMethod": "pd.DataFrame",
       "ref": "68be8fa5-05ba-478c-8873-7fb627aae856",
       "rows": [
        [
         "0",
         "1",
         "87.50899164086687"
        ],
        [
         "1",
         "2",
         "21.22171726618705"
        ],
        [
         "2",
         "3",
         "13.397113505747125"
        ]
       ],
       "shape": {
        "columns": 2,
        "rows": 3
       }
      },
      "text/html": [
       "<div>\n",
       "<style scoped>\n",
       "    .dataframe tbody tr th:only-of-type {\n",
       "        vertical-align: middle;\n",
       "    }\n",
       "\n",
       "    .dataframe tbody tr th {\n",
       "        vertical-align: top;\n",
       "    }\n",
       "\n",
       "    .dataframe thead th {\n",
       "        text-align: right;\n",
       "    }\n",
       "</style>\n",
       "<table border=\"1\" class=\"dataframe\">\n",
       "  <thead>\n",
       "    <tr style=\"text-align: right;\">\n",
       "      <th></th>\n",
       "      <th>pclass</th>\n",
       "      <th>fare</th>\n",
       "    </tr>\n",
       "  </thead>\n",
       "  <tbody>\n",
       "    <tr>\n",
       "      <th>0</th>\n",
       "      <td>1</td>\n",
       "      <td>87.508992</td>\n",
       "    </tr>\n",
       "    <tr>\n",
       "      <th>1</th>\n",
       "      <td>2</td>\n",
       "      <td>21.221717</td>\n",
       "    </tr>\n",
       "    <tr>\n",
       "      <th>2</th>\n",
       "      <td>3</td>\n",
       "      <td>13.397114</td>\n",
       "    </tr>\n",
       "  </tbody>\n",
       "</table>\n",
       "</div>"
      ],
      "text/plain": [
       "   pclass       fare\n",
       "0       1  87.508992\n",
       "1       2  21.221717\n",
       "2       3  13.397114"
      ]
     },
     "execution_count": 33,
     "metadata": {},
     "output_type": "execute_result"
    }
   ],
   "source": [
    "the_titanic_df.groupby(['pclass'], as_index=False)['fare'].mean()"
   ]
  },
  {
   "cell_type": "markdown",
   "metadata": {},
   "source": [
    "### Analyzing survival statistics based on family size."
   ]
  },
  {
   "cell_type": "code",
   "execution_count": 81,
   "metadata": {},
   "outputs": [
    {
     "name": "stdout",
     "output_type": "stream",
     "text": [
      "        count  sum      mean\n",
      "family                      \n",
      "0.0       780  239  0.306410\n",
      "1.0       234  126  0.538462\n",
      "2.0       158   89  0.563291\n",
      "3.0        43   30  0.697674\n",
      "4.0        22    6  0.272727\n",
      "5.0        25    5  0.200000\n",
      "6.0        16    4  0.250000\n",
      "7.0         8    0  0.000000\n",
      "10.0       11    0  0.000000\n"
     ]
    }
   ],
   "source": [
    "family_class_survival = the_titanic_df.groupby(['family'])['survived'].agg(['count', 'sum', 'mean'])\n",
    "print(family_class_survival)"
   ]
  },
  {
   "cell_type": "code",
   "execution_count": 52,
   "metadata": {},
   "outputs": [
    {
     "data": {
      "application/vnd.microsoft.datawrangler.viewer.v0+json": {
       "columns": [
        {
         "name": "index",
         "rawType": "int64",
         "type": "integer"
        },
        {
         "name": "fare",
         "rawType": "float64",
         "type": "float"
        },
        {
         "name": "survived",
         "rawType": "float64",
         "type": "float"
        }
       ],
       "conversionMethod": "pd.DataFrame",
       "ref": "30656684-41a3-4315-9e8d-722027c66de4",
       "rows": [
        [
         "0",
         "0.0",
         "0.11764705882352941"
        ],
        [
         "1",
         "3.1708",
         "1.0"
        ],
        [
         "2",
         "4.0125",
         "0.0"
        ],
        [
         "3",
         "5.0",
         "0.0"
        ],
        [
         "4",
         "6.2375",
         "0.0"
        ],
        [
         "5",
         "6.4375",
         "0.0"
        ],
        [
         "6",
         "6.45",
         "0.0"
        ],
        [
         "7",
         "6.4958",
         "0.0"
        ],
        [
         "8",
         "6.75",
         "0.0"
        ],
        [
         "9",
         "6.8583",
         "0.0"
        ],
        [
         "10",
         "6.95",
         "0.5"
        ],
        [
         "11",
         "6.975",
         "0.5"
        ],
        [
         "12",
         "7.0",
         "0.5"
        ],
        [
         "13",
         "7.0458",
         "0.0"
        ],
        [
         "14",
         "7.05",
         "0.1111111111111111"
        ],
        [
         "15",
         "7.0542",
         "0.0"
        ],
        [
         "16",
         "7.125",
         "0.0"
        ],
        [
         "17",
         "7.1417",
         "1.0"
        ],
        [
         "18",
         "7.225",
         "0.25"
        ],
        [
         "19",
         "7.2292",
         "0.2916666666666667"
        ],
        [
         "20",
         "7.25",
         "0.058823529411764705"
        ],
        [
         "21",
         "7.2833",
         "0.0"
        ],
        [
         "22",
         "7.3125",
         "0.0"
        ],
        [
         "23",
         "7.4958",
         "0.3333333333333333"
        ],
        [
         "24",
         "7.5208",
         "0.0"
        ],
        [
         "25",
         "7.55",
         "0.3333333333333333"
        ],
        [
         "26",
         "7.575",
         "0.0"
        ],
        [
         "27",
         "7.5792",
         "1.0"
        ],
        [
         "28",
         "7.6292",
         "0.0"
        ],
        [
         "29",
         "7.65",
         "0.5"
        ],
        [
         "30",
         "7.7208",
         "1.0"
        ],
        [
         "31",
         "7.725",
         "0.5"
        ],
        [
         "32",
         "7.7292",
         "0.0"
        ],
        [
         "33",
         "7.7333",
         "0.42857142857142855"
        ],
        [
         "34",
         "7.7375",
         "0.5"
        ],
        [
         "35",
         "7.7417",
         "0.0"
        ],
        [
         "36",
         "7.75",
         "0.3090909090909091"
        ],
        [
         "37",
         "7.775",
         "0.2692307692307692"
        ],
        [
         "38",
         "7.7792",
         "1.0"
        ],
        [
         "39",
         "7.7875",
         "1.0"
        ],
        [
         "40",
         "7.7958",
         "0.5"
        ],
        [
         "41",
         "7.8",
         "0.0"
        ],
        [
         "42",
         "7.8208",
         "1.0"
        ],
        [
         "43",
         "7.8292",
         "0.3333333333333333"
        ],
        [
         "44",
         "7.85",
         "0.0"
        ],
        [
         "45",
         "7.8542",
         "0.19047619047619047"
        ],
        [
         "46",
         "7.875",
         "0.0"
        ],
        [
         "47",
         "7.8792",
         "0.4"
        ],
        [
         "48",
         "7.8875",
         "0.5"
        ],
        [
         "49",
         "7.8958",
         "0.02040816326530612"
        ]
       ],
       "shape": {
        "columns": 2,
        "rows": 281
       }
      },
      "text/html": [
       "<div>\n",
       "<style scoped>\n",
       "    .dataframe tbody tr th:only-of-type {\n",
       "        vertical-align: middle;\n",
       "    }\n",
       "\n",
       "    .dataframe tbody tr th {\n",
       "        vertical-align: top;\n",
       "    }\n",
       "\n",
       "    .dataframe thead th {\n",
       "        text-align: right;\n",
       "    }\n",
       "</style>\n",
       "<table border=\"1\" class=\"dataframe\">\n",
       "  <thead>\n",
       "    <tr style=\"text-align: right;\">\n",
       "      <th></th>\n",
       "      <th>fare</th>\n",
       "      <th>survived</th>\n",
       "    </tr>\n",
       "  </thead>\n",
       "  <tbody>\n",
       "    <tr>\n",
       "      <th>0</th>\n",
       "      <td>0.0000</td>\n",
       "      <td>0.117647</td>\n",
       "    </tr>\n",
       "    <tr>\n",
       "      <th>1</th>\n",
       "      <td>3.1708</td>\n",
       "      <td>1.000000</td>\n",
       "    </tr>\n",
       "    <tr>\n",
       "      <th>2</th>\n",
       "      <td>4.0125</td>\n",
       "      <td>0.000000</td>\n",
       "    </tr>\n",
       "    <tr>\n",
       "      <th>3</th>\n",
       "      <td>5.0000</td>\n",
       "      <td>0.000000</td>\n",
       "    </tr>\n",
       "    <tr>\n",
       "      <th>4</th>\n",
       "      <td>6.2375</td>\n",
       "      <td>0.000000</td>\n",
       "    </tr>\n",
       "    <tr>\n",
       "      <th>...</th>\n",
       "      <td>...</td>\n",
       "      <td>...</td>\n",
       "    </tr>\n",
       "    <tr>\n",
       "      <th>276</th>\n",
       "      <td>227.5250</td>\n",
       "      <td>0.600000</td>\n",
       "    </tr>\n",
       "    <tr>\n",
       "      <th>277</th>\n",
       "      <td>247.5208</td>\n",
       "      <td>0.666667</td>\n",
       "    </tr>\n",
       "    <tr>\n",
       "      <th>278</th>\n",
       "      <td>262.3750</td>\n",
       "      <td>0.857143</td>\n",
       "    </tr>\n",
       "    <tr>\n",
       "      <th>279</th>\n",
       "      <td>263.0000</td>\n",
       "      <td>0.666667</td>\n",
       "    </tr>\n",
       "    <tr>\n",
       "      <th>280</th>\n",
       "      <td>512.3292</td>\n",
       "      <td>1.000000</td>\n",
       "    </tr>\n",
       "  </tbody>\n",
       "</table>\n",
       "<p>281 rows × 2 columns</p>\n",
       "</div>"
      ],
      "text/plain": [
       "         fare  survived\n",
       "0      0.0000  0.117647\n",
       "1      3.1708  1.000000\n",
       "2      4.0125  0.000000\n",
       "3      5.0000  0.000000\n",
       "4      6.2375  0.000000\n",
       "..        ...       ...\n",
       "276  227.5250  0.600000\n",
       "277  247.5208  0.666667\n",
       "278  262.3750  0.857143\n",
       "279  263.0000  0.666667\n",
       "280  512.3292  1.000000\n",
       "\n",
       "[281 rows x 2 columns]"
      ]
     },
     "execution_count": 52,
     "metadata": {},
     "output_type": "execute_result"
    }
   ],
   "source": [
    "s=the_titanic_df.groupby(['fare'], as_index=False)['survived'].mean()\n",
    "\n",
    "s"
   ]
  },
  {
   "cell_type": "markdown",
   "metadata": {},
   "source": [
    "### Analyzing survival rates based on embarkation point."
   ]
  },
  {
   "cell_type": "code",
   "execution_count": 54,
   "metadata": {},
   "outputs": [
    {
     "data": {
      "application/vnd.microsoft.datawrangler.viewer.v0+json": {
       "columns": [
        {
         "name": "embarked",
         "rawType": "object",
         "type": "string"
        },
        {
         "name": "stotal_passengers",
         "rawType": "int64",
         "type": "integer"
        },
        {
         "name": "survivors",
         "rawType": "int64",
         "type": "integer"
        },
        {
         "name": "survivor_rate",
         "rawType": "float64",
         "type": "float"
        }
       ],
       "conversionMethod": "pd.DataFrame",
       "ref": "ebce336b-1f3c-4210-b462-2c7c0c428b99",
       "rows": [
        [
         "C",
         "267",
         "150",
         "0.5617977528089888"
        ],
        [
         "Q",
         "122",
         "44",
         "0.36065573770491804"
        ],
        [
         "S",
         "908",
         "305",
         "0.33590308370044053"
        ]
       ],
       "shape": {
        "columns": 3,
        "rows": 3
       }
      },
      "text/html": [
       "<div>\n",
       "<style scoped>\n",
       "    .dataframe tbody tr th:only-of-type {\n",
       "        vertical-align: middle;\n",
       "    }\n",
       "\n",
       "    .dataframe tbody tr th {\n",
       "        vertical-align: top;\n",
       "    }\n",
       "\n",
       "    .dataframe thead th {\n",
       "        text-align: right;\n",
       "    }\n",
       "</style>\n",
       "<table border=\"1\" class=\"dataframe\">\n",
       "  <thead>\n",
       "    <tr style=\"text-align: right;\">\n",
       "      <th></th>\n",
       "      <th>stotal_passengers</th>\n",
       "      <th>survivors</th>\n",
       "      <th>survivor_rate</th>\n",
       "    </tr>\n",
       "    <tr>\n",
       "      <th>embarked</th>\n",
       "      <th></th>\n",
       "      <th></th>\n",
       "      <th></th>\n",
       "    </tr>\n",
       "  </thead>\n",
       "  <tbody>\n",
       "    <tr>\n",
       "      <th>C</th>\n",
       "      <td>267</td>\n",
       "      <td>150</td>\n",
       "      <td>0.561798</td>\n",
       "    </tr>\n",
       "    <tr>\n",
       "      <th>Q</th>\n",
       "      <td>122</td>\n",
       "      <td>44</td>\n",
       "      <td>0.360656</td>\n",
       "    </tr>\n",
       "    <tr>\n",
       "      <th>S</th>\n",
       "      <td>908</td>\n",
       "      <td>305</td>\n",
       "      <td>0.335903</td>\n",
       "    </tr>\n",
       "  </tbody>\n",
       "</table>\n",
       "</div>"
      ],
      "text/plain": [
       "          stotal_passengers  survivors  survivor_rate\n",
       "embarked                                             \n",
       "C                       267        150       0.561798\n",
       "Q                       122         44       0.360656\n",
       "S                       908        305       0.335903"
      ]
     },
     "execution_count": 54,
     "metadata": {},
     "output_type": "execute_result"
    }
   ],
   "source": [
    "embarked_stats = the_titanic_df.groupby('embarked').agg(\n",
    "    stotal_passengers=('survived', 'count'),\n",
    "    survivors=('survived', 'sum'),\n",
    "    survivor_rate=('survived', 'mean')\n",
    ")\n",
    "embarked_stats"
   ]
  },
  {
   "cell_type": "markdown",
   "metadata": {},
   "source": [
    "### Analyzing the distribution of passengers by embarkation point and class."
   ]
  },
  {
   "cell_type": "code",
   "execution_count": 61,
   "metadata": {},
   "outputs": [
    {
     "data": {
      "application/vnd.microsoft.datawrangler.viewer.v0+json": {
       "columns": [
        {
         "name": "embarked",
         "rawType": "object",
         "type": "string"
        },
        {
         "name": "1",
         "rawType": "int64",
         "type": "integer"
        },
        {
         "name": "2",
         "rawType": "int64",
         "type": "integer"
        },
        {
         "name": "3",
         "rawType": "int64",
         "type": "integer"
        }
       ],
       "conversionMethod": "pd.DataFrame",
       "ref": "9f1be882-54cc-455f-b79f-9d65f596eba5",
       "rows": [
        [
         "C",
         "141",
         "28",
         "98"
        ],
        [
         "Q",
         "3",
         "7",
         "112"
        ],
        [
         "S",
         "179",
         "243",
         "486"
        ]
       ],
       "shape": {
        "columns": 3,
        "rows": 3
       }
      },
      "text/html": [
       "<div>\n",
       "<style scoped>\n",
       "    .dataframe tbody tr th:only-of-type {\n",
       "        vertical-align: middle;\n",
       "    }\n",
       "\n",
       "    .dataframe tbody tr th {\n",
       "        vertical-align: top;\n",
       "    }\n",
       "\n",
       "    .dataframe thead th {\n",
       "        text-align: right;\n",
       "    }\n",
       "</style>\n",
       "<table border=\"1\" class=\"dataframe\">\n",
       "  <thead>\n",
       "    <tr style=\"text-align: right;\">\n",
       "      <th>pclass</th>\n",
       "      <th>1</th>\n",
       "      <th>2</th>\n",
       "      <th>3</th>\n",
       "    </tr>\n",
       "    <tr>\n",
       "      <th>embarked</th>\n",
       "      <th></th>\n",
       "      <th></th>\n",
       "      <th></th>\n",
       "    </tr>\n",
       "  </thead>\n",
       "  <tbody>\n",
       "    <tr>\n",
       "      <th>C</th>\n",
       "      <td>141</td>\n",
       "      <td>28</td>\n",
       "      <td>98</td>\n",
       "    </tr>\n",
       "    <tr>\n",
       "      <th>Q</th>\n",
       "      <td>3</td>\n",
       "      <td>7</td>\n",
       "      <td>112</td>\n",
       "    </tr>\n",
       "    <tr>\n",
       "      <th>S</th>\n",
       "      <td>179</td>\n",
       "      <td>243</td>\n",
       "      <td>486</td>\n",
       "    </tr>\n",
       "  </tbody>\n",
       "</table>\n",
       "</div>"
      ],
      "text/plain": [
       "pclass      1    2    3\n",
       "embarked               \n",
       "C         141   28   98\n",
       "Q           3    7  112\n",
       "S         179  243  486"
      ]
     },
     "execution_count": 61,
     "metadata": {},
     "output_type": "execute_result"
    }
   ],
   "source": [
    "embarked_pclass = the_titanic_df.groupby(['embarked', 'pclass']).size().unstack()\n",
    "embarked_pclass"
   ]
  },
  {
   "cell_type": "markdown",
   "metadata": {},
   "source": [
    "### Calculating the average fare for each embarkation point."
   ]
  },
  {
   "cell_type": "code",
   "execution_count": 62,
   "metadata": {},
   "outputs": [
    {
     "data": {
      "text/plain": [
       "embarked\n",
       "C    62.901328\n",
       "Q    12.448191\n",
       "S    27.726981\n",
       "Name: fare, dtype: float64"
      ]
     },
     "execution_count": 62,
     "metadata": {},
     "output_type": "execute_result"
    }
   ],
   "source": [
    "the_titanic_df.groupby('embarked')['fare'].mean()"
   ]
  },
  {
   "cell_type": "markdown",
   "metadata": {},
   "source": [
    "#### Visualization of Findings from Analysis"
   ]
  },
  {
   "cell_type": "markdown",
   "metadata": {},
   "source": [
    "#### passenger class average survival rate"
   ]
  },
  {
   "cell_type": "code",
   "execution_count": 67,
   "metadata": {},
   "outputs": [
    {
     "data": {
      "image/png": "[encoded data removed]",
      "text/plain": [
       "<Figure size 800x600 with 1 Axes>"
      ]
     },
     "metadata": {},
     "output_type": "display_data"
    }
   ],
   "source": [
    "# Create a bar plot to visualize the average survival rate by passenger class\n",
    "plt.figure(figsize=(8, 6))\n",
    "sns.barplot(x='pclass', y='survived', data=the_titanic_df, hue='pclass', palette='Set2')   \n",
    "plt.title('Average Survival Rate by Passenger Class')\n",
    "plt.ylabel('Survival Rate')\n",
    "plt.xlabel('Passenger Class')\n",
    "plt.ylim(0, 1)\n",
    "plt.show()"
   ]
  },
  {
   "cell_type": "markdown",
   "metadata": {},
   "source": [
    "#### average survival rate of gender distribution"
   ]
  },
  {
   "cell_type": "code",
   "execution_count": 68,
   "metadata": {},
   "outputs": [
    {
     "data": {
      "image/png": "[encoded data removed]",
      "text/plain": [
       "<Figure size 800x600 with 1 Axes>"
      ]
     },
     "metadata": {},
     "output_type": "display_data"
    }
   ],
   "source": [
    "# Create a barplot to visualize survival rate by gender\n",
    "plt.figure(figsize=(8, 6))\n",
    "sns.barplot(x='gender', y='survived', data=the_titanic_df, hue='gender', palette='Set2')\n",
    "plt.title('Average Survival Rate by Gender')\n",
    "plt.ylabel('Survival Rate')\n",
    "plt.xlabel('Gender')\n",
    "plt.ylim(0, 1)\n",
    "plt.show()"
   ]
  },
  {
   "cell_type": "markdown",
   "metadata": {},
   "source": [
    "#### Average Survival Rate by Age"
   ]
  },
  {
   "cell_type": "code",
   "execution_count": 72,
   "metadata": {},
   "outputs": [
    {
     "data": {
      "image/png": "[encoded data removed]",
      "text/plain": [
       "<Figure size 1000x600 with 1 Axes>"
      ]
     },
     "metadata": {},
     "output_type": "display_data"
    }
   ],
   "source": [
    "# Bin the age into categories\n",
    "age_bins = np.arange(0, the_titanic_df['age'].max() + 10, 10)  # Creating age bins of 10 years\n",
    "the_titanic_df['age_group'] = pd.cut(the_titanic_df['age'], bins=age_bins)\n",
    "age_survival = the_titanic_df.groupby('age_group')['survived'].mean().reset_index()\n",
    "\n",
    "age_survival['age_group'] = age_survival['age_group'].astype(str)\n",
    "\n",
    "# Plot the survival rate by age group\n",
    "plt.figure(figsize=(10, 6))\n",
    "sns.lineplot(x='age_group', y='survived', data=age_survival, marker='o', color='b')\n",
    "\n",
    "plt.title('Average Survival Rate by Age Group')\n",
    "plt.ylabel('Survival Rate')\n",
    "plt.xlabel('Age Group')\n",
    "plt.xticks(rotation=45)\n",
    "plt.ylim(0, 1)\n",
    "plt.show()"
   ]
  },
  {
   "cell_type": "markdown",
   "metadata": {},
   "source": [
    "#### Average Survival Rate by Age"
   ]
  },
  {
   "cell_type": "code",
   "execution_count": 75,
   "metadata": {},
   "outputs": [
    {
     "data": {
      "image/png": "[encoded data removed]",
      "text/plain": [
       "<Figure size 1000x600 with 1 Axes>"
      ]
     },
     "metadata": {},
     "output_type": "display_data"
    }
   ],
   "source": [
    "plt.figure(figsize=(10, 6))\n",
    "sns.barplot(x='pclass', y='survived', data=the_titanic_df,)\n",
    "plt.title('Survival by Passenger Class')\n",
    "plt.ylabel('Count')\n",
    "plt.xlabel('Passanger Class')\n",
    "plt.ylim(0, 1)\n",
    "plt.show()"
   ]
  },
  {
   "cell_type": "markdown",
   "metadata": {},
   "source": [
    "#### heat map of relevant features..numerical values"
   ]
  },
  {
   "cell_type": "code",
   "execution_count": 79,
   "metadata": {},
   "outputs": [
    {
     "data": {
      "image/png": "[encoded data removed]",
      "text/plain": [
       "<Figure size 800x600 with 2 Axes>"
      ]
     },
     "metadata": {},
     "output_type": "display_data"
    }
   ],
   "source": [
    "relevant_features = ['pclass', 'age', 'gender', 'survived']\n",
    "data = the_titanic_df[relevant_features].copy()\n",
    "data = pd.get_dummies(data, columns=['gender'], drop_first=True)\n",
    "correlation_matrix = data.corr()\n",
    "plt.figure(figsize=(8, 6))\n",
    "sns.heatmap(correlation_matrix, annot=True, fmt=\".2f\", cmap=\"coolwarm\", cbar=True)\n",
    "plt.title('Correlation Heatmap of Relevant Features (with One-Hot Encoded Gender)')\n",
    "plt.show()"
   ]
  },
  {
   "cell_type": "code",
   "execution_count": 76,
   "metadata": {},
   "outputs": [
    {
     "data": {
      "image/png": "[encoded data removed]",
      "text/plain": [
       "<Figure size 1000x600 with 1 Axes>"
      ]
     },
     "metadata": {},
     "output_type": "display_data"
    }
   ],
   "source": [
    "# Heatmap to show the count of passengers per embarkation port and passenger class\n",
    "plt.figure(figsize=(10, 6))\n",
    "sns.heatmap(embarked_pclass, annot=True, cmap='Blues', fmt='d', cbar=False)\n",
    "plt.title('Count of Passengers by Embarkation Port and Passenger Class')\n",
    "plt.ylabel('Embarkation Port')\n",
    "plt.xlabel('Passenger Class')\n",
    "plt.show()"
   ]
  },
  {
   "cell_type": "code",
   "execution_count": 78,
   "metadata": {},
   "outputs": [
    {
     "data": {
      "image/png": "[encoded data removed]",
      "text/plain": [
       "<Figure size 1000x600 with 1 Axes>"
      ]
     },
     "metadata": {},
     "output_type": "display_data"
    }
   ],
   "source": [
    "# Bar plot for survival statistics by embarkation port\n",
    "embarked_stats = embarked_stats.reset_index()  # Reset index to make 'embarked' a column for plotting\n",
    "embarked_stats_melted = embarked_stats.melt(id_vars='embarked', value_vars=['stotal_passengers', 'survivors'],\n",
    "                                             var_name='Metric', value_name='Value')\n",
    "\n",
    "plt.figure(figsize=(10, 6))\n",
    "sns.barplot(x='embarked', y='Value', hue='Metric', data=embarked_stats_melted, palette='Set2')\n",
    "plt.title('Survival Statistics by Embarkation Port')\n",
    "plt.ylabel('Value')\n",
    "plt.xlabel('Embarkation Port')\n",
    "plt.show()"
   ]
  },
  {
   "cell_type": "code",
   "execution_count": 83,
   "metadata": {},
   "outputs": [
    {
     "data": {
      "image/png": "[encoded data removed]",
      "text/plain": [
       "<Figure size 1000x600 with 1 Axes>"
      ]
     },
     "metadata": {},
     "output_type": "display_data"
    }
   ],
   "source": [
    "# family_class_survival = the_titanic_df.groupby('family')['survived'].agg(['count', 'sum', 'mean']).reset_index()\n",
    "\n",
    "# Plotting the survival statistics for different family sizes\n",
    "plt.figure(figsize=(10, 6))\n",
    "sns.lineplot(x='family', y='mean', data=family_class_survival, marker='o', color='b', label='Survival Rate')\n",
    "# sns.lineplot(x='family', y='count', data=family_class_survival, marker='x', color='r', label='Passenger Count')\n",
    "plt.title('Survival Rate by Family Size')\n",
    "plt.ylabel('Value')\n",
    "plt.xlabel('Family Size')\n",
    "plt.legend()\n",
    "plt.show()"
   ]
  },
  {
   "cell_type": "code",
   "execution_count": 84,
   "metadata": {},
   "outputs": [
    {
     "data": {
      "image/png": "[encoded data removed]",
      "text/plain": [
       "<Figure size 1000x600 with 1 Axes>"
      ]
     },
     "metadata": {},
     "output_type": "display_data"
    }
   ],
   "source": [
    "# Group by passenger class and calculate the mean fare\n",
    "pclass_fare = the_titanic_df.groupby('pclass')['fare'].mean().reset_index()\n",
    "\n",
    "# Plotting the average fare by passenger class\n",
    "plt.figure(figsize=(10, 6))\n",
    "sns.barplot(x='pclass', y='fare', data=pclass_fare, palette='Set2')\n",
    "plt.title('Average Fare by Passenger Class')\n",
    "plt.ylabel('Average Fare')\n",
    "plt.xlabel('Passenger Class')\n",
    "plt.show()"
   ]
  }
 ],
 "metadata": {
  "kernelspec": {
   "display_name": "base",
   "language": "python",
   "name": "python3"
  },
  "language_info": {
   "codemirror_mode": {
    "name": "ipython",
    "version": 3
   },
   "file_extension": ".py",
   "mimetype": "text/x-python",
   "name": "python",
   "nbconvert_exporter": "python",
   "pygments_lexer": "ipython3",
   "version": "3.11.5"
  }
 },
 "nbformat": 4,
 "nbformat_minor": 2
}
