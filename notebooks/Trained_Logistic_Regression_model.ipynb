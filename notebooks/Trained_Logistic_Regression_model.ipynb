{
  "cells": [
    {
      "cell_type": "markdown",
      "metadata": {
        "id": "6BcfaCTmbKhY"
      },
      "source": [
        "Checking explored data before building the ml model"
      ]
    },
    {
      "cell_type": "code",
<<<<<<< Updated upstream
      "execution_count": 18,
=======
      "execution_count": 6,
>>>>>>> Stashed changes
      "metadata": {
        "id": "myQz7CtlbKCq"
      },
      "outputs": [],
      "source": [
        "import pandas as pd\n",
        "import numpy as np"
      ]
    },
    {
      "cell_type": "code",
<<<<<<< Updated upstream
      "execution_count": 19,
=======
      "execution_count": 7,
>>>>>>> Stashed changes
      "metadata": {
        "colab": {
          "base_uri": "https://localhost:8080/",
          "height": 206
        },
        "id": "52T7FHdSbTPH",
        "outputId": "dff3fdd6-1e02-4202-dc8c-280958b19fe0"
      },
      "outputs": [
        {
          "data": {
            "application/vnd.microsoft.datawrangler.viewer.v0+json": {
              "columns": [
                {
                  "name": "index",
                  "rawType": "int64",
                  "type": "integer"
                },
                {
<<<<<<< Updated upstream
                  "name": "Unnamed: 0",
                  "rawType": "int64",
                  "type": "integer"
                },
                {
=======
>>>>>>> Stashed changes
                  "name": "sn",
                  "rawType": "int64",
                  "type": "integer"
                },
                {
                  "name": "pclass",
                  "rawType": "int64",
                  "type": "integer"
                },
                {
                  "name": "survived",
                  "rawType": "int64",
                  "type": "integer"
                },
                {
                  "name": "name",
                  "rawType": "object",
                  "type": "string"
                },
                {
                  "name": "gender",
                  "rawType": "object",
                  "type": "string"
                },
                {
                  "name": "age",
                  "rawType": "float64",
                  "type": "float"
                },
                {
                  "name": "family",
                  "rawType": "float64",
                  "type": "float"
                },
                {
                  "name": "fare",
                  "rawType": "float64",
                  "type": "float"
                },
                {
                  "name": "embarked",
                  "rawType": "object",
                  "type": "string"
                },
                {
                  "name": "date",
                  "rawType": "object",
                  "type": "string"
<<<<<<< Updated upstream
                },
                {
                  "name": "encoded_gender",
                  "rawType": "int64",
                  "type": "integer"
                },
                {
                  "name": "encoded_embarked",
                  "rawType": "int64",
                  "type": "integer"
                }
              ],
              "conversionMethod": "pd.DataFrame",
              "ref": "e2f93dcf-dffa-4158-8531-4653a4605c59",
              "rows": [
                [
                  "0",
                  "0",
=======
                }
              ],
              "conversionMethod": "pd.DataFrame",
              "ref": "7c654810-e6fa-412c-976b-9b7c4ff3243d",
              "rows": [
                [
                  "0",
>>>>>>> Stashed changes
                  "1",
                  "3",
                  "0",
                  "Mr. Anthony",
                  "male",
                  "42.0",
                  "0.0",
                  "7.55",
                  "S",
<<<<<<< Updated upstream
                  "01-Jan-90",
                  "1",
                  "2"
=======
                  "01-Jan-90"
>>>>>>> Stashed changes
                ],
                [
                  "1",
                  "2",
<<<<<<< Updated upstream
                  "2",
=======
>>>>>>> Stashed changes
                  "3",
                  "0",
                  "Master. Eugene Joseph",
                  "male",
                  "29.0",
                  "2.0",
                  "20.25",
                  "S",
<<<<<<< Updated upstream
                  "02-Jan-90",
                  "1",
                  "2"
=======
                  "02-Jan-90"
>>>>>>> Stashed changes
                ],
                [
                  "2",
                  "3",
<<<<<<< Updated upstream
                  "3",
=======
>>>>>>> Stashed changes
                  "2",
                  "0",
                  "Abbott, Mr. Rossmore Edward",
                  "male",
                  "29.0",
                  "2.0",
                  "33.0",
                  "S",
<<<<<<< Updated upstream
                  "03-Jan-90",
                  "1",
                  "2"
                ],
                [
                  "3",
                  "5",
=======
                  "03-Jan-90"
                ],
                [
                  "3",
                  "4",
                  "3",
                  "1",
                  "Abbott, Mr. Rossmore Edward",
                  "female",
                  "35.0",
                  "2.0",
                  "20.25",
                  "S",
                  "04-Jan-90"
                ],
                [
                  "4",
>>>>>>> Stashed changes
                  "5",
                  "3",
                  "1",
                  "Abelseth, Miss. Karen Marie",
                  "female",
                  "16.0",
                  "0.0",
                  "7.65",
                  "S",
<<<<<<< Updated upstream
                  "05-Jan-90",
                  "0",
                  "2"
                ],
                [
                  "4",
                  "6",
                  "6",
                  "3",
                  "1",
                  "Abelseth, Mr. Olaus Jorgensen",
                  "male",
                  "25.0",
                  "0.0",
                  "7.65",
                  "S",
                  "06-Jan-90",
                  "1",
                  "2"
                ]
              ],
              "shape": {
                "columns": 13,
=======
                  "05-Jan-90"
                ]
              ],
              "shape": {
                "columns": 10,
>>>>>>> Stashed changes
                "rows": 5
              }
            },
            "text/html": [
              "<div>\n",
              "<style scoped>\n",
              "    .dataframe tbody tr th:only-of-type {\n",
              "        vertical-align: middle;\n",
              "    }\n",
              "\n",
              "    .dataframe tbody tr th {\n",
              "        vertical-align: top;\n",
              "    }\n",
              "\n",
              "    .dataframe thead th {\n",
              "        text-align: right;\n",
              "    }\n",
              "</style>\n",
              "<table border=\"1\" class=\"dataframe\">\n",
              "  <thead>\n",
              "    <tr style=\"text-align: right;\">\n",
              "      <th></th>\n",
<<<<<<< Updated upstream
              "      <th>Unnamed: 0</th>\n",
=======
>>>>>>> Stashed changes
              "      <th>sn</th>\n",
              "      <th>pclass</th>\n",
              "      <th>survived</th>\n",
              "      <th>name</th>\n",
              "      <th>gender</th>\n",
              "      <th>age</th>\n",
              "      <th>family</th>\n",
              "      <th>fare</th>\n",
              "      <th>embarked</th>\n",
              "      <th>date</th>\n",
<<<<<<< Updated upstream
              "      <th>encoded_gender</th>\n",
              "      <th>encoded_embarked</th>\n",
=======
>>>>>>> Stashed changes
              "    </tr>\n",
              "  </thead>\n",
              "  <tbody>\n",
              "    <tr>\n",
              "      <th>0</th>\n",
<<<<<<< Updated upstream
              "      <td>0</td>\n",
=======
>>>>>>> Stashed changes
              "      <td>1</td>\n",
              "      <td>3</td>\n",
              "      <td>0</td>\n",
              "      <td>Mr. Anthony</td>\n",
              "      <td>male</td>\n",
              "      <td>42.0</td>\n",
              "      <td>0.0</td>\n",
              "      <td>7.55</td>\n",
              "      <td>S</td>\n",
              "      <td>01-Jan-90</td>\n",
<<<<<<< Updated upstream
              "      <td>1</td>\n",
              "      <td>2</td>\n",
=======
>>>>>>> Stashed changes
              "    </tr>\n",
              "    <tr>\n",
              "      <th>1</th>\n",
              "      <td>2</td>\n",
<<<<<<< Updated upstream
              "      <td>2</td>\n",
=======
>>>>>>> Stashed changes
              "      <td>3</td>\n",
              "      <td>0</td>\n",
              "      <td>Master. Eugene Joseph</td>\n",
              "      <td>male</td>\n",
              "      <td>29.0</td>\n",
              "      <td>2.0</td>\n",
              "      <td>20.25</td>\n",
              "      <td>S</td>\n",
              "      <td>02-Jan-90</td>\n",
<<<<<<< Updated upstream
              "      <td>1</td>\n",
              "      <td>2</td>\n",
=======
>>>>>>> Stashed changes
              "    </tr>\n",
              "    <tr>\n",
              "      <th>2</th>\n",
              "      <td>3</td>\n",
<<<<<<< Updated upstream
              "      <td>3</td>\n",
=======
>>>>>>> Stashed changes
              "      <td>2</td>\n",
              "      <td>0</td>\n",
              "      <td>Abbott, Mr. Rossmore Edward</td>\n",
              "      <td>male</td>\n",
              "      <td>29.0</td>\n",
              "      <td>2.0</td>\n",
              "      <td>33.00</td>\n",
              "      <td>S</td>\n",
              "      <td>03-Jan-90</td>\n",
<<<<<<< Updated upstream
              "      <td>1</td>\n",
              "      <td>2</td>\n",
              "    </tr>\n",
              "    <tr>\n",
              "      <th>3</th>\n",
              "      <td>5</td>\n",
=======
              "    </tr>\n",
              "    <tr>\n",
              "      <th>3</th>\n",
              "      <td>4</td>\n",
              "      <td>3</td>\n",
              "      <td>1</td>\n",
              "      <td>Abbott, Mr. Rossmore Edward</td>\n",
              "      <td>female</td>\n",
              "      <td>35.0</td>\n",
              "      <td>2.0</td>\n",
              "      <td>20.25</td>\n",
              "      <td>S</td>\n",
              "      <td>04-Jan-90</td>\n",
              "    </tr>\n",
              "    <tr>\n",
              "      <th>4</th>\n",
>>>>>>> Stashed changes
              "      <td>5</td>\n",
              "      <td>3</td>\n",
              "      <td>1</td>\n",
              "      <td>Abelseth, Miss. Karen Marie</td>\n",
              "      <td>female</td>\n",
              "      <td>16.0</td>\n",
              "      <td>0.0</td>\n",
              "      <td>7.65</td>\n",
              "      <td>S</td>\n",
              "      <td>05-Jan-90</td>\n",
<<<<<<< Updated upstream
              "      <td>0</td>\n",
              "      <td>2</td>\n",
              "    </tr>\n",
              "    <tr>\n",
              "      <th>4</th>\n",
              "      <td>6</td>\n",
              "      <td>6</td>\n",
              "      <td>3</td>\n",
              "      <td>1</td>\n",
              "      <td>Abelseth, Mr. Olaus Jorgensen</td>\n",
              "      <td>male</td>\n",
              "      <td>25.0</td>\n",
              "      <td>0.0</td>\n",
              "      <td>7.65</td>\n",
              "      <td>S</td>\n",
              "      <td>06-Jan-90</td>\n",
              "      <td>1</td>\n",
              "      <td>2</td>\n",
=======
>>>>>>> Stashed changes
              "    </tr>\n",
              "  </tbody>\n",
              "</table>\n",
              "</div>"
            ],
            "text/plain": [
<<<<<<< Updated upstream
              "   Unnamed: 0  sn  pclass  survived                           name  gender  \\\n",
              "0           0   1       3         0                    Mr. Anthony    male   \n",
              "1           2   2       3         0          Master. Eugene Joseph    male   \n",
              "2           3   3       2         0    Abbott, Mr. Rossmore Edward    male   \n",
              "3           5   5       3         1    Abelseth, Miss. Karen Marie  female   \n",
              "4           6   6       3         1  Abelseth, Mr. Olaus Jorgensen    male   \n",
              "\n",
              "    age  family   fare embarked       date  encoded_gender  encoded_embarked  \n",
              "0  42.0     0.0   7.55        S  01-Jan-90               1                 2  \n",
              "1  29.0     2.0  20.25        S  02-Jan-90               1                 2  \n",
              "2  29.0     2.0  33.00        S  03-Jan-90               1                 2  \n",
              "3  16.0     0.0   7.65        S  05-Jan-90               0                 2  \n",
              "4  25.0     0.0   7.65        S  06-Jan-90               1                 2  "
            ]
          },
          "execution_count": 19,
=======
              "   sn  pclass  survived                         name  gender   age  family  \\\n",
              "0   1       3         0                  Mr. Anthony    male  42.0     0.0   \n",
              "1   2       3         0        Master. Eugene Joseph    male  29.0     2.0   \n",
              "2   3       2         0  Abbott, Mr. Rossmore Edward    male  29.0     2.0   \n",
              "3   4       3         1  Abbott, Mr. Rossmore Edward  female  35.0     2.0   \n",
              "4   5       3         1  Abelseth, Miss. Karen Marie  female  16.0     0.0   \n",
              "\n",
              "    fare embarked       date  \n",
              "0   7.55        S  01-Jan-90  \n",
              "1  20.25        S  02-Jan-90  \n",
              "2  33.00        S  03-Jan-90  \n",
              "3  20.25        S  04-Jan-90  \n",
              "4   7.65        S  05-Jan-90  "
            ]
          },
          "execution_count": 7,
>>>>>>> Stashed changes
          "metadata": {},
          "output_type": "execute_result"
        }
      ],
      "source": [
        "df = pd.read_csv('../datasets/results/cleaned_and_explored_titanic_data.csv')\n",
        "df.head(5)"
      ]
    },
    {
      "cell_type": "code",
<<<<<<< Updated upstream
      "execution_count": 20,
=======
      "execution_count": 8,
>>>>>>> Stashed changes
      "metadata": {
        "id": "-7aFZB4abWZt"
      },
      "outputs": [
        {
          "data": {
            "text/plain": [
<<<<<<< Updated upstream
              "Unnamed: 0          0\n",
              "sn                  0\n",
              "pclass              0\n",
              "survived            0\n",
              "name                0\n",
              "gender              0\n",
              "age                 0\n",
              "family              0\n",
              "fare                0\n",
              "embarked            0\n",
              "date                0\n",
              "encoded_gender      0\n",
              "encoded_embarked    0\n",
              "dtype: int64"
            ]
          },
          "execution_count": 20,
=======
              "sn          0\n",
              "pclass      0\n",
              "survived    0\n",
              "name        0\n",
              "gender      0\n",
              "age         0\n",
              "family      2\n",
              "fare        0\n",
              "embarked    4\n",
              "date        0\n",
              "dtype: int64"
            ]
          },
          "execution_count": 8,
>>>>>>> Stashed changes
          "metadata": {},
          "output_type": "execute_result"
        }
      ],
      "source": [
        "df.isna().sum()"
      ]
    },
    {
      "cell_type": "markdown",
      "metadata": {
        "id": "1uQfbkUQb-j_"
      },
      "source": [
        "Training a logistic regression model to predict passenger survival based on cleaned and explored dataset, using a random forest classifier."
      ]
    },
    {
      "cell_type": "markdown",
      "metadata": {
        "id": "L4sMfs_3c_4f"
      },
      "source": [
        "* proceed to train a logistic regression model and a Random Forest classifier."
      ]
    },
    {
      "cell_type": "code",
<<<<<<< Updated upstream
      "execution_count": 21,
=======
      "execution_count": 9,
>>>>>>> Stashed changes
      "metadata": {
        "colab": {
          "base_uri": "https://localhost:8080/",
          "height": 80
        },
        "id": "lxcLWvYydJdj",
        "outputId": "987d1a0e-d90e-4cbc-9a88-6e291afef71c"
      },
      "outputs": [
        {
          "data": {
            "text/html": [
<<<<<<< Updated upstream
              "<style>#sk-container-id-4 {color: black;}#sk-container-id-4 pre{padding: 0;}#sk-container-id-4 div.sk-toggleable {background-color: white;}#sk-container-id-4 label.sk-toggleable__label {cursor: pointer;display: block;width: 100%;margin-bottom: 0;padding: 0.3em;box-sizing: border-box;text-align: center;}#sk-container-id-4 label.sk-toggleable__label-arrow:before {content: \"▸\";float: left;margin-right: 0.25em;color: #696969;}#sk-container-id-4 label.sk-toggleable__label-arrow:hover:before {color: black;}#sk-container-id-4 div.sk-estimator:hover label.sk-toggleable__label-arrow:before {color: black;}#sk-container-id-4 div.sk-toggleable__content {max-height: 0;max-width: 0;overflow: hidden;text-align: left;background-color: #f0f8ff;}#sk-container-id-4 div.sk-toggleable__content pre {margin: 0.2em;color: black;border-radius: 0.25em;background-color: #f0f8ff;}#sk-container-id-4 input.sk-toggleable__control:checked~div.sk-toggleable__content {max-height: 200px;max-width: 100%;overflow: auto;}#sk-container-id-4 input.sk-toggleable__control:checked~label.sk-toggleable__label-arrow:before {content: \"▾\";}#sk-container-id-4 div.sk-estimator input.sk-toggleable__control:checked~label.sk-toggleable__label {background-color: #d4ebff;}#sk-container-id-4 div.sk-label input.sk-toggleable__control:checked~label.sk-toggleable__label {background-color: #d4ebff;}#sk-container-id-4 input.sk-hidden--visually {border: 0;clip: rect(1px 1px 1px 1px);clip: rect(1px, 1px, 1px, 1px);height: 1px;margin: -1px;overflow: hidden;padding: 0;position: absolute;width: 1px;}#sk-container-id-4 div.sk-estimator {font-family: monospace;background-color: #f0f8ff;border: 1px dotted black;border-radius: 0.25em;box-sizing: border-box;margin-bottom: 0.5em;}#sk-container-id-4 div.sk-estimator:hover {background-color: #d4ebff;}#sk-container-id-4 div.sk-parallel-item::after {content: \"\";width: 100%;border-bottom: 1px solid gray;flex-grow: 1;}#sk-container-id-4 div.sk-label:hover label.sk-toggleable__label {background-color: #d4ebff;}#sk-container-id-4 div.sk-serial::before {content: \"\";position: absolute;border-left: 1px solid gray;box-sizing: border-box;top: 0;bottom: 0;left: 50%;z-index: 0;}#sk-container-id-4 div.sk-serial {display: flex;flex-direction: column;align-items: center;background-color: white;padding-right: 0.2em;padding-left: 0.2em;position: relative;}#sk-container-id-4 div.sk-item {position: relative;z-index: 1;}#sk-container-id-4 div.sk-parallel {display: flex;align-items: stretch;justify-content: center;background-color: white;position: relative;}#sk-container-id-4 div.sk-item::before, #sk-container-id-4 div.sk-parallel-item::before {content: \"\";position: absolute;border-left: 1px solid gray;box-sizing: border-box;top: 0;bottom: 0;left: 50%;z-index: -1;}#sk-container-id-4 div.sk-parallel-item {display: flex;flex-direction: column;z-index: 1;position: relative;background-color: white;}#sk-container-id-4 div.sk-parallel-item:first-child::after {align-self: flex-end;width: 50%;}#sk-container-id-4 div.sk-parallel-item:last-child::after {align-self: flex-start;width: 50%;}#sk-container-id-4 div.sk-parallel-item:only-child::after {width: 0;}#sk-container-id-4 div.sk-dashed-wrapped {border: 1px dashed gray;margin: 0 0.4em 0.5em 0.4em;box-sizing: border-box;padding-bottom: 0.4em;background-color: white;}#sk-container-id-4 div.sk-label label {font-family: monospace;font-weight: bold;display: inline-block;line-height: 1.2em;}#sk-container-id-4 div.sk-label-container {text-align: center;}#sk-container-id-4 div.sk-container {/* jupyter's `normalize.less` sets `[hidden] { display: none; }` but bootstrap.min.css set `[hidden] { display: none !important; }` so we also need the `!important` here to be able to override the default hidden behavior on the sphinx rendered scikit-learn.org. See: https://github.com/scikit-learn/scikit-learn/issues/21755 */display: inline-block !important;position: relative;}#sk-container-id-4 div.sk-text-repr-fallback {display: none;}</style><div id=\"sk-container-id-4\" class=\"sk-top-container\"><div class=\"sk-text-repr-fallback\"><pre>RandomForestClassifier(random_state=42)</pre><b>In a Jupyter environment, please rerun this cell to show the HTML representation or trust the notebook. <br />On GitHub, the HTML representation is unable to render, please try loading this page with nbviewer.org.</b></div><div class=\"sk-container\" hidden><div class=\"sk-item\"><div class=\"sk-estimator sk-toggleable\"><input class=\"sk-toggleable__control sk-hidden--visually\" id=\"sk-estimator-id-4\" type=\"checkbox\" checked><label for=\"sk-estimator-id-4\" class=\"sk-toggleable__label sk-toggleable__label-arrow\">RandomForestClassifier</label><div class=\"sk-toggleable__content\"><pre>RandomForestClassifier(random_state=42)</pre></div></div></div></div></div>"
=======
              "<style>#sk-container-id-2 {color: black;}#sk-container-id-2 pre{padding: 0;}#sk-container-id-2 div.sk-toggleable {background-color: white;}#sk-container-id-2 label.sk-toggleable__label {cursor: pointer;display: block;width: 100%;margin-bottom: 0;padding: 0.3em;box-sizing: border-box;text-align: center;}#sk-container-id-2 label.sk-toggleable__label-arrow:before {content: \"▸\";float: left;margin-right: 0.25em;color: #696969;}#sk-container-id-2 label.sk-toggleable__label-arrow:hover:before {color: black;}#sk-container-id-2 div.sk-estimator:hover label.sk-toggleable__label-arrow:before {color: black;}#sk-container-id-2 div.sk-toggleable__content {max-height: 0;max-width: 0;overflow: hidden;text-align: left;background-color: #f0f8ff;}#sk-container-id-2 div.sk-toggleable__content pre {margin: 0.2em;color: black;border-radius: 0.25em;background-color: #f0f8ff;}#sk-container-id-2 input.sk-toggleable__control:checked~div.sk-toggleable__content {max-height: 200px;max-width: 100%;overflow: auto;}#sk-container-id-2 input.sk-toggleable__control:checked~label.sk-toggleable__label-arrow:before {content: \"▾\";}#sk-container-id-2 div.sk-estimator input.sk-toggleable__control:checked~label.sk-toggleable__label {background-color: #d4ebff;}#sk-container-id-2 div.sk-label input.sk-toggleable__control:checked~label.sk-toggleable__label {background-color: #d4ebff;}#sk-container-id-2 input.sk-hidden--visually {border: 0;clip: rect(1px 1px 1px 1px);clip: rect(1px, 1px, 1px, 1px);height: 1px;margin: -1px;overflow: hidden;padding: 0;position: absolute;width: 1px;}#sk-container-id-2 div.sk-estimator {font-family: monospace;background-color: #f0f8ff;border: 1px dotted black;border-radius: 0.25em;box-sizing: border-box;margin-bottom: 0.5em;}#sk-container-id-2 div.sk-estimator:hover {background-color: #d4ebff;}#sk-container-id-2 div.sk-parallel-item::after {content: \"\";width: 100%;border-bottom: 1px solid gray;flex-grow: 1;}#sk-container-id-2 div.sk-label:hover label.sk-toggleable__label {background-color: #d4ebff;}#sk-container-id-2 div.sk-serial::before {content: \"\";position: absolute;border-left: 1px solid gray;box-sizing: border-box;top: 0;bottom: 0;left: 50%;z-index: 0;}#sk-container-id-2 div.sk-serial {display: flex;flex-direction: column;align-items: center;background-color: white;padding-right: 0.2em;padding-left: 0.2em;position: relative;}#sk-container-id-2 div.sk-item {position: relative;z-index: 1;}#sk-container-id-2 div.sk-parallel {display: flex;align-items: stretch;justify-content: center;background-color: white;position: relative;}#sk-container-id-2 div.sk-item::before, #sk-container-id-2 div.sk-parallel-item::before {content: \"\";position: absolute;border-left: 1px solid gray;box-sizing: border-box;top: 0;bottom: 0;left: 50%;z-index: -1;}#sk-container-id-2 div.sk-parallel-item {display: flex;flex-direction: column;z-index: 1;position: relative;background-color: white;}#sk-container-id-2 div.sk-parallel-item:first-child::after {align-self: flex-end;width: 50%;}#sk-container-id-2 div.sk-parallel-item:last-child::after {align-self: flex-start;width: 50%;}#sk-container-id-2 div.sk-parallel-item:only-child::after {width: 0;}#sk-container-id-2 div.sk-dashed-wrapped {border: 1px dashed gray;margin: 0 0.4em 0.5em 0.4em;box-sizing: border-box;padding-bottom: 0.4em;background-color: white;}#sk-container-id-2 div.sk-label label {font-family: monospace;font-weight: bold;display: inline-block;line-height: 1.2em;}#sk-container-id-2 div.sk-label-container {text-align: center;}#sk-container-id-2 div.sk-container {/* jupyter's `normalize.less` sets `[hidden] { display: none; }` but bootstrap.min.css set `[hidden] { display: none !important; }` so we also need the `!important` here to be able to override the default hidden behavior on the sphinx rendered scikit-learn.org. See: https://github.com/scikit-learn/scikit-learn/issues/21755 */display: inline-block !important;position: relative;}#sk-container-id-2 div.sk-text-repr-fallback {display: none;}</style><div id=\"sk-container-id-2\" class=\"sk-top-container\"><div class=\"sk-text-repr-fallback\"><pre>RandomForestClassifier(random_state=42)</pre><b>In a Jupyter environment, please rerun this cell to show the HTML representation or trust the notebook. <br />On GitHub, the HTML representation is unable to render, please try loading this page with nbviewer.org.</b></div><div class=\"sk-container\" hidden><div class=\"sk-item\"><div class=\"sk-estimator sk-toggleable\"><input class=\"sk-toggleable__control sk-hidden--visually\" id=\"sk-estimator-id-2\" type=\"checkbox\" checked><label for=\"sk-estimator-id-2\" class=\"sk-toggleable__label sk-toggleable__label-arrow\">RandomForestClassifier</label><div class=\"sk-toggleable__content\"><pre>RandomForestClassifier(random_state=42)</pre></div></div></div></div></div>"
>>>>>>> Stashed changes
            ],
            "text/plain": [
              "RandomForestClassifier(random_state=42)"
            ]
          },
<<<<<<< Updated upstream
          "execution_count": 21,
=======
          "execution_count": 9,
>>>>>>> Stashed changes
          "metadata": {},
          "output_type": "execute_result"
        }
      ],
      "source": [
        "from sklearn.model_selection import train_test_split\n",
        "from sklearn.preprocessing import StandardScaler, OneHotEncoder\n",
        "from sklearn.compose import ColumnTransformer\n",
        "from sklearn.pipeline import Pipeline\n",
        "from sklearn.impute import SimpleImputer\n",
        "\n",
        "features = ['pclass', 'gender', 'age', 'family', 'fare', 'embarked']\n",
        "X = df[features]\n",
        "y = df['survived']\n",
        "\n",
        "X_train, X_test, y_train, y_test = train_test_split(X, y, test_size=0.2, random_state=42)\n",
        "\n",
        "numeric_features = ['age', 'family', 'fare']\n",
        "\n",
        "numeric_transformer = Pipeline(steps=[\n",
        "    ('imputer', SimpleImputer(strategy='mean')),\n",
        "    ('scaler', StandardScaler())])\n",
        "\n",
        "categorical_features = ['pclass', 'gender', 'embarked']\n",
        "\n",
        "categorical_transformer = Pipeline(steps=[\n",
        "    ('imputer', SimpleImputer(strategy='most_frequent')),\n",
        "    ('onehot', OneHotEncoder(handle_unknown='ignore'))])\n",
        "\n",
        "preprocessor = ColumnTransformer(\n",
        "    transformers=[\n",
        "        ('num', numeric_transformer, numeric_features),\n",
        "        ('cat', categorical_transformer, categorical_features)])\n",
        "\n",
        "clf = Pipeline(steps=[('preprocessor', preprocessor)])\n",
        "X_train_processed = clf.fit_transform(X_train)\n",
        "X_test_processed = clf.transform(X_test)\n",
        "\n",
        "# Now, proceed to train the models as before\n",
        "from sklearn.linear_model import LogisticRegression\n",
        "from sklearn.ensemble import RandomForestClassifier\n",
        "\n",
        "log_reg = LogisticRegression(max_iter=1000, random_state=42)\n",
        "log_reg.fit(X_train_processed, y_train)\n",
        "\n",
        "rf = RandomForestClassifier(random_state=42)\n",
        "rf.fit(X_train_processed, y_train)"
      ]
    },
    {
      "cell_type": "markdown",
      "metadata": {
        "id": "ucvYhQGwdn3u"
      },
      "source": [
        "Evaluating the model performance"
      ]
    },
    {
      "cell_type": "code",
<<<<<<< Updated upstream
      "execution_count": 22,
=======
      "execution_count": 10,
>>>>>>> Stashed changes
      "metadata": {
        "colab": {
          "base_uri": "https://localhost:8080/"
        },
        "id": "QIGuBEXYdr5p",
        "outputId": "d6fd1005-469b-460b-ffd2-563046ca9505"
      },
      "outputs": [
        {
          "name": "stdout",
          "output_type": "stream",
          "text": [
            "Logistic Regression Performance:\n",
<<<<<<< Updated upstream
            "Accuracy: 0.7654\n",
            "Precision: 0.6979\n",
            "Recall: 0.6768\n",
            "F1 Score: 0.6872\n",
=======
            "Accuracy: 0.8154\n",
            "Precision: 0.7556\n",
            "Recall: 0.7234\n",
            "F1 Score: 0.7391\n",
>>>>>>> Stashed changes
            "\n",
            "Classification Report:\n",
            "              precision    recall  f1-score   support\n",
            "\n",
<<<<<<< Updated upstream
            "           0       0.80      0.82      0.81       161\n",
            "           1       0.70      0.68      0.69        99\n",
            "\n",
            "    accuracy                           0.77       260\n",
            "   macro avg       0.75      0.75      0.75       260\n",
            "weighted avg       0.76      0.77      0.76       260\n",
            "\n",
            "\n",
            "Random Forest Performance:\n",
            "Accuracy: 0.7846\n",
            "Precision: 0.7087\n",
            "Recall: 0.7374\n",
            "F1 Score: 0.7228\n",
            "\n",
            "Classification Report:\n"
          ]
        },
        {
          "name": "stdout",
          "output_type": "stream",
          "text": [
            "              precision    recall  f1-score   support\n",
            "\n",
            "           0       0.83      0.81      0.82       161\n",
            "           1       0.71      0.74      0.72        99\n",
            "\n",
            "    accuracy                           0.78       260\n",
            "   macro avg       0.77      0.78      0.77       260\n",
            "weighted avg       0.79      0.78      0.79       260\n",
=======
            "           0       0.85      0.87      0.86       166\n",
            "           1       0.76      0.72      0.74        94\n",
            "\n",
            "    accuracy                           0.82       260\n",
            "   macro avg       0.80      0.80      0.80       260\n",
            "weighted avg       0.81      0.82      0.81       260\n",
            "\n",
            "\n",
            "Random Forest Performance:\n",
            "Accuracy: 0.7615\n",
            "Precision: 0.6905\n",
            "Recall: 0.6170\n",
            "F1 Score: 0.6517\n",
            "\n",
            "Classification Report:\n",
            "              precision    recall  f1-score   support\n",
            "\n",
            "           0       0.80      0.84      0.82       166\n",
            "           1       0.69      0.62      0.65        94\n",
            "\n",
            "    accuracy                           0.76       260\n",
            "   macro avg       0.74      0.73      0.74       260\n",
            "weighted avg       0.76      0.76      0.76       260\n",
>>>>>>> Stashed changes
            "\n"
          ]
        }
      ],
      "source": [
        "from sklearn.metrics import accuracy_score, precision_score, recall_score, f1_score, classification_report\n",
        "\n",
        "def evaluate_model(model, X_test, y_test):\n",
        "    y_pred = model.predict(X_test)\n",
        "\n",
        "    accuracy = accuracy_score(y_test, y_pred)\n",
        "    precision = precision_score(y_test, y_pred)\n",
        "    recall = recall_score(y_test, y_pred)\n",
        "    f1 = f1_score(y_test, y_pred)\n",
        "\n",
        "    print(f\"Accuracy: {accuracy:.4f}\")\n",
        "    print(f\"Precision: {precision:.4f}\")\n",
        "    print(f\"Recall: {recall:.4f}\")\n",
        "    print(f\"F1 Score: {f1:.4f}\")\n",
        "    print(\"\\nClassification Report:\")\n",
        "    print(classification_report(y_test, y_pred))\n",
        "\n",
        "    return accuracy, precision, recall, f1\n",
        "\n",
        "print(\"Logistic Regression Performance:\")\n",
        "lr_metrics = evaluate_model(log_reg, X_test_processed, y_test)\n",
        "\n",
        "print(\"\\nRandom Forest Performance:\")\n",
        "rf_metrics = evaluate_model(rf, X_test_processed, y_test)"
      ]
    }
  ],
  "metadata": {
    "colab": {
      "provenance": []
    },
    "kernelspec": {
      "display_name": "base",
      "language": "python",
      "name": "python3"
    },
    "language_info": {
      "codemirror_mode": {
        "name": "ipython",
        "version": 3
      },
      "file_extension": ".py",
      "mimetype": "text/x-python",
      "name": "python",
      "nbconvert_exporter": "python",
      "pygments_lexer": "ipython3",
      "version": "3.11.5"
    }
  },
  "nbformat": 4,
  "nbformat_minor": 0
}
